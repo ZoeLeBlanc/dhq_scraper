{
 "cells": [
  {
   "cell_type": "code",
   "execution_count": 1,
   "metadata": {},
   "outputs": [],
   "source": [
    "import pandas as pd\n",
    "import os\n",
    "import altair as alt\n",
    "alt.renderers.enable('mimetype')\n",
    "alt.data_transformers.disable_max_rows()\n",
    "\n",
    "import nltk\n",
    "from nltk.tokenize import word_tokenize\n",
    "## If you haven't downloaded the NLTK data sets yet, do so:\n",
    "def download_nltk_data_if_needed(packages):\n",
    "    for package in packages:\n",
    "        try:\n",
    "            nltk.data.find(package)\n",
    "        except LookupError:\n",
    "            nltk.download(package)\n",
    "\n",
    "download_nltk_data_if_needed(['tokenizers/punkt', 'corpora/stopwords'])"
   ]
  },
  {
   "cell_type": "code",
   "execution_count": 2,
   "metadata": {},
   "outputs": [],
   "source": [
    "processed_df = pd.read_csv(\"../data/processed_dhq_data.csv\")"
   ]
  },
  {
   "cell_type": "code",
   "execution_count": 3,
   "metadata": {},
   "outputs": [],
   "source": [
    "processed_df['date_processed'] = pd.to_datetime(processed_df['date_processed'])"
   ]
  },
  {
   "cell_type": "code",
   "execution_count": 5,
   "metadata": {},
   "outputs": [
    {
     "data": {
      "application/vnd.vegalite.v5+json": {
       "$schema": "https://vega.github.io/schema/vega-lite/v5.20.1.json",
       "config": {
        "view": {
         "continuousHeight": 300,
         "continuousWidth": 300
        }
       },
       "datasets": {
        "data-00e7faa97e6e1c26db6e7f76f01e6631": [
         {
          "DHQarticle-id": 605,
          "articleType": "article",
          "date_processed": "2022-04-01T00:00:00",
          "language_ident": "en"
         },
         {
          "DHQarticle-id": 1,
          "articleType": "review",
          "date_processed": "2007-04-03T00:00:00",
          "language_ident": "en"
         },
         {
          "DHQarticle-id": 2,
          "articleType": "article",
          "date_processed": "2007-04-03T00:00:00",
          "language_ident": "en"
         },
         {
          "DHQarticle-id": 3,
          "articleType": "article",
          "date_processed": "2007-04-03T00:00:00",
          "language_ident": null
         },
         {
          "DHQarticle-id": 4,
          "articleType": "article",
          "date_processed": "2007-04-03T00:00:00",
          "language_ident": "en"
         },
         {
          "DHQarticle-id": 5,
          "articleType": "article",
          "date_processed": "2007-04-03T00:00:00",
          "language_ident": "en"
         },
         {
          "DHQarticle-id": 6,
          "articleType": "opinion",
          "date_processed": "2007-04-03T00:00:00",
          "language_ident": "en"
         },
         {
          "DHQarticle-id": 7,
          "articleType": "editorial",
          "date_processed": "2007-04-03T00:00:00",
          "language_ident": "en"
         },
         {
          "DHQarticle-id": 8,
          "articleType": "opinion",
          "date_processed": "2007-04-03T00:00:00",
          "language_ident": "en"
         },
         {
          "DHQarticle-id": 9,
          "articleType": "article",
          "date_processed": "2007-09-12T00:00:00",
          "language_ident": "en"
         },
         {
          "DHQarticle-id": 10,
          "articleType": "article",
          "date_processed": "2007-09-12T00:00:00",
          "language_ident": "en"
         },
         {
          "DHQarticle-id": 11,
          "articleType": "article",
          "date_processed": "2007-09-12T00:00:00",
          "language_ident": "en"
         },
         {
          "DHQarticle-id": 12,
          "articleType": "article",
          "date_processed": "2007-09-12T00:00:00",
          "language_ident": "en"
         },
         {
          "DHQarticle-id": 13,
          "articleType": "editorial",
          "date_processed": "2007-09-12T00:00:00",
          "language_ident": "en"
         },
         {
          "DHQarticle-id": 14,
          "articleType": "opinion",
          "date_processed": "2007-09-12T00:00:00",
          "language_ident": "en"
         },
         {
          "DHQarticle-id": 15,
          "articleType": "article",
          "date_processed": "2008-06-21T00:00:00",
          "language_ident": "en"
         },
         {
          "DHQarticle-id": 16,
          "articleType": "article",
          "date_processed": "2008-06-21T00:00:00",
          "language_ident": "en"
         },
         {
          "DHQarticle-id": 17,
          "articleType": "review",
          "date_processed": "2008-06-21T00:00:00",
          "language_ident": "en"
         },
         {
          "DHQarticle-id": 18,
          "articleType": "review",
          "date_processed": "2008-06-21T00:00:00",
          "language_ident": "en"
         },
         {
          "DHQarticle-id": 19,
          "articleType": "article",
          "date_processed": "2008-06-21T00:00:00",
          "language_ident": "en"
         },
         {
          "DHQarticle-id": 20,
          "articleType": "editorial",
          "date_processed": "2008-06-21T00:00:00",
          "language_ident": "en"
         },
         {
          "DHQarticle-id": 21,
          "articleType": "frontmatter",
          "date_processed": "2009-02-26T00:00:00",
          "language_ident": "en"
         },
         {
          "DHQarticle-id": 22,
          "articleType": "frontmatter",
          "date_processed": "2009-02-26T00:00:00",
          "language_ident": "en"
         },
         {
          "DHQarticle-id": 23,
          "articleType": "article",
          "date_processed": "2009-02-26T00:00:00",
          "language_ident": "en"
         },
         {
          "DHQarticle-id": 24,
          "articleType": "article",
          "date_processed": "2009-02-26T00:00:00",
          "language_ident": "en"
         },
         {
          "DHQarticle-id": 25,
          "articleType": "article",
          "date_processed": "2009-02-26T00:00:00",
          "language_ident": "en"
         },
         {
          "DHQarticle-id": 26,
          "articleType": "article",
          "date_processed": "2009-02-26T00:00:00",
          "language_ident": "en"
         },
         {
          "DHQarticle-id": 27,
          "articleType": "article",
          "date_processed": "2009-02-26T00:00:00",
          "language_ident": null
         },
         {
          "DHQarticle-id": 28,
          "articleType": "article",
          "date_processed": "2009-02-26T00:00:00",
          "language_ident": "en"
         },
         {
          "DHQarticle-id": 29,
          "articleType": "article",
          "date_processed": "2009-02-26T00:00:00",
          "language_ident": "en"
         },
         {
          "DHQarticle-id": 30,
          "articleType": "article",
          "date_processed": "2009-02-26T00:00:00",
          "language_ident": "en"
         },
         {
          "DHQarticle-id": 31,
          "articleType": "article",
          "date_processed": "2009-02-26T00:00:00",
          "language_ident": "en"
         },
         {
          "DHQarticle-id": 32,
          "articleType": "article",
          "date_processed": "2009-02-26T00:00:00",
          "language_ident": "en"
         },
         {
          "DHQarticle-id": 33,
          "articleType": "article",
          "date_processed": "2009-02-26T00:00:00",
          "language_ident": "en"
         },
         {
          "DHQarticle-id": 34,
          "articleType": "article",
          "date_processed": "2009-02-25T00:00:00",
          "language_ident": "en"
         },
         {
          "DHQarticle-id": 35,
          "articleType": "article",
          "date_processed": "2009-02-26T00:00:00",
          "language_ident": "en"
         },
         {
          "DHQarticle-id": 36,
          "articleType": "frontmatter",
          "date_processed": "2009-02-26T00:00:00",
          "language_ident": "en"
         },
         {
          "DHQarticle-id": 37,
          "articleType": "frontmatter",
          "date_processed": "2009-06-18T00:00:00",
          "language_ident": "en"
         },
         {
          "DHQarticle-id": 38,
          "articleType": "article",
          "date_processed": "2009-06-18T00:00:00",
          "language_ident": "en"
         },
         {
          "DHQarticle-id": 39,
          "articleType": "article",
          "date_processed": "2009-06-18T00:00:00",
          "language_ident": "en"
         },
         {
          "DHQarticle-id": 40,
          "articleType": "article",
          "date_processed": "2009-06-18T00:00:00",
          "language_ident": "en"
         },
         {
          "DHQarticle-id": 41,
          "articleType": "frontmatter",
          "date_processed": "2009-06-18T00:00:00",
          "language_ident": "en"
         },
         {
          "DHQarticle-id": 42,
          "articleType": "article",
          "date_processed": "2009-06-18T00:00:00",
          "language_ident": "en"
         },
         {
          "DHQarticle-id": 43,
          "articleType": "article",
          "date_processed": "2009-06-18T00:00:00",
          "language_ident": "en"
         },
         {
          "DHQarticle-id": 44,
          "articleType": "article",
          "date_processed": "2009-06-18T00:00:00",
          "language_ident": "en"
         },
         {
          "DHQarticle-id": 45,
          "articleType": "article",
          "date_processed": "2009-06-18T00:00:00",
          "language_ident": "en"
         },
         {
          "DHQarticle-id": 46,
          "articleType": "article",
          "date_processed": "2009-06-18T00:00:00",
          "language_ident": "en"
         },
         {
          "DHQarticle-id": 47,
          "articleType": "article",
          "date_processed": "2009-06-18T00:00:00",
          "language_ident": "en"
         },
         {
          "DHQarticle-id": 48,
          "articleType": "review",
          "date_processed": "2009-06-18T00:00:00",
          "language_ident": "en"
         },
         {
          "DHQarticle-id": 49,
          "articleType": "article",
          "date_processed": "2009-06-18T00:00:00",
          "language_ident": "en"
         },
         {
          "DHQarticle-id": 50,
          "articleType": "article",
          "date_processed": "2009-09-29T00:00:00",
          "language_ident": "en"
         },
         {
          "DHQarticle-id": 51,
          "articleType": "article",
          "date_processed": "2009-09-29T00:00:00",
          "language_ident": "en"
         },
         {
          "DHQarticle-id": 52,
          "articleType": "article",
          "date_processed": "2009-09-29T00:00:00",
          "language_ident": "en"
         },
         {
          "DHQarticle-id": 53,
          "articleType": "article",
          "date_processed": "2009-09-29T00:00:00",
          "language_ident": "en"
         },
         {
          "DHQarticle-id": 54,
          "articleType": "article",
          "date_processed": "2009-09-29T00:00:00",
          "language_ident": "en"
         },
         {
          "DHQarticle-id": 55,
          "articleType": "article",
          "date_processed": "2009-09-29T00:00:00",
          "language_ident": "en"
         },
         {
          "DHQarticle-id": 56,
          "articleType": "article",
          "date_processed": "2009-09-29T00:00:00",
          "language_ident": "en"
         },
         {
          "DHQarticle-id": 57,
          "articleType": "article",
          "date_processed": "2009-09-29T00:00:00",
          "language_ident": "en"
         },
         {
          "DHQarticle-id": 58,
          "articleType": "article",
          "date_processed": "2009-09-29T00:00:00",
          "language_ident": "en"
         },
         {
          "DHQarticle-id": 59,
          "articleType": "article",
          "date_processed": "2009-09-29T00:00:00",
          "language_ident": "en"
         },
         {
          "DHQarticle-id": 60,
          "articleType": "article",
          "date_processed": "2009-09-29T00:00:00",
          "language_ident": "en"
         },
         {
          "DHQarticle-id": 61,
          "articleType": "article",
          "date_processed": "2009-09-29T00:00:00",
          "language_ident": "en"
         },
         {
          "DHQarticle-id": 62,
          "articleType": "article",
          "date_processed": "2009-09-29T00:00:00",
          "language_ident": "en"
         },
         {
          "DHQarticle-id": 63,
          "articleType": "article",
          "date_processed": "2009-09-29T00:00:00",
          "language_ident": "en"
         },
         {
          "DHQarticle-id": 64,
          "articleType": "article",
          "date_processed": "2009-09-29T00:00:00",
          "language_ident": "en"
         },
         {
          "DHQarticle-id": 65,
          "articleType": "article",
          "date_processed": "2009-09-29T00:00:00",
          "language_ident": "en"
         },
         {
          "DHQarticle-id": 66,
          "articleType": "article",
          "date_processed": "2009-09-29T00:00:00",
          "language_ident": "en"
         },
         {
          "DHQarticle-id": 67,
          "articleType": "article",
          "date_processed": "2009-09-29T00:00:00",
          "language_ident": "en"
         },
         {
          "DHQarticle-id": 68,
          "articleType": "article",
          "date_processed": "2010-03-20T00:00:00",
          "language_ident": "en"
         },
         {
          "DHQarticle-id": 69,
          "articleType": "article",
          "date_processed": "2010-03-20T00:00:00",
          "language_ident": "en"
         },
         {
          "DHQarticle-id": 70,
          "articleType": "article",
          "date_processed": "2010-03-20T00:00:00",
          "language_ident": "en"
         },
         {
          "DHQarticle-id": 71,
          "articleType": "article",
          "date_processed": "2010-03-20T00:00:00",
          "language_ident": "en"
         },
         {
          "DHQarticle-id": 72,
          "articleType": "article",
          "date_processed": "2010-03-20T00:00:00",
          "language_ident": "en"
         },
         {
          "DHQarticle-id": 73,
          "articleType": "article",
          "date_processed": "2010-03-20T00:00:00",
          "language_ident": "en"
         },
         {
          "DHQarticle-id": 74,
          "articleType": "article",
          "date_processed": "2010-03-20T00:00:00",
          "language_ident": "en"
         },
         {
          "DHQarticle-id": 75,
          "articleType": "article",
          "date_processed": "2010-03-20T00:00:00",
          "language_ident": "en"
         },
         {
          "DHQarticle-id": 76,
          "articleType": "article",
          "date_processed": "2010-03-20T00:00:00",
          "language_ident": "en"
         },
         {
          "DHQarticle-id": 77,
          "articleType": "article",
          "date_processed": "2010-03-20T00:00:00",
          "language_ident": "en"
         },
         {
          "DHQarticle-id": 78,
          "articleType": "article",
          "date_processed": "2010-03-20T00:00:00",
          "language_ident": "en"
         },
         {
          "DHQarticle-id": 79,
          "articleType": "frontmatter",
          "date_processed": "2010-03-20T00:00:00",
          "language_ident": "en"
         },
         {
          "DHQarticle-id": 80,
          "articleType": "article",
          "date_processed": "2010-07-20T00:00:00",
          "language_ident": "en"
         },
         {
          "DHQarticle-id": 81,
          "articleType": "article",
          "date_processed": "2010-07-20T00:00:00",
          "language_ident": "en"
         },
         {
          "DHQarticle-id": 82,
          "articleType": "article",
          "date_processed": "2010-07-20T00:00:00",
          "language_ident": "en"
         },
         {
          "DHQarticle-id": 83,
          "articleType": "article",
          "date_processed": "2010-09-01T00:00:00",
          "language_ident": "en"
         },
         {
          "DHQarticle-id": 84,
          "articleType": "article",
          "date_processed": "2010-07-20T00:00:00",
          "language_ident": "en"
         },
         {
          "DHQarticle-id": 85,
          "articleType": "article",
          "date_processed": "2010-09-01T00:00:00",
          "language_ident": "en"
         },
         {
          "DHQarticle-id": 86,
          "articleType": "article",
          "date_processed": "2010-09-01T00:00:00",
          "language_ident": "en"
         },
         {
          "DHQarticle-id": 87,
          "articleType": "article",
          "date_processed": "2010-07-20T00:00:00",
          "language_ident": "en"
         },
         {
          "DHQarticle-id": 88,
          "articleType": "article",
          "date_processed": "2010-10-10T00:00:00",
          "language_ident": "en"
         },
         {
          "DHQarticle-id": 89,
          "articleType": "article",
          "date_processed": "2010-09-01T00:00:00",
          "language_ident": "en"
         },
         {
          "DHQarticle-id": 90,
          "articleType": "article",
          "date_processed": "2011-03-10T00:00:00",
          "language_ident": "en"
         },
         {
          "DHQarticle-id": 91,
          "articleType": "article",
          "date_processed": "2011-03-10T00:00:00",
          "language_ident": "en"
         },
         {
          "DHQarticle-id": 92,
          "articleType": "article",
          "date_processed": "2011-05-17T00:00:00",
          "language_ident": "en"
         },
         {
          "DHQarticle-id": 93,
          "articleType": "article",
          "date_processed": "2011-05-17T00:00:00",
          "language_ident": "en"
         },
         {
          "DHQarticle-id": 94,
          "articleType": "article",
          "date_processed": "2011-05-17T00:00:00",
          "language_ident": "en"
         },
         {
          "DHQarticle-id": 95,
          "articleType": "editorial",
          "date_processed": "2011-03-03T00:00:00",
          "language_ident": "en"
         },
         {
          "DHQarticle-id": 96,
          "articleType": "article",
          "date_processed": "2011-06-21T00:00:00",
          "language_ident": "en"
         },
         {
          "DHQarticle-id": 97,
          "articleType": "editorial",
          "date_processed": "2011-05-17T00:00:00",
          "language_ident": "en"
         },
         {
          "DHQarticle-id": 98,
          "articleType": "article",
          "date_processed": "2011-11-15T00:00:00",
          "language_ident": "en"
         },
         {
          "DHQarticle-id": 99,
          "articleType": "article",
          "date_processed": "2011-11-15T00:00:00",
          "language_ident": "en"
         },
         {
          "DHQarticle-id": 100,
          "articleType": "article",
          "date_processed": "2011-11-15T00:00:00",
          "language_ident": "en"
         },
         {
          "DHQarticle-id": 101,
          "articleType": "article",
          "date_processed": "2011-05-02T00:00:00",
          "language_ident": "en"
         },
         {
          "DHQarticle-id": 102,
          "articleType": "article",
          "date_processed": "2011-06-27T00:00:00",
          "language_ident": "en"
         },
         {
          "DHQarticle-id": 103,
          "articleType": "article",
          "date_processed": "2011-11-15T00:00:00",
          "language_ident": "en"
         },
         {
          "DHQarticle-id": 104,
          "articleType": "article",
          "date_processed": "2011-11-15T00:00:00",
          "language_ident": "en"
         },
         {
          "DHQarticle-id": 105,
          "articleType": "article",
          "date_processed": "2011-11-15T00:00:00",
          "language_ident": "en"
         },
         {
          "DHQarticle-id": 106,
          "articleType": "article",
          "date_processed": "2011-06-27T00:00:00",
          "language_ident": "en"
         },
         {
          "DHQarticle-id": 107,
          "articleType": "editorial",
          "date_processed": "2011-06-27T00:00:00",
          "language_ident": "en"
         },
         {
          "DHQarticle-id": 108,
          "articleType": "article",
          "date_processed": "2011-09-12T00:00:00",
          "language_ident": "en"
         },
         {
          "DHQarticle-id": 109,
          "articleType": "frontmatter",
          "date_processed": "2011-11-15T00:00:00",
          "language_ident": "en"
         },
         {
          "DHQarticle-id": 110,
          "articleType": "article",
          "date_processed": "2012-01-25T00:00:00",
          "language_ident": "en"
         },
         {
          "DHQarticle-id": 111,
          "articleType": "article",
          "date_processed": "2012-10-25T00:00:00",
          "language_ident": "en"
         },
         {
          "DHQarticle-id": 112,
          "articleType": "article",
          "date_processed": "2012-05-24T00:00:00",
          "language_ident": "en"
         },
         {
          "DHQarticle-id": 113,
          "articleType": "article",
          "date_processed": "2012-06-26T00:00:00",
          "language_ident": "en"
         },
         {
          "DHQarticle-id": 114,
          "articleType": "article",
          "date_processed": "2013-07-01T00:00:00",
          "language_ident": "en"
         },
         {
          "DHQarticle-id": 115,
          "articleType": "article",
          "date_processed": "2013-07-01T00:00:00",
          "language_ident": "en"
         },
         {
          "DHQarticle-id": 116,
          "articleType": "article",
          "date_processed": "2013-10-10T00:00:00",
          "language_ident": "en"
         },
         {
          "DHQarticle-id": 117,
          "articleType": "article",
          "date_processed": "2012-05-18T00:00:00",
          "language_ident": "en"
         },
         {
          "DHQarticle-id": 118,
          "articleType": "article",
          "date_processed": "2012-10-05T00:00:00",
          "language_ident": "en"
         },
         {
          "DHQarticle-id": 119,
          "articleType": "opinion",
          "date_processed": "2012-07-31T00:00:00",
          "language_ident": "en"
         },
         {
          "DHQarticle-id": 120,
          "articleType": "article",
          "date_processed": "2012-07-11T00:00:00",
          "language_ident": "en"
         },
         {
          "DHQarticle-id": 121,
          "articleType": "article",
          "date_processed": "2012-10-12T00:00:00",
          "language_ident": "en"
         },
         {
          "DHQarticle-id": 122,
          "articleType": "article",
          "date_processed": "2012-11-01T00:00:00",
          "language_ident": "en"
         },
         {
          "DHQarticle-id": 123,
          "articleType": "article",
          "date_processed": "2012-10-26T00:00:00",
          "language_ident": "en"
         },
         {
          "DHQarticle-id": 124,
          "articleType": "article",
          "date_processed": "2012-08-16T00:00:00",
          "language_ident": "en"
         },
         {
          "DHQarticle-id": 125,
          "articleType": "article",
          "date_processed": "2012-10-12T00:00:00",
          "language_ident": "en"
         },
         {
          "DHQarticle-id": 126,
          "articleType": "article",
          "date_processed": "2012-10-05T00:00:00",
          "language_ident": "en"
         },
         {
          "DHQarticle-id": 127,
          "articleType": "article",
          "date_processed": "2012-07-31T00:00:00",
          "language_ident": "en"
         },
         {
          "DHQarticle-id": 128,
          "articleType": "article",
          "date_processed": "2012-10-26T00:00:00",
          "language_ident": "en"
         },
         {
          "DHQarticle-id": 129,
          "articleType": "article",
          "date_processed": "2012-07-31T00:00:00",
          "language_ident": "en"
         },
         {
          "DHQarticle-id": 130,
          "articleType": "article",
          "date_processed": "2012-11-27T00:00:00",
          "language_ident": "en"
         },
         {
          "DHQarticle-id": 131,
          "articleType": "article",
          "date_processed": "2012-11-27T00:00:00",
          "language_ident": "en"
         },
         {
          "DHQarticle-id": 132,
          "articleType": "article",
          "date_processed": "2012-11-27T00:00:00",
          "language_ident": "en"
         },
         {
          "DHQarticle-id": 133,
          "articleType": "article",
          "date_processed": "2012-11-27T00:00:00",
          "language_ident": "en"
         },
         {
          "DHQarticle-id": 134,
          "articleType": "article",
          "date_processed": "2012-11-27T00:00:00",
          "language_ident": "en"
         },
         {
          "DHQarticle-id": 135,
          "articleType": "article",
          "date_processed": "2012-11-27T00:00:00",
          "language_ident": "en"
         },
         {
          "DHQarticle-id": 136,
          "articleType": "article",
          "date_processed": "2012-10-12T00:00:00",
          "language_ident": "en"
         },
         {
          "DHQarticle-id": 137,
          "articleType": "article",
          "date_processed": "2012-10-12T00:00:00",
          "language_ident": "en"
         },
         {
          "DHQarticle-id": 138,
          "articleType": "article",
          "date_processed": "2012-10-12T00:00:00",
          "language_ident": "en"
         },
         {
          "DHQarticle-id": 139,
          "articleType": "article",
          "date_processed": "2012-10-12T00:00:00",
          "language_ident": "en"
         },
         {
          "DHQarticle-id": 140,
          "articleType": "article",
          "date_processed": "2013-07-01T00:00:00",
          "language_ident": "en"
         },
         {
          "DHQarticle-id": 141,
          "articleType": "article",
          "date_processed": "2012-11-26T00:00:00",
          "language_ident": "en"
         },
         {
          "DHQarticle-id": 142,
          "articleType": "article",
          "date_processed": "2013-07-01T00:00:00",
          "language_ident": "en"
         },
         {
          "DHQarticle-id": 143,
          "articleType": "article",
          "date_processed": "2013-07-01T00:00:00",
          "language_ident": "en"
         },
         {
          "DHQarticle-id": 144,
          "articleType": "article",
          "date_processed": "2013-07-01T00:00:00",
          "language_ident": "en"
         },
         {
          "DHQarticle-id": 145,
          "articleType": "article",
          "date_processed": "2013-07-01T00:00:00",
          "language_ident": "en"
         },
         {
          "DHQarticle-id": 146,
          "articleType": "article",
          "date_processed": "2013-07-01T00:00:00",
          "language_ident": "en"
         },
         {
          "DHQarticle-id": 147,
          "articleType": "article",
          "date_processed": "2013-07-01T00:00:00",
          "language_ident": "en"
         },
         {
          "DHQarticle-id": 148,
          "articleType": "article",
          "date_processed": "2013-07-01T00:00:00",
          "language_ident": "en"
         },
         {
          "DHQarticle-id": 149,
          "articleType": "article",
          "date_processed": "2013-07-02T00:00:00",
          "language_ident": "en"
         },
         {
          "DHQarticle-id": 150,
          "articleType": "article",
          "date_processed": "2013-07-03T00:00:00",
          "language_ident": "en"
         },
         {
          "DHQarticle-id": 151,
          "articleType": "article",
          "date_processed": "2013-07-01T00:00:00",
          "language_ident": "en"
         },
         {
          "DHQarticle-id": 152,
          "articleType": "article",
          "date_processed": "2013-07-01T00:00:00",
          "language_ident": "en"
         },
         {
          "DHQarticle-id": 153,
          "articleType": "article",
          "date_processed": "2013-07-01T00:00:00",
          "language_ident": "en"
         },
         {
          "DHQarticle-id": 154,
          "articleType": "frontmatter",
          "date_processed": "2013-07-01T00:00:00",
          "language_ident": "en"
         },
         {
          "DHQarticle-id": 155,
          "articleType": "article",
          "date_processed": "2013-07-01T00:00:00",
          "language_ident": "en"
         },
         {
          "DHQarticle-id": 156,
          "articleType": "article",
          "date_processed": "2013-07-01T00:00:00",
          "language_ident": "en"
         },
         {
          "DHQarticle-id": 157,
          "articleType": "article",
          "date_processed": "2013-07-01T00:00:00",
          "language_ident": "en"
         },
         {
          "DHQarticle-id": 158,
          "articleType": "review",
          "date_processed": "2013-10-10T00:00:00",
          "language_ident": "en"
         },
         {
          "DHQarticle-id": 159,
          "articleType": "article",
          "date_processed": "2013-10-10T00:00:00",
          "language_ident": "en"
         },
         {
          "DHQarticle-id": 160,
          "articleType": "review",
          "date_processed": "2013-10-10T00:00:00",
          "language_ident": "en"
         },
         {
          "DHQarticle-id": 161,
          "articleType": "article",
          "date_processed": "2013-07-01T00:00:00",
          "language_ident": "en"
         },
         {
          "DHQarticle-id": 162,
          "articleType": "article",
          "date_processed": "2013-12-19T00:00:00",
          "language_ident": "en"
         },
         {
          "DHQarticle-id": 163,
          "articleType": "article",
          "date_processed": "2013-10-10T00:00:00",
          "language_ident": "en"
         },
         {
          "DHQarticle-id": 164,
          "articleType": "opinion",
          "date_processed": "2013-10-12T00:00:00",
          "language_ident": "en"
         },
         {
          "DHQarticle-id": 165,
          "articleType": "article",
          "date_processed": "2013-12-19T00:00:00",
          "language_ident": "en"
         },
         {
          "DHQarticle-id": 166,
          "articleType": "article",
          "date_processed": "2013-12-19T00:00:00",
          "language_ident": "en"
         },
         {
          "DHQarticle-id": 167,
          "articleType": "article",
          "date_processed": "2013-12-19T00:00:00",
          "language_ident": "en"
         },
         {
          "DHQarticle-id": 168,
          "articleType": "article",
          "date_processed": "2014-04-17T00:00:00",
          "language_ident": "en"
         },
         {
          "DHQarticle-id": 169,
          "articleType": "article",
          "date_processed": "2014-04-30T00:00:00",
          "language_ident": "en"
         },
         {
          "DHQarticle-id": 170,
          "articleType": "article",
          "date_processed": "2014-04-01T00:00:00",
          "language_ident": "en"
         },
         {
          "DHQarticle-id": 171,
          "articleType": "review",
          "date_processed": "2014-04-17T00:00:00",
          "language_ident": "en"
         },
         {
          "DHQarticle-id": 172,
          "articleType": "article",
          "date_processed": "2014-04-24T00:00:00",
          "language_ident": "en"
         },
         {
          "DHQarticle-id": 173,
          "articleType": "article",
          "date_processed": "2014-04-30T00:00:00",
          "language_ident": "en"
         },
         {
          "DHQarticle-id": 174,
          "articleType": "article",
          "date_processed": "2014-04-17T00:00:00",
          "language_ident": "en"
         },
         {
          "DHQarticle-id": 175,
          "articleType": "article",
          "date_processed": "2014-04-17T00:00:00",
          "language_ident": "en"
         },
         {
          "DHQarticle-id": 176,
          "articleType": "article",
          "date_processed": "2014-04-01T00:00:00",
          "language_ident": "en"
         },
         {
          "DHQarticle-id": 177,
          "articleType": "review",
          "date_processed": "2014-07-18T00:00:00",
          "language_ident": "en"
         },
         {
          "DHQarticle-id": 178,
          "articleType": "article",
          "date_processed": "2014-07-18T00:00:00",
          "language_ident": "en"
         },
         {
          "DHQarticle-id": 179,
          "articleType": "article",
          "date_processed": "2014-05-29T00:00:00",
          "language_ident": "en"
         },
         {
          "DHQarticle-id": 180,
          "articleType": "article",
          "date_processed": "2014-07-18T00:00:00",
          "language_ident": "en"
         },
         {
          "DHQarticle-id": 181,
          "articleType": "article",
          "date_processed": "2014-07-18T00:00:00",
          "language_ident": "en"
         },
         {
          "DHQarticle-id": 182,
          "articleType": "article",
          "date_processed": "2014-10-09T00:00:00",
          "language_ident": "en"
         },
         {
          "DHQarticle-id": 183,
          "articleType": "editorial",
          "date_processed": "2014-10-09T00:00:00",
          "language_ident": "en"
         },
         {
          "DHQarticle-id": 184,
          "articleType": "article",
          "date_processed": "2014-10-09T00:00:00",
          "language_ident": "en"
         },
         {
          "DHQarticle-id": 185,
          "articleType": "article",
          "date_processed": "2014-10-09T00:00:00",
          "language_ident": "en"
         },
         {
          "DHQarticle-id": 186,
          "articleType": "article",
          "date_processed": "2015-09-02T00:00:00",
          "language_ident": "en"
         },
         {
          "DHQarticle-id": 187,
          "articleType": "article",
          "date_processed": "2014-12-20T00:00:00",
          "language_ident": "en"
         },
         {
          "DHQarticle-id": 188,
          "articleType": "article",
          "date_processed": "2014-10-09T00:00:00",
          "language_ident": "en"
         },
         {
          "DHQarticle-id": 189,
          "articleType": "review",
          "date_processed": "2014-10-09T00:00:00",
          "language_ident": "en"
         },
         {
          "DHQarticle-id": 190,
          "articleType": "article",
          "date_processed": "2014-12-20T00:00:00",
          "language_ident": "en"
         },
         {
          "DHQarticle-id": 191,
          "articleType": "review",
          "date_processed": "2014-10-09T00:00:00",
          "language_ident": "en"
         },
         {
          "DHQarticle-id": 192,
          "articleType": "article",
          "date_processed": "2014-12-25T00:00:00",
          "language_ident": "en"
         },
         {
          "DHQarticle-id": 193,
          "articleType": "review",
          "date_processed": "2015-12-03T00:00:00",
          "language_ident": "en"
         },
         {
          "DHQarticle-id": 194,
          "articleType": "article",
          "date_processed": "2014-12-20T00:00:00",
          "language_ident": "en"
         },
         {
          "DHQarticle-id": 195,
          "articleType": "article",
          "date_processed": "2014-12-20T00:00:00",
          "language_ident": "en"
         },
         {
          "DHQarticle-id": 196,
          "articleType": "article",
          "date_processed": "2014-12-20T00:00:00",
          "language_ident": "en"
         },
         {
          "DHQarticle-id": 197,
          "articleType": "review",
          "date_processed": "2014-12-25T00:00:00",
          "language_ident": "en"
         },
         {
          "DHQarticle-id": 198,
          "articleType": "article",
          "date_processed": "2015-05-26T00:00:00",
          "language_ident": "en"
         },
         {
          "DHQarticle-id": 199,
          "articleType": "article",
          "date_processed": "2015-02-28T00:00:00",
          "language_ident": "en"
         },
         {
          "DHQarticle-id": 200,
          "articleType": "article",
          "date_processed": "2015-09-02T00:00:00",
          "language_ident": "en"
         },
         {
          "DHQarticle-id": 201,
          "articleType": "article",
          "date_processed": "2015-09-02T00:00:00",
          "language_ident": "en"
         },
         {
          "DHQarticle-id": 202,
          "articleType": "article",
          "date_processed": "2015-09-02T00:00:00",
          "language_ident": "en"
         },
         {
          "DHQarticle-id": 203,
          "articleType": "article",
          "date_processed": "2015-05-26T00:00:00",
          "language_ident": "en"
         },
         {
          "DHQarticle-id": 204,
          "articleType": "article",
          "date_processed": "2015-05-26T00:00:00",
          "language_ident": "en"
         },
         {
          "DHQarticle-id": 205,
          "articleType": "article",
          "date_processed": "2015-05-21T00:00:00",
          "language_ident": "en"
         },
         {
          "DHQarticle-id": 206,
          "articleType": "editorial",
          "date_processed": "2015-05-26T00:00:00",
          "language_ident": "en"
         },
         {
          "DHQarticle-id": 207,
          "articleType": "review",
          "date_processed": "2015-05-26T00:00:00",
          "language_ident": "en"
         },
         {
          "DHQarticle-id": 208,
          "articleType": "article",
          "date_processed": "2015-09-02T00:00:00",
          "language_ident": "en"
         },
         {
          "DHQarticle-id": 209,
          "articleType": "article",
          "date_processed": "2015-09-02T00:00:00",
          "language_ident": "en"
         },
         {
          "DHQarticle-id": 210,
          "articleType": "article",
          "date_processed": "2015-12-23T00:00:00",
          "language_ident": "en"
         },
         {
          "DHQarticle-id": 211,
          "articleType": "article",
          "date_processed": "2015-09-02T00:00:00",
          "language_ident": "en"
         },
         {
          "DHQarticle-id": 212,
          "articleType": "article",
          "date_processed": "2015-12-23T00:00:00",
          "language_ident": "en"
         },
         {
          "DHQarticle-id": 213,
          "articleType": "article",
          "date_processed": "2015-08-07T00:00:00",
          "language_ident": "en"
         },
         {
          "DHQarticle-id": 214,
          "articleType": "article",
          "date_processed": "2015-12-23T00:00:00",
          "language_ident": "en"
         },
         {
          "DHQarticle-id": 215,
          "articleType": "article",
          "date_processed": "2015-08-25T00:00:00",
          "language_ident": "en"
         },
         {
          "DHQarticle-id": 216,
          "articleType": "article",
          "date_processed": "2015-09-02T00:00:00",
          "language_ident": "en"
         },
         {
          "DHQarticle-id": 217,
          "articleType": "article",
          "date_processed": "2015-08-26T00:00:00",
          "language_ident": "en"
         },
         {
          "DHQarticle-id": 218,
          "articleType": "article",
          "date_processed": "2015-12-23T00:00:00",
          "language_ident": "en"
         },
         {
          "DHQarticle-id": 219,
          "articleType": "review",
          "date_processed": "2015-09-01T00:00:00",
          "language_ident": "en"
         },
         {
          "DHQarticle-id": 220,
          "articleType": "review",
          "date_processed": "2015-12-23T00:00:00",
          "language_ident": "en"
         },
         {
          "DHQarticle-id": 221,
          "articleType": "article",
          "date_processed": "2015-12-01T00:00:00",
          "language_ident": "en"
         },
         {
          "DHQarticle-id": 222,
          "articleType": "article",
          "date_processed": "2015-12-23T00:00:00",
          "language_ident": "en"
         },
         {
          "DHQarticle-id": 223,
          "articleType": "article",
          "date_processed": "2015-12-23T00:00:00",
          "language_ident": "en"
         },
         {
          "DHQarticle-id": 224,
          "articleType": "article",
          "date_processed": "2015-12-23T00:00:00",
          "language_ident": "en"
         },
         {
          "DHQarticle-id": 225,
          "articleType": "article",
          "date_processed": "2015-12-23T00:00:00",
          "language_ident": "en"
         },
         {
          "DHQarticle-id": 226,
          "articleType": "review",
          "date_processed": "2016-02-12T00:00:00",
          "language_ident": "en"
         },
         {
          "DHQarticle-id": 227,
          "articleType": "article",
          "date_processed": "2015-12-03T00:00:00",
          "language_ident": "en"
         },
         {
          "DHQarticle-id": 228,
          "articleType": "article",
          "date_processed": "2016-02-12T00:00:00",
          "language_ident": "en"
         },
         {
          "DHQarticle-id": 229,
          "articleType": "article",
          "date_processed": "2016-02-12T00:00:00",
          "language_ident": "en"
         },
         {
          "DHQarticle-id": 230,
          "articleType": "article",
          "date_processed": "2015-12-23T00:00:00",
          "language_ident": "en"
         },
         {
          "DHQarticle-id": 231,
          "articleType": "article",
          "date_processed": "2016-02-12T00:00:00",
          "language_ident": "en"
         },
         {
          "DHQarticle-id": 232,
          "articleType": "article",
          "date_processed": "2016-02-12T00:00:00",
          "language_ident": "en"
         },
         {
          "DHQarticle-id": 233,
          "articleType": "article",
          "date_processed": "2016-02-12T00:00:00",
          "language_ident": "en"
         },
         {
          "DHQarticle-id": 234,
          "articleType": "article",
          "date_processed": "2015-12-23T00:00:00",
          "language_ident": "en"
         },
         {
          "DHQarticle-id": 235,
          "articleType": "article",
          "date_processed": "2016-02-12T00:00:00",
          "language_ident": "en"
         },
         {
          "DHQarticle-id": 236,
          "articleType": "article",
          "date_processed": "2016-02-12T00:00:00",
          "language_ident": "en"
         },
         {
          "DHQarticle-id": 237,
          "articleType": "article",
          "date_processed": "2015-12-31T00:00:00",
          "language_ident": "en"
         },
         {
          "DHQarticle-id": 238,
          "articleType": "article",
          "date_processed": "2016-02-12T00:00:00",
          "language_ident": "en"
         },
         {
          "DHQarticle-id": 239,
          "articleType": "article",
          "date_processed": "2016-02-12T00:00:00",
          "language_ident": "en"
         },
         {
          "DHQarticle-id": 240,
          "articleType": "article",
          "date_processed": "2016-02-12T00:00:00",
          "language_ident": "en"
         },
         {
          "DHQarticle-id": 241,
          "articleType": "article",
          "date_processed": "2016-02-03T00:00:00",
          "language_ident": "en"
         },
         {
          "DHQarticle-id": 242,
          "articleType": "review",
          "date_processed": "2016-06-07T00:00:00",
          "language_ident": "en"
         },
         {
          "DHQarticle-id": 243,
          "articleType": "article",
          "date_processed": "2016-06-07T00:00:00",
          "language_ident": "en"
         },
         {
          "DHQarticle-id": 244,
          "articleType": "article",
          "date_processed": "2016-07-12T00:00:00",
          "language_ident": "en"
         },
         {
          "DHQarticle-id": 245,
          "articleType": "article",
          "date_processed": "2016-05-27T00:00:00",
          "language_ident": "en"
         },
         {
          "DHQarticle-id": 246,
          "articleType": "article",
          "date_processed": "2016-05-19T00:00:00",
          "language_ident": "en"
         },
         {
          "DHQarticle-id": 247,
          "articleType": "article",
          "date_processed": "2016-06-07T00:00:00",
          "language_ident": "en"
         },
         {
          "DHQarticle-id": 248,
          "articleType": "article",
          "date_processed": "2016-05-19T00:00:00",
          "language_ident": "en"
         },
         {
          "DHQarticle-id": 249,
          "articleType": "article",
          "date_processed": "2016-06-07T00:00:00",
          "language_ident": "en"
         },
         {
          "DHQarticle-id": 250,
          "articleType": "article",
          "date_processed": "2016-06-07T00:00:00",
          "language_ident": "en"
         },
         {
          "DHQarticle-id": 251,
          "articleType": "article",
          "date_processed": "2016-06-07T00:00:00",
          "language_ident": "en"
         },
         {
          "DHQarticle-id": 252,
          "articleType": "article",
          "date_processed": "2016-06-07T00:00:00",
          "language_ident": "en"
         },
         {
          "DHQarticle-id": 253,
          "articleType": "article",
          "date_processed": "2016-06-07T00:00:00",
          "language_ident": "en"
         },
         {
          "DHQarticle-id": 254,
          "articleType": "article",
          "date_processed": "2016-07-12T00:00:00",
          "language_ident": "en"
         },
         {
          "DHQarticle-id": 255,
          "articleType": "article",
          "date_processed": "2016-06-06T00:00:00",
          "language_ident": "en"
         },
         {
          "DHQarticle-id": 256,
          "articleType": "article",
          "date_processed": "2016-08-15T00:00:00",
          "language_ident": "en"
         },
         {
          "DHQarticle-id": 257,
          "articleType": "article",
          "date_processed": "2016-08-03T00:00:00",
          "language_ident": "en"
         },
         {
          "DHQarticle-id": 258,
          "articleType": "article",
          "date_processed": "2016-06-17T00:00:00",
          "language_ident": "en"
         },
         {
          "DHQarticle-id": 259,
          "articleType": "article",
          "date_processed": "2016-10-04T00:00:00",
          "language_ident": "en"
         },
         {
          "DHQarticle-id": 260,
          "articleType": "article",
          "date_processed": "2016-07-12T00:00:00",
          "language_ident": "en"
         },
         {
          "DHQarticle-id": 261,
          "articleType": "article",
          "date_processed": "2016-09-09T00:00:00",
          "language_ident": "en"
         },
         {
          "DHQarticle-id": 262,
          "articleType": "article",
          "date_processed": "2016-07-12T00:00:00",
          "language_ident": "en"
         },
         {
          "DHQarticle-id": 263,
          "articleType": "article",
          "date_processed": "2016-07-28T00:00:00",
          "language_ident": "en"
         },
         {
          "DHQarticle-id": 264,
          "articleType": "article",
          "date_processed": "2016-08-10T00:00:00",
          "language_ident": "en"
         },
         {
          "DHQarticle-id": 265,
          "articleType": "article",
          "date_processed": "2016-10-04T00:00:00",
          "language_ident": "en"
         },
         {
          "DHQarticle-id": 266,
          "articleType": "article",
          "date_processed": "2016-07-12T00:00:00",
          "language_ident": "en"
         },
         {
          "DHQarticle-id": 267,
          "articleType": "article",
          "date_processed": "2016-08-17T00:00:00",
          "language_ident": "en"
         },
         {
          "DHQarticle-id": 268,
          "articleType": "article",
          "date_processed": "2016-10-04T00:00:00",
          "language_ident": "en"
         },
         {
          "DHQarticle-id": 269,
          "articleType": "article",
          "date_processed": "2016-10-04T00:00:00",
          "language_ident": "en"
         },
         {
          "DHQarticle-id": 270,
          "articleType": "article",
          "date_processed": "2016-10-04T00:00:00",
          "language_ident": "en"
         },
         {
          "DHQarticle-id": 271,
          "articleType": "article",
          "date_processed": "2016-10-10T00:00:00",
          "language_ident": "en"
         },
         {
          "DHQarticle-id": 272,
          "articleType": "article",
          "date_processed": "2016-10-24T00:00:00",
          "language_ident": "en"
         },
         {
          "DHQarticle-id": 273,
          "articleType": "article",
          "date_processed": "2016-11-08T00:00:00",
          "language_ident": "en"
         },
         {
          "DHQarticle-id": 274,
          "articleType": "review",
          "date_processed": "2016-11-29T00:00:00",
          "language_ident": "en"
         },
         {
          "DHQarticle-id": 275,
          "articleType": "article",
          "date_processed": "2016-11-08T00:00:00",
          "language_ident": "en"
         },
         {
          "DHQarticle-id": 276,
          "articleType": "article",
          "date_processed": "2016-11-29T00:00:00",
          "language_ident": "en"
         },
         {
          "DHQarticle-id": 277,
          "articleType": "editorial",
          "date_processed": "2016-11-08T00:00:00",
          "language_ident": "en"
         },
         {
          "DHQarticle-id": 278,
          "articleType": "article",
          "date_processed": "2016-11-22T00:00:00",
          "language_ident": "en"
         },
         {
          "DHQarticle-id": 279,
          "articleType": "article",
          "date_processed": "2017-01-19T00:00:00",
          "language_ident": "en"
         },
         {
          "DHQarticle-id": 280,
          "articleType": "article",
          "date_processed": "2016-11-22T00:00:00",
          "language_ident": "en"
         },
         {
          "DHQarticle-id": 281,
          "articleType": "article",
          "date_processed": "2016-11-29T00:00:00",
          "language_ident": "en"
         },
         {
          "DHQarticle-id": 282,
          "articleType": "article",
          "date_processed": "2016-12-01T00:00:00",
          "language_ident": "en"
         },
         {
          "DHQarticle-id": 283,
          "articleType": "article",
          "date_processed": "2016-11-29T00:00:00",
          "language_ident": "en"
         },
         {
          "DHQarticle-id": 284,
          "articleType": "article",
          "date_processed": "2017-01-10T00:00:00",
          "language_ident": "en"
         },
         {
          "DHQarticle-id": 285,
          "articleType": "article",
          "date_processed": "2017-03-16T00:00:00",
          "language_ident": "en"
         },
         {
          "DHQarticle-id": 286,
          "articleType": "article",
          "date_processed": "2017-02-14T00:00:00",
          "language_ident": "en"
         },
         {
          "DHQarticle-id": 287,
          "articleType": "article",
          "date_processed": "2017-02-07T00:00:00",
          "language_ident": "en"
         },
         {
          "DHQarticle-id": 288,
          "articleType": "article",
          "date_processed": "2017-02-20T00:00:00",
          "language_ident": "en"
         },
         {
          "DHQarticle-id": 289,
          "articleType": "article",
          "date_processed": "2017-05-02T00:00:00",
          "language_ident": "en"
         },
         {
          "DHQarticle-id": 290,
          "articleType": "article",
          "date_processed": "2017-02-27T00:00:00",
          "language_ident": "en"
         },
         {
          "DHQarticle-id": 291,
          "articleType": "article",
          "date_processed": "2017-05-22T00:00:00",
          "language_ident": "en"
         },
         {
          "DHQarticle-id": 292,
          "articleType": "article",
          "date_processed": "2017-05-22T00:00:00",
          "language_ident": "en"
         },
         {
          "DHQarticle-id": 293,
          "articleType": "article",
          "date_processed": "2017-05-22T00:00:00",
          "language_ident": "en"
         },
         {
          "DHQarticle-id": 294,
          "articleType": "article",
          "date_processed": "2017-05-22T00:00:00",
          "language_ident": "en"
         },
         {
          "DHQarticle-id": 295,
          "articleType": "article",
          "date_processed": "2017-05-22T00:00:00",
          "language_ident": "en"
         },
         {
          "DHQarticle-id": 296,
          "articleType": "article",
          "date_processed": "2017-05-22T00:00:00",
          "language_ident": "en"
         },
         {
          "DHQarticle-id": 297,
          "articleType": "article",
          "date_processed": "2017-05-22T00:00:00",
          "language_ident": "en"
         },
         {
          "DHQarticle-id": 298,
          "articleType": "article",
          "date_processed": "2017-05-22T00:00:00",
          "language_ident": "en"
         },
         {
          "DHQarticle-id": 299,
          "articleType": "article",
          "date_processed": "2017-03-12T00:00:00",
          "language_ident": "en"
         },
         {
          "DHQarticle-id": 300,
          "articleType": "article",
          "date_processed": "2017-05-02T00:00:00",
          "language_ident": "en"
         },
         {
          "DHQarticle-id": 302,
          "articleType": "article",
          "date_processed": "2017-10-02T00:00:00",
          "language_ident": "en"
         },
         {
          "DHQarticle-id": 303,
          "articleType": "article",
          "date_processed": "2017-10-02T00:00:00",
          "language_ident": "en"
         },
         {
          "DHQarticle-id": 304,
          "articleType": "article",
          "date_processed": "2017-10-02T00:00:00",
          "language_ident": "en"
         },
         {
          "DHQarticle-id": 305,
          "articleType": "article",
          "date_processed": "2017-10-02T00:00:00",
          "language_ident": "en"
         },
         {
          "DHQarticle-id": 306,
          "articleType": "article",
          "date_processed": "2017-10-02T00:00:00",
          "language_ident": "en"
         },
         {
          "DHQarticle-id": 307,
          "articleType": "article",
          "date_processed": "2017-05-22T00:00:00",
          "language_ident": "en"
         },
         {
          "DHQarticle-id": 308,
          "articleType": "article",
          "date_processed": "2017-05-22T00:00:00",
          "language_ident": "en"
         },
         {
          "DHQarticle-id": 309,
          "articleType": "article",
          "date_processed": "2017-05-22T00:00:00",
          "language_ident": "en"
         },
         {
          "DHQarticle-id": 310,
          "articleType": "article",
          "date_processed": "2017-10-02T00:00:00",
          "language_ident": "en"
         },
         {
          "DHQarticle-id": 311,
          "articleType": "article",
          "date_processed": "2017-10-02T00:00:00",
          "language_ident": "en"
         },
         {
          "DHQarticle-id": 312,
          "articleType": "article",
          "date_processed": "2017-10-02T00:00:00",
          "language_ident": "en"
         },
         {
          "DHQarticle-id": 313,
          "articleType": "article",
          "date_processed": "2017-12-22T00:00:00",
          "language_ident": "en"
         },
         {
          "DHQarticle-id": 314,
          "articleType": "article",
          "date_processed": "2017-10-02T00:00:00",
          "language_ident": "en"
         },
         {
          "DHQarticle-id": 315,
          "articleType": "article",
          "date_processed": "2017-10-02T00:00:00",
          "language_ident": "en"
         },
         {
          "DHQarticle-id": 316,
          "articleType": "article",
          "date_processed": "2017-08-28T00:00:00",
          "language_ident": "en"
         },
         {
          "DHQarticle-id": 317,
          "articleType": "editorial",
          "date_processed": "2017-06-27T00:00:00",
          "language_ident": "en"
         },
         {
          "DHQarticle-id": 318,
          "articleType": "article",
          "date_processed": "2017-08-28T00:00:00",
          "language_ident": "en"
         },
         {
          "DHQarticle-id": 319,
          "articleType": "article",
          "date_processed": "2017-10-02T00:00:00",
          "language_ident": "en"
         },
         {
          "DHQarticle-id": 320,
          "articleType": "article",
          "date_processed": "2017-10-02T00:00:00",
          "language_ident": "en"
         },
         {
          "DHQarticle-id": 321,
          "articleType": "article",
          "date_processed": "2017-08-28T00:00:00",
          "language_ident": "en"
         },
         {
          "DHQarticle-id": 322,
          "articleType": "article",
          "date_processed": "2017-10-02T00:00:00",
          "language_ident": "en"
         },
         {
          "DHQarticle-id": 323,
          "articleType": "article",
          "date_processed": "2017-08-28T00:00:00",
          "language_ident": "en"
         },
         {
          "DHQarticle-id": 324,
          "articleType": "article",
          "date_processed": "2017-08-28T00:00:00",
          "language_ident": "en"
         },
         {
          "DHQarticle-id": 325,
          "articleType": "article",
          "date_processed": "2017-10-03T00:00:00",
          "language_ident": "en"
         },
         {
          "DHQarticle-id": 326,
          "articleType": "article",
          "date_processed": "2018-01-08T00:00:00",
          "language_ident": "en"
         },
         {
          "DHQarticle-id": 327,
          "articleType": "article",
          "date_processed": "2018-01-08T00:00:00",
          "language_ident": "en"
         },
         {
          "DHQarticle-id": 328,
          "articleType": "article",
          "date_processed": "2018-01-08T00:00:00",
          "language_ident": "en"
         },
         {
          "DHQarticle-id": 329,
          "articleType": "article",
          "date_processed": "2017-08-28T00:00:00",
          "language_ident": "en"
         },
         {
          "DHQarticle-id": 330,
          "articleType": "article",
          "date_processed": "2017-10-02T00:00:00",
          "language_ident": "en"
         },
         {
          "DHQarticle-id": 331,
          "articleType": "article",
          "date_processed": "2017-09-26T00:00:00",
          "language_ident": "en"
         },
         {
          "DHQarticle-id": 332,
          "articleType": "article",
          "date_processed": "2017-08-28T00:00:00",
          "language_ident": "en"
         },
         {
          "DHQarticle-id": 333,
          "articleType": "article",
          "date_processed": "2017-09-26T00:00:00",
          "language_ident": "en"
         },
         {
          "DHQarticle-id": 334,
          "articleType": "article",
          "date_processed": "2017-10-02T00:00:00",
          "language_ident": "en"
         },
         {
          "DHQarticle-id": 335,
          "articleType": "article",
          "date_processed": "2017-10-02T00:00:00",
          "language_ident": "en"
         },
         {
          "DHQarticle-id": 336,
          "articleType": "article",
          "date_processed": "2017-11-01T00:00:00",
          "language_ident": "en"
         },
         {
          "DHQarticle-id": 337,
          "articleType": "article",
          "date_processed": "2017-11-01T00:00:00",
          "language_ident": "en"
         },
         {
          "DHQarticle-id": 338,
          "articleType": "article",
          "date_processed": "2018-01-08T00:00:00",
          "language_ident": "en"
         },
         {
          "DHQarticle-id": 339,
          "articleType": "article",
          "date_processed": "2017-12-12T00:00:00",
          "language_ident": "en"
         },
         {
          "DHQarticle-id": 340,
          "articleType": "article",
          "date_processed": "2017-12-22T00:00:00",
          "language_ident": "en"
         },
         {
          "DHQarticle-id": 341,
          "articleType": "article",
          "date_processed": "2018-01-08T00:00:00",
          "language_ident": "en"
         },
         {
          "DHQarticle-id": 342,
          "articleType": "article",
          "date_processed": "2018-01-08T00:00:00",
          "language_ident": "en"
         },
         {
          "DHQarticle-id": 343,
          "articleType": "article",
          "date_processed": "2018-01-08T00:00:00",
          "language_ident": "en"
         },
         {
          "DHQarticle-id": 344,
          "articleType": "article",
          "date_processed": "2017-12-22T00:00:00",
          "language_ident": "en"
         },
         {
          "DHQarticle-id": 345,
          "articleType": "frontmatter",
          "date_processed": "2018-04-04T00:00:00",
          "language_ident": "es"
         },
         {
          "DHQarticle-id": 346,
          "articleType": "article",
          "date_processed": "2018-04-04T00:00:00",
          "language_ident": "en"
         },
         {
          "DHQarticle-id": 347,
          "articleType": "article",
          "date_processed": "2018-04-04T00:00:00",
          "language_ident": "en"
         },
         {
          "DHQarticle-id": 348,
          "articleType": "article",
          "date_processed": "2018-04-06T00:00:00",
          "language_ident": "en"
         },
         {
          "DHQarticle-id": 349,
          "articleType": "article",
          "date_processed": "2018-04-06T00:00:00",
          "language_ident": "en"
         },
         {
          "DHQarticle-id": 350,
          "articleType": "article",
          "date_processed": "2018-01-22T00:00:00",
          "language_ident": "en"
         },
         {
          "DHQarticle-id": 351,
          "articleType": "article",
          "date_processed": "2018-04-04T00:00:00",
          "language_ident": "en"
         },
         {
          "DHQarticle-id": 352,
          "articleType": "article",
          "date_processed": "2018-04-04T00:00:00",
          "language_ident": "en"
         },
         {
          "DHQarticle-id": 353,
          "articleType": "article",
          "date_processed": "2018-04-04T00:00:00",
          "language_ident": "en"
         },
         {
          "DHQarticle-id": 354,
          "articleType": "article",
          "date_processed": "2018-04-06T00:00:00",
          "language_ident": "en"
         },
         {
          "DHQarticle-id": 355,
          "articleType": "article",
          "date_processed": "2018-04-04T00:00:00",
          "language_ident": "en"
         },
         {
          "DHQarticle-id": 356,
          "articleType": "review",
          "date_processed": "2018-01-31T00:00:00",
          "language_ident": "en"
         },
         {
          "DHQarticle-id": 357,
          "articleType": "article",
          "date_processed": "2018-04-06T00:00:00",
          "language_ident": "en"
         },
         {
          "DHQarticle-id": 358,
          "articleType": "article",
          "date_processed": "2018-04-04T00:00:00",
          "language_ident": "en"
         },
         {
          "DHQarticle-id": 359,
          "articleType": "article",
          "date_processed": "2018-04-06T00:00:00",
          "language_ident": "en"
         },
         {
          "DHQarticle-id": 360,
          "articleType": "article",
          "date_processed": "2018-02-13T00:00:00",
          "language_ident": "en"
         },
         {
          "DHQarticle-id": 361,
          "articleType": "article",
          "date_processed": "2018-02-13T00:00:00",
          "language_ident": "en"
         },
         {
          "DHQarticle-id": 362,
          "articleType": "article",
          "date_processed": "2018-04-06T00:00:00",
          "language_ident": "en"
         },
         {
          "DHQarticle-id": 363,
          "articleType": "article",
          "date_processed": "2018-04-06T00:00:00",
          "language_ident": "en"
         },
         {
          "DHQarticle-id": 364,
          "articleType": "article",
          "date_processed": "2018-04-06T00:00:00",
          "language_ident": "en"
         },
         {
          "DHQarticle-id": 365,
          "articleType": "article",
          "date_processed": "2018-04-06T00:00:00",
          "language_ident": "en"
         },
         {
          "DHQarticle-id": 366,
          "articleType": "article",
          "date_processed": "2018-04-06T00:00:00",
          "language_ident": "en"
         },
         {
          "DHQarticle-id": 367,
          "articleType": "article",
          "date_processed": "2018-04-06T00:00:00",
          "language_ident": "en"
         },
         {
          "DHQarticle-id": 368,
          "articleType": "article",
          "date_processed": "2018-05-09T00:00:00",
          "language_ident": "en"
         },
         {
          "DHQarticle-id": 369,
          "articleType": "review",
          "date_processed": "2018-05-09T00:00:00",
          "language_ident": "en"
         },
         {
          "DHQarticle-id": 370,
          "articleType": "review",
          "date_processed": "2018-05-09T00:00:00",
          "language_ident": "en"
         },
         {
          "DHQarticle-id": 371,
          "articleType": "article",
          "date_processed": "2018-05-09T00:00:00",
          "language_ident": "en"
         },
         {
          "DHQarticle-id": 372,
          "articleType": "article",
          "date_processed": "2018-05-07T00:00:00",
          "language_ident": "en"
         },
         {
          "DHQarticle-id": 373,
          "articleType": "article",
          "date_processed": "2018-05-04T00:00:00",
          "language_ident": "en"
         },
         {
          "DHQarticle-id": 374,
          "articleType": "article",
          "date_processed": "2018-07-03T00:00:00",
          "language_ident": "en"
         },
         {
          "DHQarticle-id": 375,
          "articleType": "article",
          "date_processed": "2019-10-14T00:00:00",
          "language_ident": "en"
         },
         {
          "DHQarticle-id": 376,
          "articleType": "article",
          "date_processed": "2018-07-03T00:00:00",
          "language_ident": "en"
         },
         {
          "DHQarticle-id": 377,
          "articleType": "article",
          "date_processed": "2018-07-03T00:00:00",
          "language_ident": "en"
         },
         {
          "DHQarticle-id": 378,
          "articleType": "editorial",
          "date_processed": "2018-07-03T00:00:00",
          "language_ident": "en"
         },
         {
          "DHQarticle-id": 379,
          "articleType": "article",
          "date_processed": "2018-09-05T00:00:00",
          "language_ident": "en"
         },
         {
          "DHQarticle-id": 380,
          "articleType": "article",
          "date_processed": "2018-07-03T00:00:00",
          "language_ident": "en"
         },
         {
          "DHQarticle-id": 381,
          "articleType": "case study",
          "date_processed": "2019-04-12T00:00:00",
          "language_ident": "en"
         },
         {
          "DHQarticle-id": 382,
          "articleType": "article",
          "date_processed": "2018-07-28T00:00:00",
          "language_ident": "en"
         },
         {
          "DHQarticle-id": 383,
          "articleType": "article",
          "date_processed": "2018-11-19T00:00:00",
          "language_ident": "en"
         },
         {
          "DHQarticle-id": 384,
          "articleType": "article",
          "date_processed": "2018-11-19T00:00:00",
          "language_ident": "en"
         },
         {
          "DHQarticle-id": 385,
          "articleType": "article",
          "date_processed": "2018-11-19T00:00:00",
          "language_ident": "en"
         },
         {
          "DHQarticle-id": 386,
          "articleType": "article",
          "date_processed": "2018-09-12T00:00:00",
          "language_ident": "en"
         },
         {
          "DHQarticle-id": 387,
          "articleType": "article",
          "date_processed": "2018-09-12T00:00:00",
          "language_ident": "en"
         },
         {
          "DHQarticle-id": 388,
          "articleType": "article",
          "date_processed": "2018-09-12T00:00:00",
          "language_ident": "en"
         },
         {
          "DHQarticle-id": 389,
          "articleType": "article",
          "date_processed": "2019-09-12T00:00:00",
          "language_ident": "en"
         },
         {
          "DHQarticle-id": 390,
          "articleType": "article",
          "date_processed": "2018-09-12T00:00:00",
          "language_ident": "en"
         },
         {
          "DHQarticle-id": 391,
          "articleType": "article",
          "date_processed": "2018-09-12T00:00:00",
          "language_ident": "en"
         },
         {
          "DHQarticle-id": 392,
          "articleType": "article",
          "date_processed": "2018-09-18T00:00:00",
          "language_ident": "en"
         },
         {
          "DHQarticle-id": 393,
          "articleType": "article",
          "date_processed": "2018-09-12T00:00:00",
          "language_ident": "en"
         },
         {
          "DHQarticle-id": 394,
          "articleType": "article",
          "date_processed": "2018-09-12T00:00:00",
          "language_ident": "en"
         },
         {
          "DHQarticle-id": 395,
          "articleType": "article",
          "date_processed": "2018-11-19T00:00:00",
          "language_ident": "en"
         },
         {
          "DHQarticle-id": 396,
          "articleType": "article",
          "date_processed": "2018-11-19T00:00:00",
          "language_ident": "en"
         },
         {
          "DHQarticle-id": 397,
          "articleType": "article",
          "date_processed": "2018-12-03T00:00:00",
          "language_ident": "en"
         },
         {
          "DHQarticle-id": 398,
          "articleType": "article",
          "date_processed": "2018-09-12T00:00:00",
          "language_ident": "en"
         },
         {
          "DHQarticle-id": 399,
          "articleType": "article",
          "date_processed": "2018-11-19T00:00:00",
          "language_ident": "en"
         },
         {
          "DHQarticle-id": 400,
          "articleType": "case study",
          "date_processed": "2018-12-31T00:00:00",
          "language_ident": "en"
         },
         {
          "DHQarticle-id": 401,
          "articleType": "article",
          "date_processed": "2018-12-31T00:00:00",
          "language_ident": "en"
         },
         {
          "DHQarticle-id": 402,
          "articleType": "article",
          "date_processed": "2019-02-04T00:00:00",
          "language_ident": "en"
         },
         {
          "DHQarticle-id": 403,
          "articleType": "article",
          "date_processed": "2019-02-04T00:00:00",
          "language_ident": "en"
         },
         {
          "DHQarticle-id": 404,
          "articleType": "article",
          "date_processed": "2019-01-11T00:00:00",
          "language_ident": "en"
         },
         {
          "DHQarticle-id": 405,
          "articleType": "article",
          "date_processed": "2019-02-04T00:00:00",
          "language_ident": "en"
         },
         {
          "DHQarticle-id": 406,
          "articleType": "article",
          "date_processed": "2019-01-12T00:00:00",
          "language_ident": "en"
         },
         {
          "DHQarticle-id": 407,
          "articleType": "article",
          "date_processed": "2019-07-26T00:00:00",
          "language_ident": "en"
         },
         {
          "DHQarticle-id": 408,
          "articleType": "article",
          "date_processed": "2019-02-04T00:00:00",
          "language_ident": "en"
         },
         {
          "DHQarticle-id": 409,
          "articleType": "review",
          "date_processed": "2019-04-26T00:00:00",
          "language_ident": "en"
         },
         {
          "DHQarticle-id": 410,
          "articleType": "review",
          "date_processed": "2019-04-26T00:00:00",
          "language_ident": "en"
         },
         {
          "DHQarticle-id": 411,
          "articleType": "article",
          "date_processed": "2019-04-26T00:00:00",
          "language_ident": "en"
         },
         {
          "DHQarticle-id": 412,
          "articleType": "article",
          "date_processed": "2019-04-26T00:00:00",
          "language_ident": "en"
         },
         {
          "DHQarticle-id": 413,
          "articleType": "opinion",
          "date_processed": "2019-04-26T00:00:00",
          "language_ident": "en"
         },
         {
          "DHQarticle-id": 414,
          "articleType": "article",
          "date_processed": "2019-10-14T00:00:00",
          "language_ident": "en"
         },
         {
          "DHQarticle-id": 415,
          "articleType": "article",
          "date_processed": "2019-06-11T00:00:00",
          "language_ident": "en"
         },
         {
          "DHQarticle-id": 416,
          "articleType": "article",
          "date_processed": "2019-08-01T00:00:00",
          "language_ident": "en"
         },
         {
          "DHQarticle-id": 417,
          "articleType": "article",
          "date_processed": "2019-08-01T00:00:00",
          "language_ident": "en"
         },
         {
          "DHQarticle-id": 418,
          "articleType": "article",
          "date_processed": "2019-08-01T00:00:00",
          "language_ident": "en"
         },
         {
          "DHQarticle-id": 419,
          "articleType": "article",
          "date_processed": "2019-08-01T00:00:00",
          "language_ident": "en"
         },
         {
          "DHQarticle-id": 420,
          "articleType": "article",
          "date_processed": "2019-08-01T00:00:00",
          "language_ident": "en"
         },
         {
          "DHQarticle-id": 421,
          "articleType": "article",
          "date_processed": "2019-08-01T00:00:00",
          "language_ident": "en"
         },
         {
          "DHQarticle-id": 422,
          "articleType": "article",
          "date_processed": "2019-08-01T00:00:00",
          "language_ident": "en"
         },
         {
          "DHQarticle-id": 423,
          "articleType": "article",
          "date_processed": "2019-10-14T00:00:00",
          "language_ident": "en"
         },
         {
          "DHQarticle-id": 424,
          "articleType": "article",
          "date_processed": "2024-05-15T00:00:00",
          "language_ident": "en"
         },
         {
          "DHQarticle-id": 425,
          "articleType": "article",
          "date_processed": "2019-08-01T00:00:00",
          "language_ident": "en"
         },
         {
          "DHQarticle-id": 426,
          "articleType": "article",
          "date_processed": "2019-10-14T00:00:00",
          "language_ident": "en"
         },
         {
          "DHQarticle-id": 427,
          "articleType": "article",
          "date_processed": "2019-10-14T00:00:00",
          "language_ident": "en"
         },
         {
          "DHQarticle-id": 428,
          "articleType": "article",
          "date_processed": "2019-10-14T00:00:00",
          "language_ident": "en"
         },
         {
          "DHQarticle-id": 429,
          "articleType": "article",
          "date_processed": "2019-10-14T00:00:00",
          "language_ident": "en"
         },
         {
          "DHQarticle-id": 430,
          "articleType": "article",
          "date_processed": "2019-10-14T00:00:00",
          "language_ident": "en"
         },
         {
          "DHQarticle-id": 431,
          "articleType": "article",
          "date_processed": "2019-10-10T00:00:00",
          "language_ident": "en"
         },
         {
          "DHQarticle-id": 432,
          "articleType": "article",
          "date_processed": "2024-03-28T00:00:00",
          "language_ident": "en"
         },
         {
          "DHQarticle-id": 433,
          "articleType": "review",
          "date_processed": "2019-12-14T00:00:00",
          "language_ident": "en"
         },
         {
          "DHQarticle-id": 434,
          "articleType": "article",
          "date_processed": "2019-12-14T00:00:00",
          "language_ident": "en"
         },
         {
          "DHQarticle-id": 435,
          "articleType": "review",
          "date_processed": "2019-12-14T00:00:00",
          "language_ident": "en"
         },
         {
          "DHQarticle-id": 436,
          "articleType": "article",
          "date_processed": "2019-12-14T00:00:00",
          "language_ident": "en"
         },
         {
          "DHQarticle-id": 437,
          "articleType": "review",
          "date_processed": "2020-12-20T00:00:00",
          "language_ident": "en"
         },
         {
          "DHQarticle-id": 438,
          "articleType": "article",
          "date_processed": "2019-12-14T00:00:00",
          "language_ident": "en"
         },
         {
          "DHQarticle-id": 439,
          "articleType": "article",
          "date_processed": "2019-12-14T00:00:00",
          "language_ident": "en"
         },
         {
          "DHQarticle-id": 440,
          "articleType": "article",
          "date_processed": "2019-12-14T00:00:00",
          "language_ident": "en"
         },
         {
          "DHQarticle-id": 441,
          "articleType": "article",
          "date_processed": "2019-12-14T00:00:00",
          "language_ident": "en"
         },
         {
          "DHQarticle-id": 442,
          "articleType": "article",
          "date_processed": "2020-03-20T00:00:00",
          "language_ident": "en"
         },
         {
          "DHQarticle-id": 443,
          "articleType": "article",
          "date_processed": "2020-03-20T00:00:00",
          "language_ident": "en"
         },
         {
          "DHQarticle-id": 444,
          "articleType": "article",
          "date_processed": "2020-03-20T00:00:00",
          "language_ident": "en"
         },
         {
          "DHQarticle-id": 445,
          "articleType": "article",
          "date_processed": "2020-06-19T00:00:00",
          "language_ident": "en"
         },
         {
          "DHQarticle-id": 446,
          "articleType": "review",
          "date_processed": "2020-03-20T00:00:00",
          "language_ident": "en"
         },
         {
          "DHQarticle-id": 447,
          "articleType": "article",
          "date_processed": "2020-03-20T00:00:00",
          "language_ident": "en"
         },
         {
          "DHQarticle-id": 448,
          "articleType": "article",
          "date_processed": "2020-03-20T00:00:00",
          "language_ident": "en"
         },
         {
          "DHQarticle-id": 449,
          "articleType": "article",
          "date_processed": "2020-03-20T00:00:00",
          "language_ident": "en"
         },
         {
          "DHQarticle-id": 450,
          "articleType": "article",
          "date_processed": "2020-03-20T00:00:00",
          "language_ident": "en"
         },
         {
          "DHQarticle-id": 451,
          "articleType": "article",
          "date_processed": "2020-06-19T00:00:00",
          "language_ident": "en"
         },
         {
          "DHQarticle-id": 452,
          "articleType": "article",
          "date_processed": "2020-06-19T00:00:00",
          "language_ident": "en"
         },
         {
          "DHQarticle-id": 453,
          "articleType": "article",
          "date_processed": "2020-06-19T00:00:00",
          "language_ident": "pt"
         },
         {
          "DHQarticle-id": 454,
          "articleType": "article",
          "date_processed": "2020-06-19T00:00:00",
          "language_ident": "en"
         },
         {
          "DHQarticle-id": 455,
          "articleType": "article",
          "date_processed": "2020-06-19T00:00:00",
          "language_ident": "en"
         },
         {
          "DHQarticle-id": 456,
          "articleType": "article",
          "date_processed": "2020-09-25T00:00:00",
          "language_ident": "en"
         },
         {
          "DHQarticle-id": 457,
          "articleType": "article",
          "date_processed": "2020-06-19T00:00:00",
          "language_ident": "en"
         },
         {
          "DHQarticle-id": 458,
          "articleType": "article",
          "date_processed": "2020-06-19T00:00:00",
          "language_ident": "pt"
         },
         {
          "DHQarticle-id": 459,
          "articleType": "article",
          "date_processed": "2020-06-19T00:00:00",
          "language_ident": "en"
         },
         {
          "DHQarticle-id": 460,
          "articleType": "article",
          "date_processed": "2020-06-19T00:00:00",
          "language_ident": "pt"
         },
         {
          "DHQarticle-id": 461,
          "articleType": "article",
          "date_processed": "2020-06-19T00:00:00",
          "language_ident": "en"
         },
         {
          "DHQarticle-id": 462,
          "articleType": "article",
          "date_processed": "2020-06-19T00:00:00",
          "language_ident": "en"
         },
         {
          "DHQarticle-id": 463,
          "articleType": "article",
          "date_processed": "2020-09-01T00:00:00",
          "language_ident": "en"
         },
         {
          "DHQarticle-id": 464,
          "articleType": "article",
          "date_processed": "2020-09-25T00:00:00",
          "language_ident": "en"
         },
         {
          "DHQarticle-id": 465,
          "articleType": "article",
          "date_processed": "2020-09-25T00:00:00",
          "language_ident": "en"
         },
         {
          "DHQarticle-id": 466,
          "articleType": "article",
          "date_processed": "2020-09-25T00:00:00",
          "language_ident": "en"
         },
         {
          "DHQarticle-id": 467,
          "articleType": "article",
          "date_processed": "2020-06-19T00:00:00",
          "language_ident": "pt"
         },
         {
          "DHQarticle-id": 468,
          "articleType": "article",
          "date_processed": "2020-09-25T00:00:00",
          "language_ident": "en"
         },
         {
          "DHQarticle-id": 469,
          "articleType": "case study",
          "date_processed": "2020-06-19T00:00:00",
          "language_ident": "en"
         },
         {
          "DHQarticle-id": 470,
          "articleType": "article",
          "date_processed": "2020-09-25T00:00:00",
          "language_ident": "en"
         },
         {
          "DHQarticle-id": 471,
          "articleType": "article",
          "date_processed": "2020-09-25T00:00:00",
          "language_ident": "en"
         },
         {
          "DHQarticle-id": 472,
          "articleType": "article",
          "date_processed": "2020-09-01T00:00:00",
          "language_ident": "en"
         },
         {
          "DHQarticle-id": 473,
          "articleType": "article",
          "date_processed": "2020-09-25T00:00:00",
          "language_ident": "en"
         },
         {
          "DHQarticle-id": 474,
          "articleType": "article",
          "date_processed": "2020-09-25T00:00:00",
          "language_ident": "en"
         },
         {
          "DHQarticle-id": 475,
          "articleType": "article",
          "date_processed": "2020-07-29T00:00:00",
          "language_ident": "en"
         },
         {
          "DHQarticle-id": 476,
          "articleType": "article",
          "date_processed": "2020-09-25T00:00:00",
          "language_ident": "en"
         },
         {
          "DHQarticle-id": 477,
          "articleType": "article",
          "date_processed": "2020-09-25T00:00:00",
          "language_ident": "en"
         },
         {
          "DHQarticle-id": 478,
          "articleType": "article",
          "date_processed": "2020-09-25T00:00:00",
          "language_ident": "en"
         },
         {
          "DHQarticle-id": 479,
          "articleType": "article",
          "date_processed": "2020-09-25T00:00:00",
          "language_ident": "en"
         },
         {
          "DHQarticle-id": 480,
          "articleType": "article",
          "date_processed": "2020-09-25T00:00:00",
          "language_ident": "en"
         },
         {
          "DHQarticle-id": 481,
          "articleType": "article",
          "date_processed": "2020-09-25T00:00:00",
          "language_ident": "en"
         },
         {
          "DHQarticle-id": 482,
          "articleType": "article",
          "date_processed": "2020-12-15T00:00:00",
          "language_ident": "en"
         },
         {
          "DHQarticle-id": 483,
          "articleType": "article",
          "date_processed": "2020-09-25T00:00:00",
          "language_ident": "en"
         },
         {
          "DHQarticle-id": 484,
          "articleType": "article",
          "date_processed": "2020-09-25T00:00:00",
          "language_ident": "en"
         },
         {
          "DHQarticle-id": 485,
          "articleType": "article",
          "date_processed": "2020-09-25T00:00:00",
          "language_ident": "en"
         },
         {
          "DHQarticle-id": 486,
          "articleType": "article",
          "date_processed": "2020-09-25T00:00:00",
          "language_ident": "en"
         },
         {
          "DHQarticle-id": 487,
          "articleType": "article",
          "date_processed": "2020-09-25T00:00:00",
          "language_ident": "en"
         },
         {
          "DHQarticle-id": 488,
          "articleType": "article",
          "date_processed": "2024-03-01T00:00:00",
          "language_ident": "en"
         },
         {
          "DHQarticle-id": 489,
          "articleType": "article",
          "date_processed": "2020-09-25T00:00:00",
          "language_ident": "en"
         },
         {
          "DHQarticle-id": 490,
          "articleType": "article",
          "date_processed": "2020-12-15T00:00:00",
          "language_ident": "en"
         },
         {
          "DHQarticle-id": 491,
          "articleType": "article",
          "date_processed": "2020-12-15T00:00:00",
          "language_ident": "en"
         },
         {
          "DHQarticle-id": 492,
          "articleType": "article",
          "date_processed": "2024-04-26T00:00:00",
          "language_ident": "en"
         },
         {
          "DHQarticle-id": 493,
          "articleType": "editorial",
          "date_processed": "2020-08-15T00:00:00",
          "language_ident": "en"
         },
         {
          "DHQarticle-id": 494,
          "articleType": "article",
          "date_processed": "2020-12-15T00:00:00",
          "language_ident": "en"
         },
         {
          "DHQarticle-id": 495,
          "articleType": "article",
          "date_processed": "2020-12-20T00:00:00",
          "language_ident": "en"
         },
         {
          "DHQarticle-id": 496,
          "articleType": "article",
          "date_processed": "2020-12-20T00:00:00",
          "language_ident": "en"
         },
         {
          "DHQarticle-id": 497,
          "articleType": "article",
          "date_processed": "2020-12-20T00:00:00",
          "language_ident": "en"
         },
         {
          "DHQarticle-id": 498,
          "articleType": "article",
          "date_processed": "2020-12-20T00:00:00",
          "language_ident": "en"
         },
         {
          "DHQarticle-id": 499,
          "articleType": "article",
          "date_processed": "2020-12-20T00:00:00",
          "language_ident": "en"
         },
         {
          "DHQarticle-id": 500,
          "articleType": "article",
          "date_processed": "2020-12-20T00:00:00",
          "language_ident": "en"
         },
         {
          "DHQarticle-id": 501,
          "articleType": "article",
          "date_processed": "2021-03-05T00:00:00",
          "language_ident": "en"
         },
         {
          "DHQarticle-id": 502,
          "articleType": "article",
          "date_processed": "2020-12-15T00:00:00",
          "language_ident": "sp"
         },
         {
          "DHQarticle-id": 503,
          "articleType": "article",
          "date_processed": "2020-12-20T00:00:00",
          "language_ident": "en"
         },
         {
          "DHQarticle-id": 504,
          "articleType": "article",
          "date_processed": "2021-03-05T00:00:00",
          "language_ident": "en"
         },
         {
          "DHQarticle-id": 505,
          "articleType": "article",
          "date_processed": "2021-03-05T00:00:00",
          "language_ident": "en"
         },
         {
          "DHQarticle-id": 506,
          "articleType": "article",
          "date_processed": "2021-03-05T00:00:00",
          "language_ident": "en"
         },
         {
          "DHQarticle-id": 507,
          "articleType": "article",
          "date_processed": "2021-03-05T00:00:00",
          "language_ident": "en"
         },
         {
          "DHQarticle-id": 508,
          "articleType": "article",
          "date_processed": "2021-03-05T00:00:00",
          "language_ident": "en"
         },
         {
          "DHQarticle-id": 509,
          "articleType": "article",
          "date_processed": "2021-03-05T00:00:00",
          "language_ident": "en"
         },
         {
          "DHQarticle-id": 510,
          "articleType": "article",
          "date_processed": "2021-03-05T00:00:00",
          "language_ident": "en"
         },
         {
          "DHQarticle-id": 511,
          "articleType": "article",
          "date_processed": "2021-03-05T00:00:00",
          "language_ident": "en"
         },
         {
          "DHQarticle-id": 512,
          "articleType": "article",
          "date_processed": "2021-03-05T00:00:00",
          "language_ident": "en"
         },
         {
          "DHQarticle-id": 513,
          "articleType": "article",
          "date_processed": "2021-03-05T00:00:00",
          "language_ident": "en"
         },
         {
          "DHQarticle-id": 514,
          "articleType": "article",
          "date_processed": "2021-03-05T00:00:00",
          "language_ident": "en"
         },
         {
          "DHQarticle-id": 515,
          "articleType": "article",
          "date_processed": "2021-03-05T00:00:00",
          "language_ident": "en"
         },
         {
          "DHQarticle-id": 516,
          "articleType": "article",
          "date_processed": "2021-03-05T00:00:00",
          "language_ident": "en"
         },
         {
          "DHQarticle-id": 517,
          "articleType": "article",
          "date_processed": "2021-03-05T00:00:00",
          "language_ident": "en"
         },
         {
          "DHQarticle-id": 518,
          "articleType": "article",
          "date_processed": "2020-12-20T00:00:00",
          "language_ident": "en"
         },
         {
          "DHQarticle-id": 519,
          "articleType": "article",
          "date_processed": "2021-03-05T00:00:00",
          "language_ident": "en"
         },
         {
          "DHQarticle-id": 520,
          "articleType": "article",
          "date_processed": "2021-03-05T00:00:00",
          "language_ident": "en"
         },
         {
          "DHQarticle-id": 521,
          "articleType": "article",
          "date_processed": "2021-03-05T00:00:00",
          "language_ident": "en"
         },
         {
          "DHQarticle-id": 522,
          "articleType": "article",
          "date_processed": "2021-03-05T00:00:00",
          "language_ident": "en"
         },
         {
          "DHQarticle-id": 523,
          "articleType": "article",
          "date_processed": "2021-03-05T00:00:00",
          "language_ident": "en"
         },
         {
          "DHQarticle-id": 524,
          "articleType": "article",
          "date_processed": "2021-03-05T00:00:00",
          "language_ident": "en"
         },
         {
          "DHQarticle-id": 525,
          "articleType": "article",
          "date_processed": "2021-05-21T00:00:00",
          "language_ident": "en"
         },
         {
          "DHQarticle-id": 526,
          "articleType": "article",
          "date_processed": "2021-05-21T00:00:00",
          "language_ident": "en"
         },
         {
          "DHQarticle-id": 527,
          "articleType": "article",
          "date_processed": "2021-03-05T00:00:00",
          "language_ident": "en"
         },
         {
          "DHQarticle-id": 528,
          "articleType": "article",
          "date_processed": "2020-12-20T00:00:00",
          "language_ident": "en"
         },
         {
          "DHQarticle-id": 529,
          "articleType": "article",
          "date_processed": "2020-12-15T00:00:00",
          "language_ident": "en"
         },
         {
          "DHQarticle-id": 530,
          "articleType": "review",
          "date_processed": "2021-03-05T00:00:00",
          "language_ident": "en"
         },
         {
          "DHQarticle-id": 531,
          "articleType": "article",
          "date_processed": "2020-12-15T00:00:00",
          "language_ident": "en"
         },
         {
          "DHQarticle-id": 532,
          "articleType": "article",
          "date_processed": "2020-12-20T00:00:00",
          "language_ident": "en"
         },
         {
          "DHQarticle-id": 533,
          "articleType": "article",
          "date_processed": "2020-12-20T00:00:00",
          "language_ident": "en"
         },
         {
          "DHQarticle-id": 534,
          "articleType": "review",
          "date_processed": "2021-03-05T00:00:00",
          "language_ident": "en"
         },
         {
          "DHQarticle-id": 535,
          "articleType": "review",
          "date_processed": "2021-03-05T00:00:00",
          "language_ident": "en"
         },
         {
          "DHQarticle-id": 536,
          "articleType": "article",
          "date_processed": "2021-03-05T00:00:00",
          "language_ident": "en"
         },
         {
          "DHQarticle-id": 537,
          "articleType": "article",
          "date_processed": "2021-05-21T00:00:00",
          "language_ident": "en"
         },
         {
          "DHQarticle-id": 538,
          "articleType": "article",
          "date_processed": "2021-05-21T00:00:00",
          "language_ident": "en"
         },
         {
          "DHQarticle-id": 539,
          "articleType": "article",
          "date_processed": "2021-05-21T00:00:00",
          "language_ident": "en"
         },
         {
          "DHQarticle-id": 540,
          "articleType": "article",
          "date_processed": "2021-03-05T00:00:00",
          "language_ident": "en"
         },
         {
          "DHQarticle-id": 541,
          "articleType": "article",
          "date_processed": "2021-03-05T00:00:00",
          "language_ident": "en"
         },
         {
          "DHQarticle-id": 542,
          "articleType": "article",
          "date_processed": "2021-03-05T00:00:00",
          "language_ident": "en"
         },
         {
          "DHQarticle-id": 543,
          "articleType": "article",
          "date_processed": "2021-03-05T00:00:00",
          "language_ident": "en"
         },
         {
          "DHQarticle-id": 544,
          "articleType": "article",
          "date_processed": "2021-05-21T00:00:00",
          "language_ident": "en"
         },
         {
          "DHQarticle-id": 545,
          "articleType": "article",
          "date_processed": "2021-05-21T00:00:00",
          "language_ident": "en"
         },
         {
          "DHQarticle-id": 546,
          "articleType": "review",
          "date_processed": "2021-09-17T00:00:00",
          "language_ident": "en"
         },
         {
          "DHQarticle-id": 547,
          "articleType": "article",
          "date_processed": "2021-06-15T00:00:00",
          "language_ident": "en"
         },
         {
          "DHQarticle-id": 548,
          "articleType": "article",
          "date_processed": "2021-06-15T00:00:00",
          "language_ident": "en"
         },
         {
          "DHQarticle-id": 549,
          "articleType": "article",
          "date_processed": "2021-07-30T00:00:00",
          "language_ident": "en"
         },
         {
          "DHQarticle-id": 550,
          "articleType": "article",
          "date_processed": "2022-05-18T00:00:00",
          "language_ident": "en"
         },
         {
          "DHQarticle-id": 551,
          "articleType": "article",
          "date_processed": "2021-05-21T00:00:00",
          "language_ident": "en"
         },
         {
          "DHQarticle-id": 552,
          "articleType": "article",
          "date_processed": "2021-06-15T00:00:00",
          "language_ident": "en"
         },
         {
          "DHQarticle-id": 553,
          "articleType": "article",
          "date_processed": "2021-11-15T00:00:00",
          "language_ident": "en"
         },
         {
          "DHQarticle-id": 554,
          "articleType": "article",
          "date_processed": "2021-10-15T00:00:00",
          "language_ident": "en"
         },
         {
          "DHQarticle-id": 555,
          "articleType": "article",
          "date_processed": "2020-06-25T00:00:00",
          "language_ident": "en"
         },
         {
          "DHQarticle-id": 556,
          "articleType": "article",
          "date_processed": "2021-06-15T00:00:00",
          "language_ident": "en"
         },
         {
          "DHQarticle-id": 557,
          "articleType": "article",
          "date_processed": "2021-08-14T00:00:00",
          "language_ident": "en"
         },
         {
          "DHQarticle-id": 558,
          "articleType": "article",
          "date_processed": "2021-07-17T00:00:00",
          "language_ident": "en"
         },
         {
          "DHQarticle-id": 559,
          "articleType": "article",
          "date_processed": "2021-10-29T00:00:00",
          "language_ident": "en"
         },
         {
          "DHQarticle-id": 560,
          "articleType": "article",
          "date_processed": "2021-08-08T00:00:00",
          "language_ident": "en"
         },
         {
          "DHQarticle-id": 561,
          "articleType": "article",
          "date_processed": "2021-10-15T00:00:00",
          "language_ident": "en"
         },
         {
          "DHQarticle-id": 562,
          "articleType": "article",
          "date_processed": "2022-07-07T00:00:00",
          "language_ident": "en"
         },
         {
          "DHQarticle-id": 563,
          "articleType": "article",
          "date_processed": "2021-10-15T00:00:00",
          "language_ident": "en"
         },
         {
          "DHQarticle-id": 564,
          "articleType": "article",
          "date_processed": "2023-12-15T00:00:00",
          "language_ident": "en"
         },
         {
          "DHQarticle-id": 565,
          "articleType": "article",
          "date_processed": "2021-08-08T00:00:00",
          "language_ident": "en"
         },
         {
          "DHQarticle-id": 566,
          "articleType": "article",
          "date_processed": "2021-11-12T00:00:00",
          "language_ident": "en"
         },
         {
          "DHQarticle-id": 567,
          "articleType": "article",
          "date_processed": "2021-10-15T00:00:00",
          "language_ident": "en"
         },
         {
          "DHQarticle-id": 568,
          "articleType": "article",
          "date_processed": "2021-10-15T00:00:00",
          "language_ident": "en"
         },
         {
          "DHQarticle-id": 569,
          "articleType": "article",
          "date_processed": "2021-10-15T00:00:00",
          "language_ident": "en"
         },
         {
          "DHQarticle-id": 570,
          "articleType": "article",
          "date_processed": "2021-10-15T00:00:00",
          "language_ident": "en"
         },
         {
          "DHQarticle-id": 571,
          "articleType": "article",
          "date_processed": "2021-10-15T00:00:00",
          "language_ident": "en"
         },
         {
          "DHQarticle-id": 572,
          "articleType": "article",
          "date_processed": "2021-10-15T00:00:00",
          "language_ident": "en"
         },
         {
          "DHQarticle-id": 573,
          "articleType": "article",
          "date_processed": "2024-04-26T00:00:00",
          "language_ident": "en"
         },
         {
          "DHQarticle-id": 574,
          "articleType": "article",
          "date_processed": "2021-11-12T00:00:00",
          "language_ident": "en"
         },
         {
          "DHQarticle-id": 575,
          "articleType": "article",
          "date_processed": "2021-11-19T00:00:00",
          "language_ident": "en"
         },
         {
          "DHQarticle-id": 576,
          "articleType": "article",
          "date_processed": "",
          "language_ident": "en"
         },
         {
          "DHQarticle-id": 577,
          "articleType": "article",
          "date_processed": "2022-04-21T00:00:00",
          "language_ident": "en"
         },
         {
          "DHQarticle-id": 578,
          "articleType": "article",
          "date_processed": "2021-12-07T00:00:00",
          "language_ident": "en"
         },
         {
          "DHQarticle-id": 579,
          "articleType": "article",
          "date_processed": "2021-12-07T00:00:00",
          "language_ident": "en"
         },
         {
          "DHQarticle-id": 580,
          "articleType": "article",
          "date_processed": "",
          "language_ident": "en"
         },
         {
          "DHQarticle-id": 581,
          "articleType": "article",
          "date_processed": "2021-12-07T00:00:00",
          "language_ident": "en"
         },
         {
          "DHQarticle-id": 582,
          "articleType": "article",
          "date_processed": "2022-01-11T00:00:00",
          "language_ident": "en"
         },
         {
          "DHQarticle-id": 583,
          "articleType": "article",
          "date_processed": "2022-02-25T00:00:00",
          "language_ident": "en"
         },
         {
          "DHQarticle-id": 584,
          "articleType": "article",
          "date_processed": "2022-06-25T00:00:00",
          "language_ident": "en"
         },
         {
          "DHQarticle-id": 585,
          "articleType": "article",
          "date_processed": "2022-06-25T00:00:00",
          "language_ident": "en"
         },
         {
          "DHQarticle-id": 586,
          "articleType": "article",
          "date_processed": "2022-06-25T00:00:00",
          "language_ident": "en"
         },
         {
          "DHQarticle-id": 587,
          "articleType": "article",
          "date_processed": "2022-06-25T00:00:00",
          "language_ident": "en"
         },
         {
          "DHQarticle-id": 588,
          "articleType": "article",
          "date_processed": "2022-06-25T00:00:00",
          "language_ident": "en"
         },
         {
          "DHQarticle-id": 589,
          "articleType": "article",
          "date_processed": "2022-06-25T00:00:00",
          "language_ident": "en"
         },
         {
          "DHQarticle-id": 590,
          "articleType": "article",
          "date_processed": "2022-06-25T00:00:00",
          "language_ident": "en"
         },
         {
          "DHQarticle-id": 591,
          "articleType": "article",
          "date_processed": "2022-06-25T00:00:00",
          "language_ident": "en"
         },
         {
          "DHQarticle-id": 592,
          "articleType": "article",
          "date_processed": "2022-06-25T00:00:00",
          "language_ident": "en"
         },
         {
          "DHQarticle-id": 593,
          "articleType": "article",
          "date_processed": "2022-06-25T00:00:00",
          "language_ident": "en"
         },
         {
          "DHQarticle-id": 594,
          "articleType": "article",
          "date_processed": "2022-06-25T00:00:00",
          "language_ident": "en"
         },
         {
          "DHQarticle-id": 595,
          "articleType": "article",
          "date_processed": "2022-03-11T00:00:00",
          "language_ident": "en"
         },
         {
          "DHQarticle-id": 596,
          "articleType": "article",
          "date_processed": "2022-06-25T00:00:00",
          "language_ident": "en"
         },
         {
          "DHQarticle-id": 597,
          "articleType": "article",
          "date_processed": "2022-01-11T00:00:00",
          "language_ident": "en"
         },
         {
          "DHQarticle-id": 598,
          "articleType": "article",
          "date_processed": "2022-02-04T00:00:00",
          "language_ident": "en"
         },
         {
          "DHQarticle-id": 599,
          "articleType": "article",
          "date_processed": "2022-02-23T00:00:00",
          "language_ident": "en"
         },
         {
          "DHQarticle-id": 600,
          "articleType": "article",
          "date_processed": "2022-06-25T00:00:00",
          "language_ident": "en"
         },
         {
          "DHQarticle-id": 601,
          "articleType": "article",
          "date_processed": "2022-02-18T00:00:00",
          "language_ident": "en"
         },
         {
          "DHQarticle-id": 602,
          "articleType": "article",
          "date_processed": "2022-02-04T00:00:00",
          "language_ident": "en"
         },
         {
          "DHQarticle-id": 603,
          "articleType": "article",
          "date_processed": "2022-02-18T00:00:00",
          "language_ident": "en"
         },
         {
          "DHQarticle-id": 604,
          "articleType": "article",
          "date_processed": "2022-02-04T00:00:00",
          "language_ident": "en"
         },
         {
          "DHQarticle-id": 606,
          "articleType": "article",
          "date_processed": "2022-04-01T00:00:00",
          "language_ident": "en"
         },
         {
          "DHQarticle-id": 607,
          "articleType": "article",
          "date_processed": "2022-04-01T00:00:00",
          "language_ident": "en"
         },
         {
          "DHQarticle-id": 608,
          "articleType": "article",
          "date_processed": "2022-06-25T00:00:00",
          "language_ident": "en"
         },
         {
          "DHQarticle-id": 609,
          "articleType": "article",
          "date_processed": "2022-04-01T00:00:00",
          "language_ident": "en"
         },
         {
          "DHQarticle-id": 610,
          "articleType": "article",
          "date_processed": "2022-05-18T00:00:00",
          "language_ident": "en"
         },
         {
          "DHQarticle-id": 611,
          "articleType": "article",
          "date_processed": "2022-02-23T00:00:00",
          "language_ident": "en"
         },
         {
          "DHQarticle-id": 612,
          "articleType": "article",
          "date_processed": "2022-06-25T00:00:00",
          "language_ident": "en"
         },
         {
          "DHQarticle-id": 613,
          "articleType": "article",
          "date_processed": "2022-04-21T00:00:00",
          "language_ident": "en"
         },
         {
          "DHQarticle-id": 614,
          "articleType": "article",
          "date_processed": "2022-05-03T00:00:00",
          "language_ident": "en"
         },
         {
          "DHQarticle-id": 615,
          "articleType": "article",
          "date_processed": "2022-05-04T00:00:00",
          "language_ident": "en"
         },
         {
          "DHQarticle-id": 616,
          "articleType": "article",
          "date_processed": "2022-05-02T00:00:00",
          "language_ident": "en"
         },
         {
          "DHQarticle-id": 617,
          "articleType": "review",
          "date_processed": "2022-04-01T00:00:00",
          "language_ident": "en"
         },
         {
          "DHQarticle-id": 618,
          "articleType": "article",
          "date_processed": "2022-06-25T00:00:00",
          "language_ident": "en"
         },
         {
          "DHQarticle-id": 619,
          "articleType": "article",
          "date_processed": "2022-05-12T00:00:00",
          "language_ident": "en"
         },
         {
          "DHQarticle-id": 620,
          "articleType": "article",
          "date_processed": "2022-06-25T00:00:00",
          "language_ident": "en"
         },
         {
          "DHQarticle-id": 621,
          "articleType": "article",
          "date_processed": "2022-06-25T00:00:00",
          "language_ident": "en"
         },
         {
          "DHQarticle-id": 622,
          "articleType": "article",
          "date_processed": "2022-06-25T00:00:00",
          "language_ident": "en"
         },
         {
          "DHQarticle-id": 623,
          "articleType": "article",
          "date_processed": "2022-06-25T00:00:00",
          "language_ident": "en"
         },
         {
          "DHQarticle-id": 624,
          "articleType": "article",
          "date_processed": "2022-06-29T00:00:00",
          "language_ident": "en"
         },
         {
          "DHQarticle-id": 625,
          "articleType": "article",
          "date_processed": "2022-06-25T00:00:00",
          "language_ident": "en"
         },
         {
          "DHQarticle-id": 626,
          "articleType": "article",
          "date_processed": "2022-06-25T00:00:00",
          "language_ident": "en"
         },
         {
          "DHQarticle-id": 627,
          "articleType": "article",
          "date_processed": "2022-08-05T00:00:00",
          "language_ident": "en"
         },
         {
          "DHQarticle-id": 628,
          "articleType": "article",
          "date_processed": "2022-06-25T00:00:00",
          "language_ident": "en"
         },
         {
          "DHQarticle-id": 629,
          "articleType": "article",
          "date_processed": "2022-06-25T00:00:00",
          "language_ident": "en"
         },
         {
          "DHQarticle-id": 630,
          "articleType": "article",
          "date_processed": "2022-07-22T00:00:00",
          "language_ident": "en"
         },
         {
          "DHQarticle-id": 631,
          "articleType": "article",
          "date_processed": "2022-07-22T00:00:00",
          "language_ident": "en"
         },
         {
          "DHQarticle-id": 632,
          "articleType": "article",
          "date_processed": "2022-07-22T00:00:00",
          "language_ident": "en"
         },
         {
          "DHQarticle-id": 633,
          "articleType": "article",
          "date_processed": "2022-07-22T00:00:00",
          "language_ident": "en"
         },
         {
          "DHQarticle-id": 634,
          "articleType": "article",
          "date_processed": "2022-07-22T00:00:00",
          "language_ident": "en"
         },
         {
          "DHQarticle-id": 635,
          "articleType": "article",
          "date_processed": "2022-07-22T00:00:00",
          "language_ident": "en"
         },
         {
          "DHQarticle-id": 636,
          "articleType": "article",
          "date_processed": "2022-07-22T00:00:00",
          "language_ident": "en"
         },
         {
          "DHQarticle-id": 637,
          "articleType": "article",
          "date_processed": "2022-07-22T00:00:00",
          "language_ident": "en"
         },
         {
          "DHQarticle-id": 638,
          "articleType": "article",
          "date_processed": "2022-07-22T00:00:00",
          "language_ident": "en"
         },
         {
          "DHQarticle-id": 639,
          "articleType": "article",
          "date_processed": "2022-07-22T00:00:00",
          "language_ident": "en"
         },
         {
          "DHQarticle-id": 640,
          "articleType": "article",
          "date_processed": "2022-07-22T00:00:00",
          "language_ident": "en"
         },
         {
          "DHQarticle-id": 641,
          "articleType": "article",
          "date_processed": "2022-07-22T00:00:00",
          "language_ident": "en"
         },
         {
          "DHQarticle-id": 642,
          "articleType": "article",
          "date_processed": "2022-07-22T00:00:00",
          "language_ident": "en"
         },
         {
          "DHQarticle-id": 643,
          "articleType": "article",
          "date_processed": "2022-08-05T00:00:00",
          "language_ident": "en"
         },
         {
          "DHQarticle-id": 644,
          "articleType": "article",
          "date_processed": "2022-07-22T00:00:00",
          "language_ident": "en"
         },
         {
          "DHQarticle-id": 645,
          "articleType": "article",
          "date_processed": "2022-07-22T00:00:00",
          "language_ident": "en"
         },
         {
          "DHQarticle-id": 646,
          "articleType": "article",
          "date_processed": "2022-06-25T00:00:00",
          "language_ident": "en"
         },
         {
          "DHQarticle-id": 647,
          "articleType": "article",
          "date_processed": "2022-08-05T00:00:00",
          "language_ident": "en"
         },
         {
          "DHQarticle-id": 648,
          "articleType": "article",
          "date_processed": "2022-09-16T00:00:00",
          "language_ident": "en"
         },
         {
          "DHQarticle-id": 649,
          "articleType": "article",
          "date_processed": "2022-09-16T00:00:00",
          "language_ident": "en"
         },
         {
          "DHQarticle-id": 650,
          "articleType": "article",
          "date_processed": "2023-12-15T00:00:00",
          "language_ident": "en"
         },
         {
          "DHQarticle-id": 651,
          "articleType": "article",
          "date_processed": "2022-12-22T00:00:00",
          "language_ident": "en"
         },
         {
          "DHQarticle-id": 652,
          "articleType": "article",
          "date_processed": "2023-05-26T00:00:00",
          "language_ident": "en"
         },
         {
          "DHQarticle-id": 653,
          "articleType": "article",
          "date_processed": "2022-12-22T00:00:00",
          "language_ident": "en"
         },
         {
          "DHQarticle-id": 654,
          "articleType": "article",
          "date_processed": "2022-12-22T00:00:00",
          "language_ident": "en"
         },
         {
          "DHQarticle-id": 655,
          "articleType": "article",
          "date_processed": "2022-10-14T00:00:00",
          "language_ident": "en"
         },
         {
          "DHQarticle-id": 656,
          "articleType": "article",
          "date_processed": "2022-10-14T00:00:00",
          "language_ident": "en"
         },
         {
          "DHQarticle-id": 657,
          "articleType": "article",
          "date_processed": "2022-12-22T00:00:00",
          "language_ident": "en"
         },
         {
          "DHQarticle-id": 658,
          "articleType": "article",
          "date_processed": "2023-01-06T00:00:00",
          "language_ident": "en"
         },
         {
          "DHQarticle-id": 659,
          "articleType": "article",
          "date_processed": "2022-12-22T00:00:00",
          "language_ident": "en"
         },
         {
          "DHQarticle-id": 660,
          "articleType": "article",
          "date_processed": "2023-05-26T00:00:00",
          "language_ident": "en"
         },
         {
          "DHQarticle-id": 661,
          "articleType": "article",
          "date_processed": "2023-05-26T00:00:00",
          "language_ident": "en"
         },
         {
          "DHQarticle-id": 662,
          "articleType": "article",
          "date_processed": "2023-05-26T00:00:00",
          "language_ident": "en"
         },
         {
          "DHQarticle-id": 663,
          "articleType": "article",
          "date_processed": "2023-02-03T00:00:00",
          "language_ident": "en"
         },
         {
          "DHQarticle-id": 664,
          "articleType": "article",
          "date_processed": "2022-12-23T00:00:00",
          "language_ident": "en"
         },
         {
          "DHQarticle-id": 665,
          "articleType": "article",
          "date_processed": "2023-05-26T00:00:00",
          "language_ident": "en"
         },
         {
          "DHQarticle-id": 666,
          "articleType": "article",
          "date_processed": "2023-05-26T00:00:00",
          "language_ident": "en"
         },
         {
          "DHQarticle-id": 667,
          "articleType": "article",
          "date_processed": "2023-05-26T00:00:00",
          "language_ident": "en"
         },
         {
          "DHQarticle-id": 668,
          "articleType": "article",
          "date_processed": "2023-05-26T00:00:00",
          "language_ident": "en"
         },
         {
          "DHQarticle-id": 669,
          "articleType": "article",
          "date_processed": "2023-05-26T00:00:00",
          "language_ident": "en"
         },
         {
          "DHQarticle-id": 670,
          "articleType": "article",
          "date_processed": "2023-05-26T00:00:00",
          "language_ident": "en"
         },
         {
          "DHQarticle-id": 671,
          "articleType": "introduction",
          "date_processed": "2023-05-26T00:00:00",
          "language_ident": "en"
         },
         {
          "DHQarticle-id": 672,
          "articleType": "article",
          "date_processed": "2023-02-03T00:00:00",
          "language_ident": "en"
         },
         {
          "DHQarticle-id": 673,
          "articleType": "article",
          "date_processed": "2023-07-07T00:00:00",
          "language_ident": "en"
         },
         {
          "DHQarticle-id": 674,
          "articleType": "article",
          "date_processed": "2023-07-28T00:00:00",
          "language_ident": "en"
         },
         {
          "DHQarticle-id": 675,
          "articleType": "article",
          "date_processed": "2023-05-31T00:00:00",
          "language_ident": "en"
         },
         {
          "DHQarticle-id": 676,
          "articleType": "article",
          "date_processed": "2023-05-26T00:00:00",
          "language_ident": "en"
         },
         {
          "DHQarticle-id": 677,
          "articleType": "article",
          "date_processed": "2023-10-06T00:00:00",
          "language_ident": "en"
         },
         {
          "DHQarticle-id": 678,
          "articleType": "article",
          "date_processed": "2024-04-26T00:00:00",
          "language_ident": "en"
         },
         {
          "DHQarticle-id": 679,
          "articleType": "article",
          "date_processed": "2023-05-26T00:00:00",
          "language_ident": "en"
         },
         {
          "DHQarticle-id": 680,
          "articleType": "article",
          "date_processed": "2023-06-21T00:00:00",
          "language_ident": "en"
         },
         {
          "DHQarticle-id": 681,
          "articleType": "article",
          "date_processed": "2023-06-21T00:00:00",
          "language_ident": "en"
         },
         {
          "DHQarticle-id": 682,
          "articleType": "article",
          "date_processed": "2023-07-28T00:00:00",
          "language_ident": "en"
         },
         {
          "DHQarticle-id": 683,
          "articleType": "article",
          "date_processed": "2023-07-28T00:00:00",
          "language_ident": "en"
         },
         {
          "DHQarticle-id": 684,
          "articleType": "article",
          "date_processed": "2023-06-22T00:00:00",
          "language_ident": "en"
         },
         {
          "DHQarticle-id": 685,
          "articleType": "article",
          "date_processed": "2023-07-07T00:00:00",
          "language_ident": "en"
         },
         {
          "DHQarticle-id": 686,
          "articleType": "article",
          "date_processed": "2023-07-07T00:00:00",
          "language_ident": "en"
         },
         {
          "DHQarticle-id": 687,
          "articleType": "article",
          "date_processed": "2023-07-07T00:00:00",
          "language_ident": "en"
         },
         {
          "DHQarticle-id": 688,
          "articleType": "article",
          "date_processed": "2023-07-07T00:00:00",
          "language_ident": "en"
         },
         {
          "DHQarticle-id": 689,
          "articleType": "article",
          "date_processed": "2023-07-07T00:00:00",
          "language_ident": "en"
         },
         {
          "DHQarticle-id": 690,
          "articleType": "article",
          "date_processed": "2023-07-07T00:00:00",
          "language_ident": "en"
         },
         {
          "DHQarticle-id": 691,
          "articleType": "article",
          "date_processed": "2023-07-07T00:00:00",
          "language_ident": "en"
         },
         {
          "DHQarticle-id": 692,
          "articleType": "article",
          "date_processed": "2023-07-07T00:00:00",
          "language_ident": "en"
         },
         {
          "DHQarticle-id": 693,
          "articleType": "article",
          "date_processed": "2023-07-20T00:00:00",
          "language_ident": "en"
         },
         {
          "DHQarticle-id": 694,
          "articleType": "article",
          "date_processed": "2023-07-20T00:00:00",
          "language_ident": "en"
         },
         {
          "DHQarticle-id": 695,
          "articleType": "article",
          "date_processed": "2024-03-14T00:00:00",
          "language_ident": "en"
         },
         {
          "DHQarticle-id": 696,
          "articleType": "article",
          "date_processed": "2023-07-20T00:00:00",
          "language_ident": "en"
         },
         {
          "DHQarticle-id": 697,
          "articleType": "article",
          "date_processed": "2023-07-28T00:00:00",
          "language_ident": "en"
         },
         {
          "DHQarticle-id": 698,
          "articleType": "article",
          "date_processed": "2023-07-20T00:00:00",
          "language_ident": "en"
         },
         {
          "DHQarticle-id": 699,
          "articleType": "article",
          "date_processed": "2023-07-20T00:00:00",
          "language_ident": "en"
         },
         {
          "DHQarticle-id": 700,
          "articleType": "article",
          "date_processed": "2023-07-20T00:00:00",
          "language_ident": "en"
         },
         {
          "DHQarticle-id": 701,
          "articleType": "article",
          "date_processed": "2023-07-10T00:00:00",
          "language_ident": "en"
         },
         {
          "DHQarticle-id": 702,
          "articleType": "article",
          "date_processed": "2023-07-20T00:00:00",
          "language_ident": "en"
         },
         {
          "DHQarticle-id": 703,
          "articleType": "article",
          "date_processed": "2023-07-10T00:00:00",
          "language_ident": "en"
         },
         {
          "DHQarticle-id": 704,
          "articleType": "article",
          "date_processed": "2023-07-10T00:00:00",
          "language_ident": "en"
         },
         {
          "DHQarticle-id": 705,
          "articleType": "article",
          "date_processed": "2023-07-20T00:00:00",
          "language_ident": "en"
         },
         {
          "DHQarticle-id": 706,
          "articleType": "article",
          "date_processed": "2023-07-20T00:00:00",
          "language_ident": "en"
         },
         {
          "DHQarticle-id": 707,
          "articleType": "article",
          "date_processed": "2023-07-20T00:00:00",
          "language_ident": "en"
         },
         {
          "DHQarticle-id": 708,
          "articleType": "article",
          "date_processed": "2023-07-10T00:00:00",
          "language_ident": "en"
         },
         {
          "DHQarticle-id": 709,
          "articleType": "article",
          "date_processed": "2023-08-10T00:00:00",
          "language_ident": "en"
         },
         {
          "DHQarticle-id": 710,
          "articleType": "article",
          "date_processed": "2024-04-26T00:00:00",
          "language_ident": "en"
         },
         {
          "DHQarticle-id": 711,
          "articleType": "article",
          "date_processed": "2023-07-10T00:00:00",
          "language_ident": "en"
         },
         {
          "DHQarticle-id": 712,
          "articleType": "article",
          "date_processed": "2023-12-15T00:00:00",
          "language_ident": "en"
         },
         {
          "DHQarticle-id": 713,
          "articleType": "article",
          "date_processed": "2023-07-19T00:00:00",
          "language_ident": "en"
         },
         {
          "DHQarticle-id": 714,
          "articleType": "article",
          "date_processed": "2023-08-10T00:00:00",
          "language_ident": "en"
         },
         {
          "DHQarticle-id": 715,
          "articleType": "article",
          "date_processed": "2023-08-24T00:00:00",
          "language_ident": "en"
         },
         {
          "DHQarticle-id": 716,
          "articleType": "article",
          "date_processed": "",
          "language_ident": "en"
         },
         {
          "DHQarticle-id": 717,
          "articleType": "article",
          "date_processed": "2023-12-15T00:00:00",
          "language_ident": "en"
         },
         {
          "DHQarticle-id": 718,
          "articleType": "article",
          "date_processed": "2024-02-27T00:00:00",
          "language_ident": "en"
         },
         {
          "DHQarticle-id": 719,
          "articleType": "article",
          "date_processed": "2023-07-28T00:00:00",
          "language_ident": "en"
         },
         {
          "DHQarticle-id": 720,
          "articleType": "article",
          "date_processed": "2023-12-20T00:00:00",
          "language_ident": "en"
         },
         {
          "DHQarticle-id": 721,
          "articleType": "article",
          "date_processed": "2023-12-15T00:00:00",
          "language_ident": "en"
         },
         {
          "DHQarticle-id": 722,
          "articleType": "article",
          "date_processed": "",
          "language_ident": "en"
         },
         {
          "DHQarticle-id": 723,
          "articleType": "article",
          "date_processed": "2024-01-12T00:00:00",
          "language_ident": "en"
         },
         {
          "DHQarticle-id": 724,
          "articleType": "article",
          "date_processed": "2023-12-15T00:00:00",
          "language_ident": "en"
         },
         {
          "DHQarticle-id": 725,
          "articleType": "article",
          "date_processed": "2023-12-15T00:00:00",
          "language_ident": "en"
         },
         {
          "DHQarticle-id": 726,
          "articleType": "article",
          "date_processed": "2023-12-15T00:00:00",
          "language_ident": "en"
         },
         {
          "DHQarticle-id": 727,
          "articleType": "article",
          "date_processed": "2023-12-15T00:00:00",
          "language_ident": "en"
         },
         {
          "DHQarticle-id": 728,
          "articleType": "article",
          "date_processed": "2023-12-15T00:00:00",
          "language_ident": "en"
         },
         {
          "DHQarticle-id": 729,
          "articleType": "article",
          "date_processed": "2024-02-23T00:00:00",
          "language_ident": "en"
         },
         {
          "DHQarticle-id": 730,
          "articleType": "article",
          "date_processed": "2023-12-18T00:00:00",
          "language_ident": "en"
         },
         {
          "DHQarticle-id": 731,
          "articleType": "article",
          "date_processed": "2024-02-23T00:00:00",
          "language_ident": "en"
         },
         {
          "DHQarticle-id": 732,
          "articleType": "article",
          "date_processed": "2024-01-05T00:00:00",
          "language_ident": "en"
         },
         {
          "DHQarticle-id": 733,
          "articleType": "article",
          "date_processed": "2024-02-23T00:00:00",
          "language_ident": "en"
         },
         {
          "DHQarticle-id": 734,
          "articleType": "article",
          "date_processed": "2024-02-23T00:00:00",
          "language_ident": "en"
         },
         {
          "DHQarticle-id": 735,
          "articleType": "article",
          "date_processed": "2024-02-07T00:00:00",
          "language_ident": "en"
         },
         {
          "DHQarticle-id": 736,
          "articleType": "article",
          "date_processed": "2024-02-23T00:00:00",
          "language_ident": "en"
         },
         {
          "DHQarticle-id": 737,
          "articleType": "article",
          "date_processed": "2024-03-29T00:00:00",
          "language_ident": "en"
         },
         {
          "DHQarticle-id": 738,
          "articleType": "article",
          "date_processed": "2024-02-23T00:00:00",
          "language_ident": "en"
         },
         {
          "DHQarticle-id": 739,
          "articleType": "article",
          "date_processed": "",
          "language_ident": "en"
         },
         {
          "DHQarticle-id": 740,
          "articleType": "article",
          "date_processed": "",
          "language_ident": "en"
         },
         {
          "DHQarticle-id": 741,
          "articleType": "article",
          "date_processed": "2024-04-26T00:00:00",
          "language_ident": "en"
         },
         {
          "DHQarticle-id": 742,
          "articleType": "article",
          "date_processed": "",
          "language_ident": "en"
         },
         {
          "DHQarticle-id": 743,
          "articleType": "article",
          "date_processed": "2024-04-26T00:00:00",
          "language_ident": "en"
         },
         {
          "DHQarticle-id": 744,
          "articleType": "article",
          "date_processed": "",
          "language_ident": "en"
         },
         {
          "DHQarticle-id": 745,
          "articleType": "article",
          "date_processed": "2024-06-05T00:00:00",
          "language_ident": "en"
         },
         {
          "DHQarticle-id": 746,
          "articleType": "article",
          "date_processed": "",
          "language_ident": "en"
         },
         {
          "DHQarticle-id": 747,
          "articleType": "article",
          "date_processed": "2024-05-24T00:00:00",
          "language_ident": "en"
         },
         {
          "DHQarticle-id": 748,
          "articleType": "article",
          "date_processed": "",
          "language_ident": "en"
         },
         {
          "DHQarticle-id": 749,
          "articleType": "article",
          "date_processed": "",
          "language_ident": "en"
         },
         {
          "DHQarticle-id": 750,
          "articleType": "article",
          "date_processed": "",
          "language_ident": "en"
         },
         {
          "DHQarticle-id": 751,
          "articleType": "article",
          "date_processed": "",
          "language_ident": "en"
         },
         {
          "DHQarticle-id": 752,
          "articleType": "article",
          "date_processed": "",
          "language_ident": "en"
         },
         {
          "DHQarticle-id": 753,
          "articleType": "article",
          "date_processed": "",
          "language_ident": "en"
         },
         {
          "DHQarticle-id": 754,
          "articleType": "article",
          "date_processed": "",
          "language_ident": "en"
         },
         {
          "DHQarticle-id": 755,
          "articleType": "article",
          "date_processed": "",
          "language_ident": "en"
         },
         {
          "DHQarticle-id": 800,
          "articleType": "article",
          "date_processed": "2023-12-15T00:00:00",
          "language_ident": "en"
         },
         {
          "DHQarticle-id": 846,
          "articleType": "editorial",
          "date_processed": "2020-06-18T00:00:00",
          "language_ident": "en"
         }
        ],
        "data-401a818c26f710c4e1e26bbf750858dd": [
         {
          "DHQarticle-id": 605,
          "date_processed": "2022-04-01T00:00:00",
          "language_ident": "en"
         },
         {
          "DHQarticle-id": 1,
          "date_processed": "2007-04-03T00:00:00",
          "language_ident": "en"
         },
         {
          "DHQarticle-id": 2,
          "date_processed": "2007-04-03T00:00:00",
          "language_ident": "en"
         },
         {
          "DHQarticle-id": 3,
          "date_processed": "2007-04-03T00:00:00",
          "language_ident": null
         },
         {
          "DHQarticle-id": 4,
          "date_processed": "2007-04-03T00:00:00",
          "language_ident": "en"
         },
         {
          "DHQarticle-id": 5,
          "date_processed": "2007-04-03T00:00:00",
          "language_ident": "en"
         },
         {
          "DHQarticle-id": 6,
          "date_processed": "2007-04-03T00:00:00",
          "language_ident": "en"
         },
         {
          "DHQarticle-id": 7,
          "date_processed": "2007-04-03T00:00:00",
          "language_ident": "en"
         },
         {
          "DHQarticle-id": 8,
          "date_processed": "2007-04-03T00:00:00",
          "language_ident": "en"
         },
         {
          "DHQarticle-id": 9,
          "date_processed": "2007-09-12T00:00:00",
          "language_ident": "en"
         },
         {
          "DHQarticle-id": 10,
          "date_processed": "2007-09-12T00:00:00",
          "language_ident": "en"
         },
         {
          "DHQarticle-id": 11,
          "date_processed": "2007-09-12T00:00:00",
          "language_ident": "en"
         },
         {
          "DHQarticle-id": 12,
          "date_processed": "2007-09-12T00:00:00",
          "language_ident": "en"
         },
         {
          "DHQarticle-id": 13,
          "date_processed": "2007-09-12T00:00:00",
          "language_ident": "en"
         },
         {
          "DHQarticle-id": 14,
          "date_processed": "2007-09-12T00:00:00",
          "language_ident": "en"
         },
         {
          "DHQarticle-id": 15,
          "date_processed": "2008-06-21T00:00:00",
          "language_ident": "en"
         },
         {
          "DHQarticle-id": 16,
          "date_processed": "2008-06-21T00:00:00",
          "language_ident": "en"
         },
         {
          "DHQarticle-id": 17,
          "date_processed": "2008-06-21T00:00:00",
          "language_ident": "en"
         },
         {
          "DHQarticle-id": 18,
          "date_processed": "2008-06-21T00:00:00",
          "language_ident": "en"
         },
         {
          "DHQarticle-id": 19,
          "date_processed": "2008-06-21T00:00:00",
          "language_ident": "en"
         },
         {
          "DHQarticle-id": 20,
          "date_processed": "2008-06-21T00:00:00",
          "language_ident": "en"
         },
         {
          "DHQarticle-id": 21,
          "date_processed": "2009-02-26T00:00:00",
          "language_ident": "en"
         },
         {
          "DHQarticle-id": 22,
          "date_processed": "2009-02-26T00:00:00",
          "language_ident": "en"
         },
         {
          "DHQarticle-id": 23,
          "date_processed": "2009-02-26T00:00:00",
          "language_ident": "en"
         },
         {
          "DHQarticle-id": 24,
          "date_processed": "2009-02-26T00:00:00",
          "language_ident": "en"
         },
         {
          "DHQarticle-id": 25,
          "date_processed": "2009-02-26T00:00:00",
          "language_ident": "en"
         },
         {
          "DHQarticle-id": 26,
          "date_processed": "2009-02-26T00:00:00",
          "language_ident": "en"
         },
         {
          "DHQarticle-id": 27,
          "date_processed": "2009-02-26T00:00:00",
          "language_ident": null
         },
         {
          "DHQarticle-id": 28,
          "date_processed": "2009-02-26T00:00:00",
          "language_ident": "en"
         },
         {
          "DHQarticle-id": 29,
          "date_processed": "2009-02-26T00:00:00",
          "language_ident": "en"
         },
         {
          "DHQarticle-id": 30,
          "date_processed": "2009-02-26T00:00:00",
          "language_ident": "en"
         },
         {
          "DHQarticle-id": 31,
          "date_processed": "2009-02-26T00:00:00",
          "language_ident": "en"
         },
         {
          "DHQarticle-id": 32,
          "date_processed": "2009-02-26T00:00:00",
          "language_ident": "en"
         },
         {
          "DHQarticle-id": 33,
          "date_processed": "2009-02-26T00:00:00",
          "language_ident": "en"
         },
         {
          "DHQarticle-id": 34,
          "date_processed": "2009-02-25T00:00:00",
          "language_ident": "en"
         },
         {
          "DHQarticle-id": 35,
          "date_processed": "2009-02-26T00:00:00",
          "language_ident": "en"
         },
         {
          "DHQarticle-id": 36,
          "date_processed": "2009-02-26T00:00:00",
          "language_ident": "en"
         },
         {
          "DHQarticle-id": 37,
          "date_processed": "2009-06-18T00:00:00",
          "language_ident": "en"
         },
         {
          "DHQarticle-id": 38,
          "date_processed": "2009-06-18T00:00:00",
          "language_ident": "en"
         },
         {
          "DHQarticle-id": 39,
          "date_processed": "2009-06-18T00:00:00",
          "language_ident": "en"
         },
         {
          "DHQarticle-id": 40,
          "date_processed": "2009-06-18T00:00:00",
          "language_ident": "en"
         },
         {
          "DHQarticle-id": 41,
          "date_processed": "2009-06-18T00:00:00",
          "language_ident": "en"
         },
         {
          "DHQarticle-id": 42,
          "date_processed": "2009-06-18T00:00:00",
          "language_ident": "en"
         },
         {
          "DHQarticle-id": 43,
          "date_processed": "2009-06-18T00:00:00",
          "language_ident": "en"
         },
         {
          "DHQarticle-id": 44,
          "date_processed": "2009-06-18T00:00:00",
          "language_ident": "en"
         },
         {
          "DHQarticle-id": 45,
          "date_processed": "2009-06-18T00:00:00",
          "language_ident": "en"
         },
         {
          "DHQarticle-id": 46,
          "date_processed": "2009-06-18T00:00:00",
          "language_ident": "en"
         },
         {
          "DHQarticle-id": 47,
          "date_processed": "2009-06-18T00:00:00",
          "language_ident": "en"
         },
         {
          "DHQarticle-id": 48,
          "date_processed": "2009-06-18T00:00:00",
          "language_ident": "en"
         },
         {
          "DHQarticle-id": 49,
          "date_processed": "2009-06-18T00:00:00",
          "language_ident": "en"
         },
         {
          "DHQarticle-id": 50,
          "date_processed": "2009-09-29T00:00:00",
          "language_ident": "en"
         },
         {
          "DHQarticle-id": 51,
          "date_processed": "2009-09-29T00:00:00",
          "language_ident": "en"
         },
         {
          "DHQarticle-id": 52,
          "date_processed": "2009-09-29T00:00:00",
          "language_ident": "en"
         },
         {
          "DHQarticle-id": 53,
          "date_processed": "2009-09-29T00:00:00",
          "language_ident": "en"
         },
         {
          "DHQarticle-id": 54,
          "date_processed": "2009-09-29T00:00:00",
          "language_ident": "en"
         },
         {
          "DHQarticle-id": 55,
          "date_processed": "2009-09-29T00:00:00",
          "language_ident": "en"
         },
         {
          "DHQarticle-id": 56,
          "date_processed": "2009-09-29T00:00:00",
          "language_ident": "en"
         },
         {
          "DHQarticle-id": 57,
          "date_processed": "2009-09-29T00:00:00",
          "language_ident": "en"
         },
         {
          "DHQarticle-id": 58,
          "date_processed": "2009-09-29T00:00:00",
          "language_ident": "en"
         },
         {
          "DHQarticle-id": 59,
          "date_processed": "2009-09-29T00:00:00",
          "language_ident": "en"
         },
         {
          "DHQarticle-id": 60,
          "date_processed": "2009-09-29T00:00:00",
          "language_ident": "en"
         },
         {
          "DHQarticle-id": 61,
          "date_processed": "2009-09-29T00:00:00",
          "language_ident": "en"
         },
         {
          "DHQarticle-id": 62,
          "date_processed": "2009-09-29T00:00:00",
          "language_ident": "en"
         },
         {
          "DHQarticle-id": 63,
          "date_processed": "2009-09-29T00:00:00",
          "language_ident": "en"
         },
         {
          "DHQarticle-id": 64,
          "date_processed": "2009-09-29T00:00:00",
          "language_ident": "en"
         },
         {
          "DHQarticle-id": 65,
          "date_processed": "2009-09-29T00:00:00",
          "language_ident": "en"
         },
         {
          "DHQarticle-id": 66,
          "date_processed": "2009-09-29T00:00:00",
          "language_ident": "en"
         },
         {
          "DHQarticle-id": 67,
          "date_processed": "2009-09-29T00:00:00",
          "language_ident": "en"
         },
         {
          "DHQarticle-id": 68,
          "date_processed": "2010-03-20T00:00:00",
          "language_ident": "en"
         },
         {
          "DHQarticle-id": 69,
          "date_processed": "2010-03-20T00:00:00",
          "language_ident": "en"
         },
         {
          "DHQarticle-id": 70,
          "date_processed": "2010-03-20T00:00:00",
          "language_ident": "en"
         },
         {
          "DHQarticle-id": 71,
          "date_processed": "2010-03-20T00:00:00",
          "language_ident": "en"
         },
         {
          "DHQarticle-id": 72,
          "date_processed": "2010-03-20T00:00:00",
          "language_ident": "en"
         },
         {
          "DHQarticle-id": 73,
          "date_processed": "2010-03-20T00:00:00",
          "language_ident": "en"
         },
         {
          "DHQarticle-id": 74,
          "date_processed": "2010-03-20T00:00:00",
          "language_ident": "en"
         },
         {
          "DHQarticle-id": 75,
          "date_processed": "2010-03-20T00:00:00",
          "language_ident": "en"
         },
         {
          "DHQarticle-id": 76,
          "date_processed": "2010-03-20T00:00:00",
          "language_ident": "en"
         },
         {
          "DHQarticle-id": 77,
          "date_processed": "2010-03-20T00:00:00",
          "language_ident": "en"
         },
         {
          "DHQarticle-id": 78,
          "date_processed": "2010-03-20T00:00:00",
          "language_ident": "en"
         },
         {
          "DHQarticle-id": 79,
          "date_processed": "2010-03-20T00:00:00",
          "language_ident": "en"
         },
         {
          "DHQarticle-id": 80,
          "date_processed": "2010-07-20T00:00:00",
          "language_ident": "en"
         },
         {
          "DHQarticle-id": 81,
          "date_processed": "2010-07-20T00:00:00",
          "language_ident": "en"
         },
         {
          "DHQarticle-id": 82,
          "date_processed": "2010-07-20T00:00:00",
          "language_ident": "en"
         },
         {
          "DHQarticle-id": 83,
          "date_processed": "2010-09-01T00:00:00",
          "language_ident": "en"
         },
         {
          "DHQarticle-id": 84,
          "date_processed": "2010-07-20T00:00:00",
          "language_ident": "en"
         },
         {
          "DHQarticle-id": 85,
          "date_processed": "2010-09-01T00:00:00",
          "language_ident": "en"
         },
         {
          "DHQarticle-id": 86,
          "date_processed": "2010-09-01T00:00:00",
          "language_ident": "en"
         },
         {
          "DHQarticle-id": 87,
          "date_processed": "2010-07-20T00:00:00",
          "language_ident": "en"
         },
         {
          "DHQarticle-id": 88,
          "date_processed": "2010-10-10T00:00:00",
          "language_ident": "en"
         },
         {
          "DHQarticle-id": 89,
          "date_processed": "2010-09-01T00:00:00",
          "language_ident": "en"
         },
         {
          "DHQarticle-id": 90,
          "date_processed": "2011-03-10T00:00:00",
          "language_ident": "en"
         },
         {
          "DHQarticle-id": 91,
          "date_processed": "2011-03-10T00:00:00",
          "language_ident": "en"
         },
         {
          "DHQarticle-id": 92,
          "date_processed": "2011-05-17T00:00:00",
          "language_ident": "en"
         },
         {
          "DHQarticle-id": 93,
          "date_processed": "2011-05-17T00:00:00",
          "language_ident": "en"
         },
         {
          "DHQarticle-id": 94,
          "date_processed": "2011-05-17T00:00:00",
          "language_ident": "en"
         },
         {
          "DHQarticle-id": 95,
          "date_processed": "2011-03-03T00:00:00",
          "language_ident": "en"
         },
         {
          "DHQarticle-id": 96,
          "date_processed": "2011-06-21T00:00:00",
          "language_ident": "en"
         },
         {
          "DHQarticle-id": 97,
          "date_processed": "2011-05-17T00:00:00",
          "language_ident": "en"
         },
         {
          "DHQarticle-id": 98,
          "date_processed": "2011-11-15T00:00:00",
          "language_ident": "en"
         },
         {
          "DHQarticle-id": 99,
          "date_processed": "2011-11-15T00:00:00",
          "language_ident": "en"
         },
         {
          "DHQarticle-id": 100,
          "date_processed": "2011-11-15T00:00:00",
          "language_ident": "en"
         },
         {
          "DHQarticle-id": 101,
          "date_processed": "2011-05-02T00:00:00",
          "language_ident": "en"
         },
         {
          "DHQarticle-id": 102,
          "date_processed": "2011-06-27T00:00:00",
          "language_ident": "en"
         },
         {
          "DHQarticle-id": 103,
          "date_processed": "2011-11-15T00:00:00",
          "language_ident": "en"
         },
         {
          "DHQarticle-id": 104,
          "date_processed": "2011-11-15T00:00:00",
          "language_ident": "en"
         },
         {
          "DHQarticle-id": 105,
          "date_processed": "2011-11-15T00:00:00",
          "language_ident": "en"
         },
         {
          "DHQarticle-id": 106,
          "date_processed": "2011-06-27T00:00:00",
          "language_ident": "en"
         },
         {
          "DHQarticle-id": 107,
          "date_processed": "2011-06-27T00:00:00",
          "language_ident": "en"
         },
         {
          "DHQarticle-id": 108,
          "date_processed": "2011-09-12T00:00:00",
          "language_ident": "en"
         },
         {
          "DHQarticle-id": 109,
          "date_processed": "2011-11-15T00:00:00",
          "language_ident": "en"
         },
         {
          "DHQarticle-id": 110,
          "date_processed": "2012-01-25T00:00:00",
          "language_ident": "en"
         },
         {
          "DHQarticle-id": 111,
          "date_processed": "2012-10-25T00:00:00",
          "language_ident": "en"
         },
         {
          "DHQarticle-id": 112,
          "date_processed": "2012-05-24T00:00:00",
          "language_ident": "en"
         },
         {
          "DHQarticle-id": 113,
          "date_processed": "2012-06-26T00:00:00",
          "language_ident": "en"
         },
         {
          "DHQarticle-id": 114,
          "date_processed": "2013-07-01T00:00:00",
          "language_ident": "en"
         },
         {
          "DHQarticle-id": 115,
          "date_processed": "2013-07-01T00:00:00",
          "language_ident": "en"
         },
         {
          "DHQarticle-id": 116,
          "date_processed": "2013-10-10T00:00:00",
          "language_ident": "en"
         },
         {
          "DHQarticle-id": 117,
          "date_processed": "2012-05-18T00:00:00",
          "language_ident": "en"
         },
         {
          "DHQarticle-id": 118,
          "date_processed": "2012-10-05T00:00:00",
          "language_ident": "en"
         },
         {
          "DHQarticle-id": 119,
          "date_processed": "2012-07-31T00:00:00",
          "language_ident": "en"
         },
         {
          "DHQarticle-id": 120,
          "date_processed": "2012-07-11T00:00:00",
          "language_ident": "en"
         },
         {
          "DHQarticle-id": 121,
          "date_processed": "2012-10-12T00:00:00",
          "language_ident": "en"
         },
         {
          "DHQarticle-id": 122,
          "date_processed": "2012-11-01T00:00:00",
          "language_ident": "en"
         },
         {
          "DHQarticle-id": 123,
          "date_processed": "2012-10-26T00:00:00",
          "language_ident": "en"
         },
         {
          "DHQarticle-id": 124,
          "date_processed": "2012-08-16T00:00:00",
          "language_ident": "en"
         },
         {
          "DHQarticle-id": 125,
          "date_processed": "2012-10-12T00:00:00",
          "language_ident": "en"
         },
         {
          "DHQarticle-id": 126,
          "date_processed": "2012-10-05T00:00:00",
          "language_ident": "en"
         },
         {
          "DHQarticle-id": 127,
          "date_processed": "2012-07-31T00:00:00",
          "language_ident": "en"
         },
         {
          "DHQarticle-id": 128,
          "date_processed": "2012-10-26T00:00:00",
          "language_ident": "en"
         },
         {
          "DHQarticle-id": 129,
          "date_processed": "2012-07-31T00:00:00",
          "language_ident": "en"
         },
         {
          "DHQarticle-id": 130,
          "date_processed": "2012-11-27T00:00:00",
          "language_ident": "en"
         },
         {
          "DHQarticle-id": 131,
          "date_processed": "2012-11-27T00:00:00",
          "language_ident": "en"
         },
         {
          "DHQarticle-id": 132,
          "date_processed": "2012-11-27T00:00:00",
          "language_ident": "en"
         },
         {
          "DHQarticle-id": 133,
          "date_processed": "2012-11-27T00:00:00",
          "language_ident": "en"
         },
         {
          "DHQarticle-id": 134,
          "date_processed": "2012-11-27T00:00:00",
          "language_ident": "en"
         },
         {
          "DHQarticle-id": 135,
          "date_processed": "2012-11-27T00:00:00",
          "language_ident": "en"
         },
         {
          "DHQarticle-id": 136,
          "date_processed": "2012-10-12T00:00:00",
          "language_ident": "en"
         },
         {
          "DHQarticle-id": 137,
          "date_processed": "2012-10-12T00:00:00",
          "language_ident": "en"
         },
         {
          "DHQarticle-id": 138,
          "date_processed": "2012-10-12T00:00:00",
          "language_ident": "en"
         },
         {
          "DHQarticle-id": 139,
          "date_processed": "2012-10-12T00:00:00",
          "language_ident": "en"
         },
         {
          "DHQarticle-id": 140,
          "date_processed": "2013-07-01T00:00:00",
          "language_ident": "en"
         },
         {
          "DHQarticle-id": 141,
          "date_processed": "2012-11-26T00:00:00",
          "language_ident": "en"
         },
         {
          "DHQarticle-id": 142,
          "date_processed": "2013-07-01T00:00:00",
          "language_ident": "en"
         },
         {
          "DHQarticle-id": 143,
          "date_processed": "2013-07-01T00:00:00",
          "language_ident": "en"
         },
         {
          "DHQarticle-id": 144,
          "date_processed": "2013-07-01T00:00:00",
          "language_ident": "en"
         },
         {
          "DHQarticle-id": 145,
          "date_processed": "2013-07-01T00:00:00",
          "language_ident": "en"
         },
         {
          "DHQarticle-id": 146,
          "date_processed": "2013-07-01T00:00:00",
          "language_ident": "en"
         },
         {
          "DHQarticle-id": 147,
          "date_processed": "2013-07-01T00:00:00",
          "language_ident": "en"
         },
         {
          "DHQarticle-id": 148,
          "date_processed": "2013-07-01T00:00:00",
          "language_ident": "en"
         },
         {
          "DHQarticle-id": 149,
          "date_processed": "2013-07-02T00:00:00",
          "language_ident": "en"
         },
         {
          "DHQarticle-id": 150,
          "date_processed": "2013-07-03T00:00:00",
          "language_ident": "en"
         },
         {
          "DHQarticle-id": 151,
          "date_processed": "2013-07-01T00:00:00",
          "language_ident": "en"
         },
         {
          "DHQarticle-id": 152,
          "date_processed": "2013-07-01T00:00:00",
          "language_ident": "en"
         },
         {
          "DHQarticle-id": 153,
          "date_processed": "2013-07-01T00:00:00",
          "language_ident": "en"
         },
         {
          "DHQarticle-id": 154,
          "date_processed": "2013-07-01T00:00:00",
          "language_ident": "en"
         },
         {
          "DHQarticle-id": 155,
          "date_processed": "2013-07-01T00:00:00",
          "language_ident": "en"
         },
         {
          "DHQarticle-id": 156,
          "date_processed": "2013-07-01T00:00:00",
          "language_ident": "en"
         },
         {
          "DHQarticle-id": 157,
          "date_processed": "2013-07-01T00:00:00",
          "language_ident": "en"
         },
         {
          "DHQarticle-id": 158,
          "date_processed": "2013-10-10T00:00:00",
          "language_ident": "en"
         },
         {
          "DHQarticle-id": 159,
          "date_processed": "2013-10-10T00:00:00",
          "language_ident": "en"
         },
         {
          "DHQarticle-id": 160,
          "date_processed": "2013-10-10T00:00:00",
          "language_ident": "en"
         },
         {
          "DHQarticle-id": 161,
          "date_processed": "2013-07-01T00:00:00",
          "language_ident": "en"
         },
         {
          "DHQarticle-id": 162,
          "date_processed": "2013-12-19T00:00:00",
          "language_ident": "en"
         },
         {
          "DHQarticle-id": 163,
          "date_processed": "2013-10-10T00:00:00",
          "language_ident": "en"
         },
         {
          "DHQarticle-id": 164,
          "date_processed": "2013-10-12T00:00:00",
          "language_ident": "en"
         },
         {
          "DHQarticle-id": 165,
          "date_processed": "2013-12-19T00:00:00",
          "language_ident": "en"
         },
         {
          "DHQarticle-id": 166,
          "date_processed": "2013-12-19T00:00:00",
          "language_ident": "en"
         },
         {
          "DHQarticle-id": 167,
          "date_processed": "2013-12-19T00:00:00",
          "language_ident": "en"
         },
         {
          "DHQarticle-id": 168,
          "date_processed": "2014-04-17T00:00:00",
          "language_ident": "en"
         },
         {
          "DHQarticle-id": 169,
          "date_processed": "2014-04-30T00:00:00",
          "language_ident": "en"
         },
         {
          "DHQarticle-id": 170,
          "date_processed": "2014-04-01T00:00:00",
          "language_ident": "en"
         },
         {
          "DHQarticle-id": 171,
          "date_processed": "2014-04-17T00:00:00",
          "language_ident": "en"
         },
         {
          "DHQarticle-id": 172,
          "date_processed": "2014-04-24T00:00:00",
          "language_ident": "en"
         },
         {
          "DHQarticle-id": 173,
          "date_processed": "2014-04-30T00:00:00",
          "language_ident": "en"
         },
         {
          "DHQarticle-id": 174,
          "date_processed": "2014-04-17T00:00:00",
          "language_ident": "en"
         },
         {
          "DHQarticle-id": 175,
          "date_processed": "2014-04-17T00:00:00",
          "language_ident": "en"
         },
         {
          "DHQarticle-id": 176,
          "date_processed": "2014-04-01T00:00:00",
          "language_ident": "en"
         },
         {
          "DHQarticle-id": 177,
          "date_processed": "2014-07-18T00:00:00",
          "language_ident": "en"
         },
         {
          "DHQarticle-id": 178,
          "date_processed": "2014-07-18T00:00:00",
          "language_ident": "en"
         },
         {
          "DHQarticle-id": 179,
          "date_processed": "2014-05-29T00:00:00",
          "language_ident": "en"
         },
         {
          "DHQarticle-id": 180,
          "date_processed": "2014-07-18T00:00:00",
          "language_ident": "en"
         },
         {
          "DHQarticle-id": 181,
          "date_processed": "2014-07-18T00:00:00",
          "language_ident": "en"
         },
         {
          "DHQarticle-id": 182,
          "date_processed": "2014-10-09T00:00:00",
          "language_ident": "en"
         },
         {
          "DHQarticle-id": 183,
          "date_processed": "2014-10-09T00:00:00",
          "language_ident": "en"
         },
         {
          "DHQarticle-id": 184,
          "date_processed": "2014-10-09T00:00:00",
          "language_ident": "en"
         },
         {
          "DHQarticle-id": 185,
          "date_processed": "2014-10-09T00:00:00",
          "language_ident": "en"
         },
         {
          "DHQarticle-id": 186,
          "date_processed": "2015-09-02T00:00:00",
          "language_ident": "en"
         },
         {
          "DHQarticle-id": 187,
          "date_processed": "2014-12-20T00:00:00",
          "language_ident": "en"
         },
         {
          "DHQarticle-id": 188,
          "date_processed": "2014-10-09T00:00:00",
          "language_ident": "en"
         },
         {
          "DHQarticle-id": 189,
          "date_processed": "2014-10-09T00:00:00",
          "language_ident": "en"
         },
         {
          "DHQarticle-id": 190,
          "date_processed": "2014-12-20T00:00:00",
          "language_ident": "en"
         },
         {
          "DHQarticle-id": 191,
          "date_processed": "2014-10-09T00:00:00",
          "language_ident": "en"
         },
         {
          "DHQarticle-id": 192,
          "date_processed": "2014-12-25T00:00:00",
          "language_ident": "en"
         },
         {
          "DHQarticle-id": 193,
          "date_processed": "2015-12-03T00:00:00",
          "language_ident": "en"
         },
         {
          "DHQarticle-id": 194,
          "date_processed": "2014-12-20T00:00:00",
          "language_ident": "en"
         },
         {
          "DHQarticle-id": 195,
          "date_processed": "2014-12-20T00:00:00",
          "language_ident": "en"
         },
         {
          "DHQarticle-id": 196,
          "date_processed": "2014-12-20T00:00:00",
          "language_ident": "en"
         },
         {
          "DHQarticle-id": 197,
          "date_processed": "2014-12-25T00:00:00",
          "language_ident": "en"
         },
         {
          "DHQarticle-id": 198,
          "date_processed": "2015-05-26T00:00:00",
          "language_ident": "en"
         },
         {
          "DHQarticle-id": 199,
          "date_processed": "2015-02-28T00:00:00",
          "language_ident": "en"
         },
         {
          "DHQarticle-id": 200,
          "date_processed": "2015-09-02T00:00:00",
          "language_ident": "en"
         },
         {
          "DHQarticle-id": 201,
          "date_processed": "2015-09-02T00:00:00",
          "language_ident": "en"
         },
         {
          "DHQarticle-id": 202,
          "date_processed": "2015-09-02T00:00:00",
          "language_ident": "en"
         },
         {
          "DHQarticle-id": 203,
          "date_processed": "2015-05-26T00:00:00",
          "language_ident": "en"
         },
         {
          "DHQarticle-id": 204,
          "date_processed": "2015-05-26T00:00:00",
          "language_ident": "en"
         },
         {
          "DHQarticle-id": 205,
          "date_processed": "2015-05-21T00:00:00",
          "language_ident": "en"
         },
         {
          "DHQarticle-id": 206,
          "date_processed": "2015-05-26T00:00:00",
          "language_ident": "en"
         },
         {
          "DHQarticle-id": 207,
          "date_processed": "2015-05-26T00:00:00",
          "language_ident": "en"
         },
         {
          "DHQarticle-id": 208,
          "date_processed": "2015-09-02T00:00:00",
          "language_ident": "en"
         },
         {
          "DHQarticle-id": 209,
          "date_processed": "2015-09-02T00:00:00",
          "language_ident": "en"
         },
         {
          "DHQarticle-id": 210,
          "date_processed": "2015-12-23T00:00:00",
          "language_ident": "en"
         },
         {
          "DHQarticle-id": 211,
          "date_processed": "2015-09-02T00:00:00",
          "language_ident": "en"
         },
         {
          "DHQarticle-id": 212,
          "date_processed": "2015-12-23T00:00:00",
          "language_ident": "en"
         },
         {
          "DHQarticle-id": 213,
          "date_processed": "2015-08-07T00:00:00",
          "language_ident": "en"
         },
         {
          "DHQarticle-id": 214,
          "date_processed": "2015-12-23T00:00:00",
          "language_ident": "en"
         },
         {
          "DHQarticle-id": 215,
          "date_processed": "2015-08-25T00:00:00",
          "language_ident": "en"
         },
         {
          "DHQarticle-id": 216,
          "date_processed": "2015-09-02T00:00:00",
          "language_ident": "en"
         },
         {
          "DHQarticle-id": 217,
          "date_processed": "2015-08-26T00:00:00",
          "language_ident": "en"
         },
         {
          "DHQarticle-id": 218,
          "date_processed": "2015-12-23T00:00:00",
          "language_ident": "en"
         },
         {
          "DHQarticle-id": 219,
          "date_processed": "2015-09-01T00:00:00",
          "language_ident": "en"
         },
         {
          "DHQarticle-id": 220,
          "date_processed": "2015-12-23T00:00:00",
          "language_ident": "en"
         },
         {
          "DHQarticle-id": 221,
          "date_processed": "2015-12-01T00:00:00",
          "language_ident": "en"
         },
         {
          "DHQarticle-id": 222,
          "date_processed": "2015-12-23T00:00:00",
          "language_ident": "en"
         },
         {
          "DHQarticle-id": 223,
          "date_processed": "2015-12-23T00:00:00",
          "language_ident": "en"
         },
         {
          "DHQarticle-id": 224,
          "date_processed": "2015-12-23T00:00:00",
          "language_ident": "en"
         },
         {
          "DHQarticle-id": 225,
          "date_processed": "2015-12-23T00:00:00",
          "language_ident": "en"
         },
         {
          "DHQarticle-id": 226,
          "date_processed": "2016-02-12T00:00:00",
          "language_ident": "en"
         },
         {
          "DHQarticle-id": 227,
          "date_processed": "2015-12-03T00:00:00",
          "language_ident": "en"
         },
         {
          "DHQarticle-id": 228,
          "date_processed": "2016-02-12T00:00:00",
          "language_ident": "en"
         },
         {
          "DHQarticle-id": 229,
          "date_processed": "2016-02-12T00:00:00",
          "language_ident": "en"
         },
         {
          "DHQarticle-id": 230,
          "date_processed": "2015-12-23T00:00:00",
          "language_ident": "en"
         },
         {
          "DHQarticle-id": 231,
          "date_processed": "2016-02-12T00:00:00",
          "language_ident": "en"
         },
         {
          "DHQarticle-id": 232,
          "date_processed": "2016-02-12T00:00:00",
          "language_ident": "en"
         },
         {
          "DHQarticle-id": 233,
          "date_processed": "2016-02-12T00:00:00",
          "language_ident": "en"
         },
         {
          "DHQarticle-id": 234,
          "date_processed": "2015-12-23T00:00:00",
          "language_ident": "en"
         },
         {
          "DHQarticle-id": 235,
          "date_processed": "2016-02-12T00:00:00",
          "language_ident": "en"
         },
         {
          "DHQarticle-id": 236,
          "date_processed": "2016-02-12T00:00:00",
          "language_ident": "en"
         },
         {
          "DHQarticle-id": 237,
          "date_processed": "2015-12-31T00:00:00",
          "language_ident": "en"
         },
         {
          "DHQarticle-id": 238,
          "date_processed": "2016-02-12T00:00:00",
          "language_ident": "en"
         },
         {
          "DHQarticle-id": 239,
          "date_processed": "2016-02-12T00:00:00",
          "language_ident": "en"
         },
         {
          "DHQarticle-id": 240,
          "date_processed": "2016-02-12T00:00:00",
          "language_ident": "en"
         },
         {
          "DHQarticle-id": 241,
          "date_processed": "2016-02-03T00:00:00",
          "language_ident": "en"
         },
         {
          "DHQarticle-id": 242,
          "date_processed": "2016-06-07T00:00:00",
          "language_ident": "en"
         },
         {
          "DHQarticle-id": 243,
          "date_processed": "2016-06-07T00:00:00",
          "language_ident": "en"
         },
         {
          "DHQarticle-id": 244,
          "date_processed": "2016-07-12T00:00:00",
          "language_ident": "en"
         },
         {
          "DHQarticle-id": 245,
          "date_processed": "2016-05-27T00:00:00",
          "language_ident": "en"
         },
         {
          "DHQarticle-id": 246,
          "date_processed": "2016-05-19T00:00:00",
          "language_ident": "en"
         },
         {
          "DHQarticle-id": 247,
          "date_processed": "2016-06-07T00:00:00",
          "language_ident": "en"
         },
         {
          "DHQarticle-id": 248,
          "date_processed": "2016-05-19T00:00:00",
          "language_ident": "en"
         },
         {
          "DHQarticle-id": 249,
          "date_processed": "2016-06-07T00:00:00",
          "language_ident": "en"
         },
         {
          "DHQarticle-id": 250,
          "date_processed": "2016-06-07T00:00:00",
          "language_ident": "en"
         },
         {
          "DHQarticle-id": 251,
          "date_processed": "2016-06-07T00:00:00",
          "language_ident": "en"
         },
         {
          "DHQarticle-id": 252,
          "date_processed": "2016-06-07T00:00:00",
          "language_ident": "en"
         },
         {
          "DHQarticle-id": 253,
          "date_processed": "2016-06-07T00:00:00",
          "language_ident": "en"
         },
         {
          "DHQarticle-id": 254,
          "date_processed": "2016-07-12T00:00:00",
          "language_ident": "en"
         },
         {
          "DHQarticle-id": 255,
          "date_processed": "2016-06-06T00:00:00",
          "language_ident": "en"
         },
         {
          "DHQarticle-id": 256,
          "date_processed": "2016-08-15T00:00:00",
          "language_ident": "en"
         },
         {
          "DHQarticle-id": 257,
          "date_processed": "2016-08-03T00:00:00",
          "language_ident": "en"
         },
         {
          "DHQarticle-id": 258,
          "date_processed": "2016-06-17T00:00:00",
          "language_ident": "en"
         },
         {
          "DHQarticle-id": 259,
          "date_processed": "2016-10-04T00:00:00",
          "language_ident": "en"
         },
         {
          "DHQarticle-id": 260,
          "date_processed": "2016-07-12T00:00:00",
          "language_ident": "en"
         },
         {
          "DHQarticle-id": 261,
          "date_processed": "2016-09-09T00:00:00",
          "language_ident": "en"
         },
         {
          "DHQarticle-id": 262,
          "date_processed": "2016-07-12T00:00:00",
          "language_ident": "en"
         },
         {
          "DHQarticle-id": 263,
          "date_processed": "2016-07-28T00:00:00",
          "language_ident": "en"
         },
         {
          "DHQarticle-id": 264,
          "date_processed": "2016-08-10T00:00:00",
          "language_ident": "en"
         },
         {
          "DHQarticle-id": 265,
          "date_processed": "2016-10-04T00:00:00",
          "language_ident": "en"
         },
         {
          "DHQarticle-id": 266,
          "date_processed": "2016-07-12T00:00:00",
          "language_ident": "en"
         },
         {
          "DHQarticle-id": 267,
          "date_processed": "2016-08-17T00:00:00",
          "language_ident": "en"
         },
         {
          "DHQarticle-id": 268,
          "date_processed": "2016-10-04T00:00:00",
          "language_ident": "en"
         },
         {
          "DHQarticle-id": 269,
          "date_processed": "2016-10-04T00:00:00",
          "language_ident": "en"
         },
         {
          "DHQarticle-id": 270,
          "date_processed": "2016-10-04T00:00:00",
          "language_ident": "en"
         },
         {
          "DHQarticle-id": 271,
          "date_processed": "2016-10-10T00:00:00",
          "language_ident": "en"
         },
         {
          "DHQarticle-id": 272,
          "date_processed": "2016-10-24T00:00:00",
          "language_ident": "en"
         },
         {
          "DHQarticle-id": 273,
          "date_processed": "2016-11-08T00:00:00",
          "language_ident": "en"
         },
         {
          "DHQarticle-id": 274,
          "date_processed": "2016-11-29T00:00:00",
          "language_ident": "en"
         },
         {
          "DHQarticle-id": 275,
          "date_processed": "2016-11-08T00:00:00",
          "language_ident": "en"
         },
         {
          "DHQarticle-id": 276,
          "date_processed": "2016-11-29T00:00:00",
          "language_ident": "en"
         },
         {
          "DHQarticle-id": 277,
          "date_processed": "2016-11-08T00:00:00",
          "language_ident": "en"
         },
         {
          "DHQarticle-id": 278,
          "date_processed": "2016-11-22T00:00:00",
          "language_ident": "en"
         },
         {
          "DHQarticle-id": 279,
          "date_processed": "2017-01-19T00:00:00",
          "language_ident": "en"
         },
         {
          "DHQarticle-id": 280,
          "date_processed": "2016-11-22T00:00:00",
          "language_ident": "en"
         },
         {
          "DHQarticle-id": 281,
          "date_processed": "2016-11-29T00:00:00",
          "language_ident": "en"
         },
         {
          "DHQarticle-id": 282,
          "date_processed": "2016-12-01T00:00:00",
          "language_ident": "en"
         },
         {
          "DHQarticle-id": 283,
          "date_processed": "2016-11-29T00:00:00",
          "language_ident": "en"
         },
         {
          "DHQarticle-id": 284,
          "date_processed": "2017-01-10T00:00:00",
          "language_ident": "en"
         },
         {
          "DHQarticle-id": 285,
          "date_processed": "2017-03-16T00:00:00",
          "language_ident": "en"
         },
         {
          "DHQarticle-id": 286,
          "date_processed": "2017-02-14T00:00:00",
          "language_ident": "en"
         },
         {
          "DHQarticle-id": 287,
          "date_processed": "2017-02-07T00:00:00",
          "language_ident": "en"
         },
         {
          "DHQarticle-id": 288,
          "date_processed": "2017-02-20T00:00:00",
          "language_ident": "en"
         },
         {
          "DHQarticle-id": 289,
          "date_processed": "2017-05-02T00:00:00",
          "language_ident": "en"
         },
         {
          "DHQarticle-id": 290,
          "date_processed": "2017-02-27T00:00:00",
          "language_ident": "en"
         },
         {
          "DHQarticle-id": 291,
          "date_processed": "2017-05-22T00:00:00",
          "language_ident": "en"
         },
         {
          "DHQarticle-id": 292,
          "date_processed": "2017-05-22T00:00:00",
          "language_ident": "en"
         },
         {
          "DHQarticle-id": 293,
          "date_processed": "2017-05-22T00:00:00",
          "language_ident": "en"
         },
         {
          "DHQarticle-id": 294,
          "date_processed": "2017-05-22T00:00:00",
          "language_ident": "en"
         },
         {
          "DHQarticle-id": 295,
          "date_processed": "2017-05-22T00:00:00",
          "language_ident": "en"
         },
         {
          "DHQarticle-id": 296,
          "date_processed": "2017-05-22T00:00:00",
          "language_ident": "en"
         },
         {
          "DHQarticle-id": 297,
          "date_processed": "2017-05-22T00:00:00",
          "language_ident": "en"
         },
         {
          "DHQarticle-id": 298,
          "date_processed": "2017-05-22T00:00:00",
          "language_ident": "en"
         },
         {
          "DHQarticle-id": 299,
          "date_processed": "2017-03-12T00:00:00",
          "language_ident": "en"
         },
         {
          "DHQarticle-id": 300,
          "date_processed": "2017-05-02T00:00:00",
          "language_ident": "en"
         },
         {
          "DHQarticle-id": 302,
          "date_processed": "2017-10-02T00:00:00",
          "language_ident": "en"
         },
         {
          "DHQarticle-id": 303,
          "date_processed": "2017-10-02T00:00:00",
          "language_ident": "en"
         },
         {
          "DHQarticle-id": 304,
          "date_processed": "2017-10-02T00:00:00",
          "language_ident": "en"
         },
         {
          "DHQarticle-id": 305,
          "date_processed": "2017-10-02T00:00:00",
          "language_ident": "en"
         },
         {
          "DHQarticle-id": 306,
          "date_processed": "2017-10-02T00:00:00",
          "language_ident": "en"
         },
         {
          "DHQarticle-id": 307,
          "date_processed": "2017-05-22T00:00:00",
          "language_ident": "en"
         },
         {
          "DHQarticle-id": 308,
          "date_processed": "2017-05-22T00:00:00",
          "language_ident": "en"
         },
         {
          "DHQarticle-id": 309,
          "date_processed": "2017-05-22T00:00:00",
          "language_ident": "en"
         },
         {
          "DHQarticle-id": 310,
          "date_processed": "2017-10-02T00:00:00",
          "language_ident": "en"
         },
         {
          "DHQarticle-id": 311,
          "date_processed": "2017-10-02T00:00:00",
          "language_ident": "en"
         },
         {
          "DHQarticle-id": 312,
          "date_processed": "2017-10-02T00:00:00",
          "language_ident": "en"
         },
         {
          "DHQarticle-id": 313,
          "date_processed": "2017-12-22T00:00:00",
          "language_ident": "en"
         },
         {
          "DHQarticle-id": 314,
          "date_processed": "2017-10-02T00:00:00",
          "language_ident": "en"
         },
         {
          "DHQarticle-id": 315,
          "date_processed": "2017-10-02T00:00:00",
          "language_ident": "en"
         },
         {
          "DHQarticle-id": 316,
          "date_processed": "2017-08-28T00:00:00",
          "language_ident": "en"
         },
         {
          "DHQarticle-id": 317,
          "date_processed": "2017-06-27T00:00:00",
          "language_ident": "en"
         },
         {
          "DHQarticle-id": 318,
          "date_processed": "2017-08-28T00:00:00",
          "language_ident": "en"
         },
         {
          "DHQarticle-id": 319,
          "date_processed": "2017-10-02T00:00:00",
          "language_ident": "en"
         },
         {
          "DHQarticle-id": 320,
          "date_processed": "2017-10-02T00:00:00",
          "language_ident": "en"
         },
         {
          "DHQarticle-id": 321,
          "date_processed": "2017-08-28T00:00:00",
          "language_ident": "en"
         },
         {
          "DHQarticle-id": 322,
          "date_processed": "2017-10-02T00:00:00",
          "language_ident": "en"
         },
         {
          "DHQarticle-id": 323,
          "date_processed": "2017-08-28T00:00:00",
          "language_ident": "en"
         },
         {
          "DHQarticle-id": 324,
          "date_processed": "2017-08-28T00:00:00",
          "language_ident": "en"
         },
         {
          "DHQarticle-id": 325,
          "date_processed": "2017-10-03T00:00:00",
          "language_ident": "en"
         },
         {
          "DHQarticle-id": 326,
          "date_processed": "2018-01-08T00:00:00",
          "language_ident": "en"
         },
         {
          "DHQarticle-id": 327,
          "date_processed": "2018-01-08T00:00:00",
          "language_ident": "en"
         },
         {
          "DHQarticle-id": 328,
          "date_processed": "2018-01-08T00:00:00",
          "language_ident": "en"
         },
         {
          "DHQarticle-id": 329,
          "date_processed": "2017-08-28T00:00:00",
          "language_ident": "en"
         },
         {
          "DHQarticle-id": 330,
          "date_processed": "2017-10-02T00:00:00",
          "language_ident": "en"
         },
         {
          "DHQarticle-id": 331,
          "date_processed": "2017-09-26T00:00:00",
          "language_ident": "en"
         },
         {
          "DHQarticle-id": 332,
          "date_processed": "2017-08-28T00:00:00",
          "language_ident": "en"
         },
         {
          "DHQarticle-id": 333,
          "date_processed": "2017-09-26T00:00:00",
          "language_ident": "en"
         },
         {
          "DHQarticle-id": 334,
          "date_processed": "2017-10-02T00:00:00",
          "language_ident": "en"
         },
         {
          "DHQarticle-id": 335,
          "date_processed": "2017-10-02T00:00:00",
          "language_ident": "en"
         },
         {
          "DHQarticle-id": 336,
          "date_processed": "2017-11-01T00:00:00",
          "language_ident": "en"
         },
         {
          "DHQarticle-id": 337,
          "date_processed": "2017-11-01T00:00:00",
          "language_ident": "en"
         },
         {
          "DHQarticle-id": 338,
          "date_processed": "2018-01-08T00:00:00",
          "language_ident": "en"
         },
         {
          "DHQarticle-id": 339,
          "date_processed": "2017-12-12T00:00:00",
          "language_ident": "en"
         },
         {
          "DHQarticle-id": 340,
          "date_processed": "2017-12-22T00:00:00",
          "language_ident": "en"
         },
         {
          "DHQarticle-id": 341,
          "date_processed": "2018-01-08T00:00:00",
          "language_ident": "en"
         },
         {
          "DHQarticle-id": 342,
          "date_processed": "2018-01-08T00:00:00",
          "language_ident": "en"
         },
         {
          "DHQarticle-id": 343,
          "date_processed": "2018-01-08T00:00:00",
          "language_ident": "en"
         },
         {
          "DHQarticle-id": 344,
          "date_processed": "2017-12-22T00:00:00",
          "language_ident": "en"
         },
         {
          "DHQarticle-id": 345,
          "date_processed": "2018-04-04T00:00:00",
          "language_ident": "es"
         },
         {
          "DHQarticle-id": 346,
          "date_processed": "2018-04-04T00:00:00",
          "language_ident": "en"
         },
         {
          "DHQarticle-id": 347,
          "date_processed": "2018-04-04T00:00:00",
          "language_ident": "en"
         },
         {
          "DHQarticle-id": 348,
          "date_processed": "2018-04-06T00:00:00",
          "language_ident": "en"
         },
         {
          "DHQarticle-id": 349,
          "date_processed": "2018-04-06T00:00:00",
          "language_ident": "en"
         },
         {
          "DHQarticle-id": 350,
          "date_processed": "2018-01-22T00:00:00",
          "language_ident": "en"
         },
         {
          "DHQarticle-id": 351,
          "date_processed": "2018-04-04T00:00:00",
          "language_ident": "en"
         },
         {
          "DHQarticle-id": 352,
          "date_processed": "2018-04-04T00:00:00",
          "language_ident": "en"
         },
         {
          "DHQarticle-id": 353,
          "date_processed": "2018-04-04T00:00:00",
          "language_ident": "en"
         },
         {
          "DHQarticle-id": 354,
          "date_processed": "2018-04-06T00:00:00",
          "language_ident": "en"
         },
         {
          "DHQarticle-id": 355,
          "date_processed": "2018-04-04T00:00:00",
          "language_ident": "en"
         },
         {
          "DHQarticle-id": 356,
          "date_processed": "2018-01-31T00:00:00",
          "language_ident": "en"
         },
         {
          "DHQarticle-id": 357,
          "date_processed": "2018-04-06T00:00:00",
          "language_ident": "en"
         },
         {
          "DHQarticle-id": 358,
          "date_processed": "2018-04-04T00:00:00",
          "language_ident": "en"
         },
         {
          "DHQarticle-id": 359,
          "date_processed": "2018-04-06T00:00:00",
          "language_ident": "en"
         },
         {
          "DHQarticle-id": 360,
          "date_processed": "2018-02-13T00:00:00",
          "language_ident": "en"
         },
         {
          "DHQarticle-id": 361,
          "date_processed": "2018-02-13T00:00:00",
          "language_ident": "en"
         },
         {
          "DHQarticle-id": 362,
          "date_processed": "2018-04-06T00:00:00",
          "language_ident": "en"
         },
         {
          "DHQarticle-id": 363,
          "date_processed": "2018-04-06T00:00:00",
          "language_ident": "en"
         },
         {
          "DHQarticle-id": 364,
          "date_processed": "2018-04-06T00:00:00",
          "language_ident": "en"
         },
         {
          "DHQarticle-id": 365,
          "date_processed": "2018-04-06T00:00:00",
          "language_ident": "en"
         },
         {
          "DHQarticle-id": 366,
          "date_processed": "2018-04-06T00:00:00",
          "language_ident": "en"
         },
         {
          "DHQarticle-id": 367,
          "date_processed": "2018-04-06T00:00:00",
          "language_ident": "en"
         },
         {
          "DHQarticle-id": 368,
          "date_processed": "2018-05-09T00:00:00",
          "language_ident": "en"
         },
         {
          "DHQarticle-id": 369,
          "date_processed": "2018-05-09T00:00:00",
          "language_ident": "en"
         },
         {
          "DHQarticle-id": 370,
          "date_processed": "2018-05-09T00:00:00",
          "language_ident": "en"
         },
         {
          "DHQarticle-id": 371,
          "date_processed": "2018-05-09T00:00:00",
          "language_ident": "en"
         },
         {
          "DHQarticle-id": 372,
          "date_processed": "2018-05-07T00:00:00",
          "language_ident": "en"
         },
         {
          "DHQarticle-id": 373,
          "date_processed": "2018-05-04T00:00:00",
          "language_ident": "en"
         },
         {
          "DHQarticle-id": 374,
          "date_processed": "2018-07-03T00:00:00",
          "language_ident": "en"
         },
         {
          "DHQarticle-id": 375,
          "date_processed": "2019-10-14T00:00:00",
          "language_ident": "en"
         },
         {
          "DHQarticle-id": 376,
          "date_processed": "2018-07-03T00:00:00",
          "language_ident": "en"
         },
         {
          "DHQarticle-id": 377,
          "date_processed": "2018-07-03T00:00:00",
          "language_ident": "en"
         },
         {
          "DHQarticle-id": 378,
          "date_processed": "2018-07-03T00:00:00",
          "language_ident": "en"
         },
         {
          "DHQarticle-id": 379,
          "date_processed": "2018-09-05T00:00:00",
          "language_ident": "en"
         },
         {
          "DHQarticle-id": 380,
          "date_processed": "2018-07-03T00:00:00",
          "language_ident": "en"
         },
         {
          "DHQarticle-id": 381,
          "date_processed": "2019-04-12T00:00:00",
          "language_ident": "en"
         },
         {
          "DHQarticle-id": 382,
          "date_processed": "2018-07-28T00:00:00",
          "language_ident": "en"
         },
         {
          "DHQarticle-id": 383,
          "date_processed": "2018-11-19T00:00:00",
          "language_ident": "en"
         },
         {
          "DHQarticle-id": 384,
          "date_processed": "2018-11-19T00:00:00",
          "language_ident": "en"
         },
         {
          "DHQarticle-id": 385,
          "date_processed": "2018-11-19T00:00:00",
          "language_ident": "en"
         },
         {
          "DHQarticle-id": 386,
          "date_processed": "2018-09-12T00:00:00",
          "language_ident": "en"
         },
         {
          "DHQarticle-id": 387,
          "date_processed": "2018-09-12T00:00:00",
          "language_ident": "en"
         },
         {
          "DHQarticle-id": 388,
          "date_processed": "2018-09-12T00:00:00",
          "language_ident": "en"
         },
         {
          "DHQarticle-id": 389,
          "date_processed": "2019-09-12T00:00:00",
          "language_ident": "en"
         },
         {
          "DHQarticle-id": 390,
          "date_processed": "2018-09-12T00:00:00",
          "language_ident": "en"
         },
         {
          "DHQarticle-id": 391,
          "date_processed": "2018-09-12T00:00:00",
          "language_ident": "en"
         },
         {
          "DHQarticle-id": 392,
          "date_processed": "2018-09-18T00:00:00",
          "language_ident": "en"
         },
         {
          "DHQarticle-id": 393,
          "date_processed": "2018-09-12T00:00:00",
          "language_ident": "en"
         },
         {
          "DHQarticle-id": 394,
          "date_processed": "2018-09-12T00:00:00",
          "language_ident": "en"
         },
         {
          "DHQarticle-id": 395,
          "date_processed": "2018-11-19T00:00:00",
          "language_ident": "en"
         },
         {
          "DHQarticle-id": 396,
          "date_processed": "2018-11-19T00:00:00",
          "language_ident": "en"
         },
         {
          "DHQarticle-id": 397,
          "date_processed": "2018-12-03T00:00:00",
          "language_ident": "en"
         },
         {
          "DHQarticle-id": 398,
          "date_processed": "2018-09-12T00:00:00",
          "language_ident": "en"
         },
         {
          "DHQarticle-id": 399,
          "date_processed": "2018-11-19T00:00:00",
          "language_ident": "en"
         },
         {
          "DHQarticle-id": 400,
          "date_processed": "2018-12-31T00:00:00",
          "language_ident": "en"
         },
         {
          "DHQarticle-id": 401,
          "date_processed": "2018-12-31T00:00:00",
          "language_ident": "en"
         },
         {
          "DHQarticle-id": 402,
          "date_processed": "2019-02-04T00:00:00",
          "language_ident": "en"
         },
         {
          "DHQarticle-id": 403,
          "date_processed": "2019-02-04T00:00:00",
          "language_ident": "en"
         },
         {
          "DHQarticle-id": 404,
          "date_processed": "2019-01-11T00:00:00",
          "language_ident": "en"
         },
         {
          "DHQarticle-id": 405,
          "date_processed": "2019-02-04T00:00:00",
          "language_ident": "en"
         },
         {
          "DHQarticle-id": 406,
          "date_processed": "2019-01-12T00:00:00",
          "language_ident": "en"
         },
         {
          "DHQarticle-id": 407,
          "date_processed": "2019-07-26T00:00:00",
          "language_ident": "en"
         },
         {
          "DHQarticle-id": 408,
          "date_processed": "2019-02-04T00:00:00",
          "language_ident": "en"
         },
         {
          "DHQarticle-id": 409,
          "date_processed": "2019-04-26T00:00:00",
          "language_ident": "en"
         },
         {
          "DHQarticle-id": 410,
          "date_processed": "2019-04-26T00:00:00",
          "language_ident": "en"
         },
         {
          "DHQarticle-id": 411,
          "date_processed": "2019-04-26T00:00:00",
          "language_ident": "en"
         },
         {
          "DHQarticle-id": 412,
          "date_processed": "2019-04-26T00:00:00",
          "language_ident": "en"
         },
         {
          "DHQarticle-id": 413,
          "date_processed": "2019-04-26T00:00:00",
          "language_ident": "en"
         },
         {
          "DHQarticle-id": 414,
          "date_processed": "2019-10-14T00:00:00",
          "language_ident": "en"
         },
         {
          "DHQarticle-id": 415,
          "date_processed": "2019-06-11T00:00:00",
          "language_ident": "en"
         },
         {
          "DHQarticle-id": 416,
          "date_processed": "2019-08-01T00:00:00",
          "language_ident": "en"
         },
         {
          "DHQarticle-id": 417,
          "date_processed": "2019-08-01T00:00:00",
          "language_ident": "en"
         },
         {
          "DHQarticle-id": 418,
          "date_processed": "2019-08-01T00:00:00",
          "language_ident": "en"
         },
         {
          "DHQarticle-id": 419,
          "date_processed": "2019-08-01T00:00:00",
          "language_ident": "en"
         },
         {
          "DHQarticle-id": 420,
          "date_processed": "2019-08-01T00:00:00",
          "language_ident": "en"
         },
         {
          "DHQarticle-id": 421,
          "date_processed": "2019-08-01T00:00:00",
          "language_ident": "en"
         },
         {
          "DHQarticle-id": 422,
          "date_processed": "2019-08-01T00:00:00",
          "language_ident": "en"
         },
         {
          "DHQarticle-id": 423,
          "date_processed": "2019-10-14T00:00:00",
          "language_ident": "en"
         },
         {
          "DHQarticle-id": 424,
          "date_processed": "2024-05-15T00:00:00",
          "language_ident": "en"
         },
         {
          "DHQarticle-id": 425,
          "date_processed": "2019-08-01T00:00:00",
          "language_ident": "en"
         },
         {
          "DHQarticle-id": 426,
          "date_processed": "2019-10-14T00:00:00",
          "language_ident": "en"
         },
         {
          "DHQarticle-id": 427,
          "date_processed": "2019-10-14T00:00:00",
          "language_ident": "en"
         },
         {
          "DHQarticle-id": 428,
          "date_processed": "2019-10-14T00:00:00",
          "language_ident": "en"
         },
         {
          "DHQarticle-id": 429,
          "date_processed": "2019-10-14T00:00:00",
          "language_ident": "en"
         },
         {
          "DHQarticle-id": 430,
          "date_processed": "2019-10-14T00:00:00",
          "language_ident": "en"
         },
         {
          "DHQarticle-id": 431,
          "date_processed": "2019-10-10T00:00:00",
          "language_ident": "en"
         },
         {
          "DHQarticle-id": 432,
          "date_processed": "2024-03-28T00:00:00",
          "language_ident": "en"
         },
         {
          "DHQarticle-id": 433,
          "date_processed": "2019-12-14T00:00:00",
          "language_ident": "en"
         },
         {
          "DHQarticle-id": 434,
          "date_processed": "2019-12-14T00:00:00",
          "language_ident": "en"
         },
         {
          "DHQarticle-id": 435,
          "date_processed": "2019-12-14T00:00:00",
          "language_ident": "en"
         },
         {
          "DHQarticle-id": 436,
          "date_processed": "2019-12-14T00:00:00",
          "language_ident": "en"
         },
         {
          "DHQarticle-id": 437,
          "date_processed": "2020-12-20T00:00:00",
          "language_ident": "en"
         },
         {
          "DHQarticle-id": 438,
          "date_processed": "2019-12-14T00:00:00",
          "language_ident": "en"
         },
         {
          "DHQarticle-id": 439,
          "date_processed": "2019-12-14T00:00:00",
          "language_ident": "en"
         },
         {
          "DHQarticle-id": 440,
          "date_processed": "2019-12-14T00:00:00",
          "language_ident": "en"
         },
         {
          "DHQarticle-id": 441,
          "date_processed": "2019-12-14T00:00:00",
          "language_ident": "en"
         },
         {
          "DHQarticle-id": 442,
          "date_processed": "2020-03-20T00:00:00",
          "language_ident": "en"
         },
         {
          "DHQarticle-id": 443,
          "date_processed": "2020-03-20T00:00:00",
          "language_ident": "en"
         },
         {
          "DHQarticle-id": 444,
          "date_processed": "2020-03-20T00:00:00",
          "language_ident": "en"
         },
         {
          "DHQarticle-id": 445,
          "date_processed": "2020-06-19T00:00:00",
          "language_ident": "en"
         },
         {
          "DHQarticle-id": 446,
          "date_processed": "2020-03-20T00:00:00",
          "language_ident": "en"
         },
         {
          "DHQarticle-id": 447,
          "date_processed": "2020-03-20T00:00:00",
          "language_ident": "en"
         },
         {
          "DHQarticle-id": 448,
          "date_processed": "2020-03-20T00:00:00",
          "language_ident": "en"
         },
         {
          "DHQarticle-id": 449,
          "date_processed": "2020-03-20T00:00:00",
          "language_ident": "en"
         },
         {
          "DHQarticle-id": 450,
          "date_processed": "2020-03-20T00:00:00",
          "language_ident": "en"
         },
         {
          "DHQarticle-id": 451,
          "date_processed": "2020-06-19T00:00:00",
          "language_ident": "en"
         },
         {
          "DHQarticle-id": 452,
          "date_processed": "2020-06-19T00:00:00",
          "language_ident": "en"
         },
         {
          "DHQarticle-id": 453,
          "date_processed": "2020-06-19T00:00:00",
          "language_ident": "pt"
         },
         {
          "DHQarticle-id": 454,
          "date_processed": "2020-06-19T00:00:00",
          "language_ident": "en"
         },
         {
          "DHQarticle-id": 455,
          "date_processed": "2020-06-19T00:00:00",
          "language_ident": "en"
         },
         {
          "DHQarticle-id": 456,
          "date_processed": "2020-09-25T00:00:00",
          "language_ident": "en"
         },
         {
          "DHQarticle-id": 457,
          "date_processed": "2020-06-19T00:00:00",
          "language_ident": "en"
         },
         {
          "DHQarticle-id": 458,
          "date_processed": "2020-06-19T00:00:00",
          "language_ident": "pt"
         },
         {
          "DHQarticle-id": 459,
          "date_processed": "2020-06-19T00:00:00",
          "language_ident": "en"
         },
         {
          "DHQarticle-id": 460,
          "date_processed": "2020-06-19T00:00:00",
          "language_ident": "pt"
         },
         {
          "DHQarticle-id": 461,
          "date_processed": "2020-06-19T00:00:00",
          "language_ident": "en"
         },
         {
          "DHQarticle-id": 462,
          "date_processed": "2020-06-19T00:00:00",
          "language_ident": "en"
         },
         {
          "DHQarticle-id": 463,
          "date_processed": "2020-09-01T00:00:00",
          "language_ident": "en"
         },
         {
          "DHQarticle-id": 464,
          "date_processed": "2020-09-25T00:00:00",
          "language_ident": "en"
         },
         {
          "DHQarticle-id": 465,
          "date_processed": "2020-09-25T00:00:00",
          "language_ident": "en"
         },
         {
          "DHQarticle-id": 466,
          "date_processed": "2020-09-25T00:00:00",
          "language_ident": "en"
         },
         {
          "DHQarticle-id": 467,
          "date_processed": "2020-06-19T00:00:00",
          "language_ident": "pt"
         },
         {
          "DHQarticle-id": 468,
          "date_processed": "2020-09-25T00:00:00",
          "language_ident": "en"
         },
         {
          "DHQarticle-id": 469,
          "date_processed": "2020-06-19T00:00:00",
          "language_ident": "en"
         },
         {
          "DHQarticle-id": 470,
          "date_processed": "2020-09-25T00:00:00",
          "language_ident": "en"
         },
         {
          "DHQarticle-id": 471,
          "date_processed": "2020-09-25T00:00:00",
          "language_ident": "en"
         },
         {
          "DHQarticle-id": 472,
          "date_processed": "2020-09-01T00:00:00",
          "language_ident": "en"
         },
         {
          "DHQarticle-id": 473,
          "date_processed": "2020-09-25T00:00:00",
          "language_ident": "en"
         },
         {
          "DHQarticle-id": 474,
          "date_processed": "2020-09-25T00:00:00",
          "language_ident": "en"
         },
         {
          "DHQarticle-id": 475,
          "date_processed": "2020-07-29T00:00:00",
          "language_ident": "en"
         },
         {
          "DHQarticle-id": 476,
          "date_processed": "2020-09-25T00:00:00",
          "language_ident": "en"
         },
         {
          "DHQarticle-id": 477,
          "date_processed": "2020-09-25T00:00:00",
          "language_ident": "en"
         },
         {
          "DHQarticle-id": 478,
          "date_processed": "2020-09-25T00:00:00",
          "language_ident": "en"
         },
         {
          "DHQarticle-id": 479,
          "date_processed": "2020-09-25T00:00:00",
          "language_ident": "en"
         },
         {
          "DHQarticle-id": 480,
          "date_processed": "2020-09-25T00:00:00",
          "language_ident": "en"
         },
         {
          "DHQarticle-id": 481,
          "date_processed": "2020-09-25T00:00:00",
          "language_ident": "en"
         },
         {
          "DHQarticle-id": 482,
          "date_processed": "2020-12-15T00:00:00",
          "language_ident": "en"
         },
         {
          "DHQarticle-id": 483,
          "date_processed": "2020-09-25T00:00:00",
          "language_ident": "en"
         },
         {
          "DHQarticle-id": 484,
          "date_processed": "2020-09-25T00:00:00",
          "language_ident": "en"
         },
         {
          "DHQarticle-id": 485,
          "date_processed": "2020-09-25T00:00:00",
          "language_ident": "en"
         },
         {
          "DHQarticle-id": 486,
          "date_processed": "2020-09-25T00:00:00",
          "language_ident": "en"
         },
         {
          "DHQarticle-id": 487,
          "date_processed": "2020-09-25T00:00:00",
          "language_ident": "en"
         },
         {
          "DHQarticle-id": 488,
          "date_processed": "2024-03-01T00:00:00",
          "language_ident": "en"
         },
         {
          "DHQarticle-id": 489,
          "date_processed": "2020-09-25T00:00:00",
          "language_ident": "en"
         },
         {
          "DHQarticle-id": 490,
          "date_processed": "2020-12-15T00:00:00",
          "language_ident": "en"
         },
         {
          "DHQarticle-id": 491,
          "date_processed": "2020-12-15T00:00:00",
          "language_ident": "en"
         },
         {
          "DHQarticle-id": 492,
          "date_processed": "2024-04-26T00:00:00",
          "language_ident": "en"
         },
         {
          "DHQarticle-id": 493,
          "date_processed": "2020-08-15T00:00:00",
          "language_ident": "en"
         },
         {
          "DHQarticle-id": 494,
          "date_processed": "2020-12-15T00:00:00",
          "language_ident": "en"
         },
         {
          "DHQarticle-id": 495,
          "date_processed": "2020-12-20T00:00:00",
          "language_ident": "en"
         },
         {
          "DHQarticle-id": 496,
          "date_processed": "2020-12-20T00:00:00",
          "language_ident": "en"
         },
         {
          "DHQarticle-id": 497,
          "date_processed": "2020-12-20T00:00:00",
          "language_ident": "en"
         },
         {
          "DHQarticle-id": 498,
          "date_processed": "2020-12-20T00:00:00",
          "language_ident": "en"
         },
         {
          "DHQarticle-id": 499,
          "date_processed": "2020-12-20T00:00:00",
          "language_ident": "en"
         },
         {
          "DHQarticle-id": 500,
          "date_processed": "2020-12-20T00:00:00",
          "language_ident": "en"
         },
         {
          "DHQarticle-id": 501,
          "date_processed": "2021-03-05T00:00:00",
          "language_ident": "en"
         },
         {
          "DHQarticle-id": 502,
          "date_processed": "2020-12-15T00:00:00",
          "language_ident": "sp"
         },
         {
          "DHQarticle-id": 503,
          "date_processed": "2020-12-20T00:00:00",
          "language_ident": "en"
         },
         {
          "DHQarticle-id": 504,
          "date_processed": "2021-03-05T00:00:00",
          "language_ident": "en"
         },
         {
          "DHQarticle-id": 505,
          "date_processed": "2021-03-05T00:00:00",
          "language_ident": "en"
         },
         {
          "DHQarticle-id": 506,
          "date_processed": "2021-03-05T00:00:00",
          "language_ident": "en"
         },
         {
          "DHQarticle-id": 507,
          "date_processed": "2021-03-05T00:00:00",
          "language_ident": "en"
         },
         {
          "DHQarticle-id": 508,
          "date_processed": "2021-03-05T00:00:00",
          "language_ident": "en"
         },
         {
          "DHQarticle-id": 509,
          "date_processed": "2021-03-05T00:00:00",
          "language_ident": "en"
         },
         {
          "DHQarticle-id": 510,
          "date_processed": "2021-03-05T00:00:00",
          "language_ident": "en"
         },
         {
          "DHQarticle-id": 511,
          "date_processed": "2021-03-05T00:00:00",
          "language_ident": "en"
         },
         {
          "DHQarticle-id": 512,
          "date_processed": "2021-03-05T00:00:00",
          "language_ident": "en"
         },
         {
          "DHQarticle-id": 513,
          "date_processed": "2021-03-05T00:00:00",
          "language_ident": "en"
         },
         {
          "DHQarticle-id": 514,
          "date_processed": "2021-03-05T00:00:00",
          "language_ident": "en"
         },
         {
          "DHQarticle-id": 515,
          "date_processed": "2021-03-05T00:00:00",
          "language_ident": "en"
         },
         {
          "DHQarticle-id": 516,
          "date_processed": "2021-03-05T00:00:00",
          "language_ident": "en"
         },
         {
          "DHQarticle-id": 517,
          "date_processed": "2021-03-05T00:00:00",
          "language_ident": "en"
         },
         {
          "DHQarticle-id": 518,
          "date_processed": "2020-12-20T00:00:00",
          "language_ident": "en"
         },
         {
          "DHQarticle-id": 519,
          "date_processed": "2021-03-05T00:00:00",
          "language_ident": "en"
         },
         {
          "DHQarticle-id": 520,
          "date_processed": "2021-03-05T00:00:00",
          "language_ident": "en"
         },
         {
          "DHQarticle-id": 521,
          "date_processed": "2021-03-05T00:00:00",
          "language_ident": "en"
         },
         {
          "DHQarticle-id": 522,
          "date_processed": "2021-03-05T00:00:00",
          "language_ident": "en"
         },
         {
          "DHQarticle-id": 523,
          "date_processed": "2021-03-05T00:00:00",
          "language_ident": "en"
         },
         {
          "DHQarticle-id": 524,
          "date_processed": "2021-03-05T00:00:00",
          "language_ident": "en"
         },
         {
          "DHQarticle-id": 525,
          "date_processed": "2021-05-21T00:00:00",
          "language_ident": "en"
         },
         {
          "DHQarticle-id": 526,
          "date_processed": "2021-05-21T00:00:00",
          "language_ident": "en"
         },
         {
          "DHQarticle-id": 527,
          "date_processed": "2021-03-05T00:00:00",
          "language_ident": "en"
         },
         {
          "DHQarticle-id": 528,
          "date_processed": "2020-12-20T00:00:00",
          "language_ident": "en"
         },
         {
          "DHQarticle-id": 529,
          "date_processed": "2020-12-15T00:00:00",
          "language_ident": "en"
         },
         {
          "DHQarticle-id": 530,
          "date_processed": "2021-03-05T00:00:00",
          "language_ident": "en"
         },
         {
          "DHQarticle-id": 531,
          "date_processed": "2020-12-15T00:00:00",
          "language_ident": "en"
         },
         {
          "DHQarticle-id": 532,
          "date_processed": "2020-12-20T00:00:00",
          "language_ident": "en"
         },
         {
          "DHQarticle-id": 533,
          "date_processed": "2020-12-20T00:00:00",
          "language_ident": "en"
         },
         {
          "DHQarticle-id": 534,
          "date_processed": "2021-03-05T00:00:00",
          "language_ident": "en"
         },
         {
          "DHQarticle-id": 535,
          "date_processed": "2021-03-05T00:00:00",
          "language_ident": "en"
         },
         {
          "DHQarticle-id": 536,
          "date_processed": "2021-03-05T00:00:00",
          "language_ident": "en"
         },
         {
          "DHQarticle-id": 537,
          "date_processed": "2021-05-21T00:00:00",
          "language_ident": "en"
         },
         {
          "DHQarticle-id": 538,
          "date_processed": "2021-05-21T00:00:00",
          "language_ident": "en"
         },
         {
          "DHQarticle-id": 539,
          "date_processed": "2021-05-21T00:00:00",
          "language_ident": "en"
         },
         {
          "DHQarticle-id": 540,
          "date_processed": "2021-03-05T00:00:00",
          "language_ident": "en"
         },
         {
          "DHQarticle-id": 541,
          "date_processed": "2021-03-05T00:00:00",
          "language_ident": "en"
         },
         {
          "DHQarticle-id": 542,
          "date_processed": "2021-03-05T00:00:00",
          "language_ident": "en"
         },
         {
          "DHQarticle-id": 543,
          "date_processed": "2021-03-05T00:00:00",
          "language_ident": "en"
         },
         {
          "DHQarticle-id": 544,
          "date_processed": "2021-05-21T00:00:00",
          "language_ident": "en"
         },
         {
          "DHQarticle-id": 545,
          "date_processed": "2021-05-21T00:00:00",
          "language_ident": "en"
         },
         {
          "DHQarticle-id": 546,
          "date_processed": "2021-09-17T00:00:00",
          "language_ident": "en"
         },
         {
          "DHQarticle-id": 547,
          "date_processed": "2021-06-15T00:00:00",
          "language_ident": "en"
         },
         {
          "DHQarticle-id": 548,
          "date_processed": "2021-06-15T00:00:00",
          "language_ident": "en"
         },
         {
          "DHQarticle-id": 549,
          "date_processed": "2021-07-30T00:00:00",
          "language_ident": "en"
         },
         {
          "DHQarticle-id": 550,
          "date_processed": "2022-05-18T00:00:00",
          "language_ident": "en"
         },
         {
          "DHQarticle-id": 551,
          "date_processed": "2021-05-21T00:00:00",
          "language_ident": "en"
         },
         {
          "DHQarticle-id": 552,
          "date_processed": "2021-06-15T00:00:00",
          "language_ident": "en"
         },
         {
          "DHQarticle-id": 553,
          "date_processed": "2021-11-15T00:00:00",
          "language_ident": "en"
         },
         {
          "DHQarticle-id": 554,
          "date_processed": "2021-10-15T00:00:00",
          "language_ident": "en"
         },
         {
          "DHQarticle-id": 555,
          "date_processed": "2020-06-25T00:00:00",
          "language_ident": "en"
         },
         {
          "DHQarticle-id": 556,
          "date_processed": "2021-06-15T00:00:00",
          "language_ident": "en"
         },
         {
          "DHQarticle-id": 557,
          "date_processed": "2021-08-14T00:00:00",
          "language_ident": "en"
         },
         {
          "DHQarticle-id": 558,
          "date_processed": "2021-07-17T00:00:00",
          "language_ident": "en"
         },
         {
          "DHQarticle-id": 559,
          "date_processed": "2021-10-29T00:00:00",
          "language_ident": "en"
         },
         {
          "DHQarticle-id": 560,
          "date_processed": "2021-08-08T00:00:00",
          "language_ident": "en"
         },
         {
          "DHQarticle-id": 561,
          "date_processed": "2021-10-15T00:00:00",
          "language_ident": "en"
         },
         {
          "DHQarticle-id": 562,
          "date_processed": "2022-07-07T00:00:00",
          "language_ident": "en"
         },
         {
          "DHQarticle-id": 563,
          "date_processed": "2021-10-15T00:00:00",
          "language_ident": "en"
         },
         {
          "DHQarticle-id": 564,
          "date_processed": "2023-12-15T00:00:00",
          "language_ident": "en"
         },
         {
          "DHQarticle-id": 565,
          "date_processed": "2021-08-08T00:00:00",
          "language_ident": "en"
         },
         {
          "DHQarticle-id": 566,
          "date_processed": "2021-11-12T00:00:00",
          "language_ident": "en"
         },
         {
          "DHQarticle-id": 567,
          "date_processed": "2021-10-15T00:00:00",
          "language_ident": "en"
         },
         {
          "DHQarticle-id": 568,
          "date_processed": "2021-10-15T00:00:00",
          "language_ident": "en"
         },
         {
          "DHQarticle-id": 569,
          "date_processed": "2021-10-15T00:00:00",
          "language_ident": "en"
         },
         {
          "DHQarticle-id": 570,
          "date_processed": "2021-10-15T00:00:00",
          "language_ident": "en"
         },
         {
          "DHQarticle-id": 571,
          "date_processed": "2021-10-15T00:00:00",
          "language_ident": "en"
         },
         {
          "DHQarticle-id": 572,
          "date_processed": "2021-10-15T00:00:00",
          "language_ident": "en"
         },
         {
          "DHQarticle-id": 573,
          "date_processed": "2024-04-26T00:00:00",
          "language_ident": "en"
         },
         {
          "DHQarticle-id": 574,
          "date_processed": "2021-11-12T00:00:00",
          "language_ident": "en"
         },
         {
          "DHQarticle-id": 575,
          "date_processed": "2021-11-19T00:00:00",
          "language_ident": "en"
         },
         {
          "DHQarticle-id": 576,
          "date_processed": "",
          "language_ident": "en"
         },
         {
          "DHQarticle-id": 577,
          "date_processed": "2022-04-21T00:00:00",
          "language_ident": "en"
         },
         {
          "DHQarticle-id": 578,
          "date_processed": "2021-12-07T00:00:00",
          "language_ident": "en"
         },
         {
          "DHQarticle-id": 579,
          "date_processed": "2021-12-07T00:00:00",
          "language_ident": "en"
         },
         {
          "DHQarticle-id": 580,
          "date_processed": "",
          "language_ident": "en"
         },
         {
          "DHQarticle-id": 581,
          "date_processed": "2021-12-07T00:00:00",
          "language_ident": "en"
         },
         {
          "DHQarticle-id": 582,
          "date_processed": "2022-01-11T00:00:00",
          "language_ident": "en"
         },
         {
          "DHQarticle-id": 583,
          "date_processed": "2022-02-25T00:00:00",
          "language_ident": "en"
         },
         {
          "DHQarticle-id": 584,
          "date_processed": "2022-06-25T00:00:00",
          "language_ident": "en"
         },
         {
          "DHQarticle-id": 585,
          "date_processed": "2022-06-25T00:00:00",
          "language_ident": "en"
         },
         {
          "DHQarticle-id": 586,
          "date_processed": "2022-06-25T00:00:00",
          "language_ident": "en"
         },
         {
          "DHQarticle-id": 587,
          "date_processed": "2022-06-25T00:00:00",
          "language_ident": "en"
         },
         {
          "DHQarticle-id": 588,
          "date_processed": "2022-06-25T00:00:00",
          "language_ident": "en"
         },
         {
          "DHQarticle-id": 589,
          "date_processed": "2022-06-25T00:00:00",
          "language_ident": "en"
         },
         {
          "DHQarticle-id": 590,
          "date_processed": "2022-06-25T00:00:00",
          "language_ident": "en"
         },
         {
          "DHQarticle-id": 591,
          "date_processed": "2022-06-25T00:00:00",
          "language_ident": "en"
         },
         {
          "DHQarticle-id": 592,
          "date_processed": "2022-06-25T00:00:00",
          "language_ident": "en"
         },
         {
          "DHQarticle-id": 593,
          "date_processed": "2022-06-25T00:00:00",
          "language_ident": "en"
         },
         {
          "DHQarticle-id": 594,
          "date_processed": "2022-06-25T00:00:00",
          "language_ident": "en"
         },
         {
          "DHQarticle-id": 595,
          "date_processed": "2022-03-11T00:00:00",
          "language_ident": "en"
         },
         {
          "DHQarticle-id": 596,
          "date_processed": "2022-06-25T00:00:00",
          "language_ident": "en"
         },
         {
          "DHQarticle-id": 597,
          "date_processed": "2022-01-11T00:00:00",
          "language_ident": "en"
         },
         {
          "DHQarticle-id": 598,
          "date_processed": "2022-02-04T00:00:00",
          "language_ident": "en"
         },
         {
          "DHQarticle-id": 599,
          "date_processed": "2022-02-23T00:00:00",
          "language_ident": "en"
         },
         {
          "DHQarticle-id": 600,
          "date_processed": "2022-06-25T00:00:00",
          "language_ident": "en"
         },
         {
          "DHQarticle-id": 601,
          "date_processed": "2022-02-18T00:00:00",
          "language_ident": "en"
         },
         {
          "DHQarticle-id": 602,
          "date_processed": "2022-02-04T00:00:00",
          "language_ident": "en"
         },
         {
          "DHQarticle-id": 603,
          "date_processed": "2022-02-18T00:00:00",
          "language_ident": "en"
         },
         {
          "DHQarticle-id": 604,
          "date_processed": "2022-02-04T00:00:00",
          "language_ident": "en"
         },
         {
          "DHQarticle-id": 606,
          "date_processed": "2022-04-01T00:00:00",
          "language_ident": "en"
         },
         {
          "DHQarticle-id": 607,
          "date_processed": "2022-04-01T00:00:00",
          "language_ident": "en"
         },
         {
          "DHQarticle-id": 608,
          "date_processed": "2022-06-25T00:00:00",
          "language_ident": "en"
         },
         {
          "DHQarticle-id": 609,
          "date_processed": "2022-04-01T00:00:00",
          "language_ident": "en"
         },
         {
          "DHQarticle-id": 610,
          "date_processed": "2022-05-18T00:00:00",
          "language_ident": "en"
         },
         {
          "DHQarticle-id": 611,
          "date_processed": "2022-02-23T00:00:00",
          "language_ident": "en"
         },
         {
          "DHQarticle-id": 612,
          "date_processed": "2022-06-25T00:00:00",
          "language_ident": "en"
         },
         {
          "DHQarticle-id": 613,
          "date_processed": "2022-04-21T00:00:00",
          "language_ident": "en"
         },
         {
          "DHQarticle-id": 614,
          "date_processed": "2022-05-03T00:00:00",
          "language_ident": "en"
         },
         {
          "DHQarticle-id": 615,
          "date_processed": "2022-05-04T00:00:00",
          "language_ident": "en"
         },
         {
          "DHQarticle-id": 616,
          "date_processed": "2022-05-02T00:00:00",
          "language_ident": "en"
         },
         {
          "DHQarticle-id": 617,
          "date_processed": "2022-04-01T00:00:00",
          "language_ident": "en"
         },
         {
          "DHQarticle-id": 618,
          "date_processed": "2022-06-25T00:00:00",
          "language_ident": "en"
         },
         {
          "DHQarticle-id": 619,
          "date_processed": "2022-05-12T00:00:00",
          "language_ident": "en"
         },
         {
          "DHQarticle-id": 620,
          "date_processed": "2022-06-25T00:00:00",
          "language_ident": "en"
         },
         {
          "DHQarticle-id": 621,
          "date_processed": "2022-06-25T00:00:00",
          "language_ident": "en"
         },
         {
          "DHQarticle-id": 622,
          "date_processed": "2022-06-25T00:00:00",
          "language_ident": "en"
         },
         {
          "DHQarticle-id": 623,
          "date_processed": "2022-06-25T00:00:00",
          "language_ident": "en"
         },
         {
          "DHQarticle-id": 624,
          "date_processed": "2022-06-29T00:00:00",
          "language_ident": "en"
         },
         {
          "DHQarticle-id": 625,
          "date_processed": "2022-06-25T00:00:00",
          "language_ident": "en"
         },
         {
          "DHQarticle-id": 626,
          "date_processed": "2022-06-25T00:00:00",
          "language_ident": "en"
         },
         {
          "DHQarticle-id": 627,
          "date_processed": "2022-08-05T00:00:00",
          "language_ident": "en"
         },
         {
          "DHQarticle-id": 628,
          "date_processed": "2022-06-25T00:00:00",
          "language_ident": "en"
         },
         {
          "DHQarticle-id": 629,
          "date_processed": "2022-06-25T00:00:00",
          "language_ident": "en"
         },
         {
          "DHQarticle-id": 630,
          "date_processed": "2022-07-22T00:00:00",
          "language_ident": "en"
         },
         {
          "DHQarticle-id": 631,
          "date_processed": "2022-07-22T00:00:00",
          "language_ident": "en"
         },
         {
          "DHQarticle-id": 632,
          "date_processed": "2022-07-22T00:00:00",
          "language_ident": "en"
         },
         {
          "DHQarticle-id": 633,
          "date_processed": "2022-07-22T00:00:00",
          "language_ident": "en"
         },
         {
          "DHQarticle-id": 634,
          "date_processed": "2022-07-22T00:00:00",
          "language_ident": "en"
         },
         {
          "DHQarticle-id": 635,
          "date_processed": "2022-07-22T00:00:00",
          "language_ident": "en"
         },
         {
          "DHQarticle-id": 636,
          "date_processed": "2022-07-22T00:00:00",
          "language_ident": "en"
         },
         {
          "DHQarticle-id": 637,
          "date_processed": "2022-07-22T00:00:00",
          "language_ident": "en"
         },
         {
          "DHQarticle-id": 638,
          "date_processed": "2022-07-22T00:00:00",
          "language_ident": "en"
         },
         {
          "DHQarticle-id": 639,
          "date_processed": "2022-07-22T00:00:00",
          "language_ident": "en"
         },
         {
          "DHQarticle-id": 640,
          "date_processed": "2022-07-22T00:00:00",
          "language_ident": "en"
         },
         {
          "DHQarticle-id": 641,
          "date_processed": "2022-07-22T00:00:00",
          "language_ident": "en"
         },
         {
          "DHQarticle-id": 642,
          "date_processed": "2022-07-22T00:00:00",
          "language_ident": "en"
         },
         {
          "DHQarticle-id": 643,
          "date_processed": "2022-08-05T00:00:00",
          "language_ident": "en"
         },
         {
          "DHQarticle-id": 644,
          "date_processed": "2022-07-22T00:00:00",
          "language_ident": "en"
         },
         {
          "DHQarticle-id": 645,
          "date_processed": "2022-07-22T00:00:00",
          "language_ident": "en"
         },
         {
          "DHQarticle-id": 646,
          "date_processed": "2022-06-25T00:00:00",
          "language_ident": "en"
         },
         {
          "DHQarticle-id": 647,
          "date_processed": "2022-08-05T00:00:00",
          "language_ident": "en"
         },
         {
          "DHQarticle-id": 648,
          "date_processed": "2022-09-16T00:00:00",
          "language_ident": "en"
         },
         {
          "DHQarticle-id": 649,
          "date_processed": "2022-09-16T00:00:00",
          "language_ident": "en"
         },
         {
          "DHQarticle-id": 650,
          "date_processed": "2023-12-15T00:00:00",
          "language_ident": "en"
         },
         {
          "DHQarticle-id": 651,
          "date_processed": "2022-12-22T00:00:00",
          "language_ident": "en"
         },
         {
          "DHQarticle-id": 652,
          "date_processed": "2023-05-26T00:00:00",
          "language_ident": "en"
         },
         {
          "DHQarticle-id": 653,
          "date_processed": "2022-12-22T00:00:00",
          "language_ident": "en"
         },
         {
          "DHQarticle-id": 654,
          "date_processed": "2022-12-22T00:00:00",
          "language_ident": "en"
         },
         {
          "DHQarticle-id": 655,
          "date_processed": "2022-10-14T00:00:00",
          "language_ident": "en"
         },
         {
          "DHQarticle-id": 656,
          "date_processed": "2022-10-14T00:00:00",
          "language_ident": "en"
         },
         {
          "DHQarticle-id": 657,
          "date_processed": "2022-12-22T00:00:00",
          "language_ident": "en"
         },
         {
          "DHQarticle-id": 658,
          "date_processed": "2023-01-06T00:00:00",
          "language_ident": "en"
         },
         {
          "DHQarticle-id": 659,
          "date_processed": "2022-12-22T00:00:00",
          "language_ident": "en"
         },
         {
          "DHQarticle-id": 660,
          "date_processed": "2023-05-26T00:00:00",
          "language_ident": "en"
         },
         {
          "DHQarticle-id": 661,
          "date_processed": "2023-05-26T00:00:00",
          "language_ident": "en"
         },
         {
          "DHQarticle-id": 662,
          "date_processed": "2023-05-26T00:00:00",
          "language_ident": "en"
         },
         {
          "DHQarticle-id": 663,
          "date_processed": "2023-02-03T00:00:00",
          "language_ident": "en"
         },
         {
          "DHQarticle-id": 664,
          "date_processed": "2022-12-23T00:00:00",
          "language_ident": "en"
         },
         {
          "DHQarticle-id": 665,
          "date_processed": "2023-05-26T00:00:00",
          "language_ident": "en"
         },
         {
          "DHQarticle-id": 666,
          "date_processed": "2023-05-26T00:00:00",
          "language_ident": "en"
         },
         {
          "DHQarticle-id": 667,
          "date_processed": "2023-05-26T00:00:00",
          "language_ident": "en"
         },
         {
          "DHQarticle-id": 668,
          "date_processed": "2023-05-26T00:00:00",
          "language_ident": "en"
         },
         {
          "DHQarticle-id": 669,
          "date_processed": "2023-05-26T00:00:00",
          "language_ident": "en"
         },
         {
          "DHQarticle-id": 670,
          "date_processed": "2023-05-26T00:00:00",
          "language_ident": "en"
         },
         {
          "DHQarticle-id": 671,
          "date_processed": "2023-05-26T00:00:00",
          "language_ident": "en"
         },
         {
          "DHQarticle-id": 672,
          "date_processed": "2023-02-03T00:00:00",
          "language_ident": "en"
         },
         {
          "DHQarticle-id": 673,
          "date_processed": "2023-07-07T00:00:00",
          "language_ident": "en"
         },
         {
          "DHQarticle-id": 674,
          "date_processed": "2023-07-28T00:00:00",
          "language_ident": "en"
         },
         {
          "DHQarticle-id": 675,
          "date_processed": "2023-05-31T00:00:00",
          "language_ident": "en"
         },
         {
          "DHQarticle-id": 676,
          "date_processed": "2023-05-26T00:00:00",
          "language_ident": "en"
         },
         {
          "DHQarticle-id": 677,
          "date_processed": "2023-10-06T00:00:00",
          "language_ident": "en"
         },
         {
          "DHQarticle-id": 678,
          "date_processed": "2024-04-26T00:00:00",
          "language_ident": "en"
         },
         {
          "DHQarticle-id": 679,
          "date_processed": "2023-05-26T00:00:00",
          "language_ident": "en"
         },
         {
          "DHQarticle-id": 680,
          "date_processed": "2023-06-21T00:00:00",
          "language_ident": "en"
         },
         {
          "DHQarticle-id": 681,
          "date_processed": "2023-06-21T00:00:00",
          "language_ident": "en"
         },
         {
          "DHQarticle-id": 682,
          "date_processed": "2023-07-28T00:00:00",
          "language_ident": "en"
         },
         {
          "DHQarticle-id": 683,
          "date_processed": "2023-07-28T00:00:00",
          "language_ident": "en"
         },
         {
          "DHQarticle-id": 684,
          "date_processed": "2023-06-22T00:00:00",
          "language_ident": "en"
         },
         {
          "DHQarticle-id": 685,
          "date_processed": "2023-07-07T00:00:00",
          "language_ident": "en"
         },
         {
          "DHQarticle-id": 686,
          "date_processed": "2023-07-07T00:00:00",
          "language_ident": "en"
         },
         {
          "DHQarticle-id": 687,
          "date_processed": "2023-07-07T00:00:00",
          "language_ident": "en"
         },
         {
          "DHQarticle-id": 688,
          "date_processed": "2023-07-07T00:00:00",
          "language_ident": "en"
         },
         {
          "DHQarticle-id": 689,
          "date_processed": "2023-07-07T00:00:00",
          "language_ident": "en"
         },
         {
          "DHQarticle-id": 690,
          "date_processed": "2023-07-07T00:00:00",
          "language_ident": "en"
         },
         {
          "DHQarticle-id": 691,
          "date_processed": "2023-07-07T00:00:00",
          "language_ident": "en"
         },
         {
          "DHQarticle-id": 692,
          "date_processed": "2023-07-07T00:00:00",
          "language_ident": "en"
         },
         {
          "DHQarticle-id": 693,
          "date_processed": "2023-07-20T00:00:00",
          "language_ident": "en"
         },
         {
          "DHQarticle-id": 694,
          "date_processed": "2023-07-20T00:00:00",
          "language_ident": "en"
         },
         {
          "DHQarticle-id": 695,
          "date_processed": "2024-03-14T00:00:00",
          "language_ident": "en"
         },
         {
          "DHQarticle-id": 696,
          "date_processed": "2023-07-20T00:00:00",
          "language_ident": "en"
         },
         {
          "DHQarticle-id": 697,
          "date_processed": "2023-07-28T00:00:00",
          "language_ident": "en"
         },
         {
          "DHQarticle-id": 698,
          "date_processed": "2023-07-20T00:00:00",
          "language_ident": "en"
         },
         {
          "DHQarticle-id": 699,
          "date_processed": "2023-07-20T00:00:00",
          "language_ident": "en"
         },
         {
          "DHQarticle-id": 700,
          "date_processed": "2023-07-20T00:00:00",
          "language_ident": "en"
         },
         {
          "DHQarticle-id": 701,
          "date_processed": "2023-07-10T00:00:00",
          "language_ident": "en"
         },
         {
          "DHQarticle-id": 702,
          "date_processed": "2023-07-20T00:00:00",
          "language_ident": "en"
         },
         {
          "DHQarticle-id": 703,
          "date_processed": "2023-07-10T00:00:00",
          "language_ident": "en"
         },
         {
          "DHQarticle-id": 704,
          "date_processed": "2023-07-10T00:00:00",
          "language_ident": "en"
         },
         {
          "DHQarticle-id": 705,
          "date_processed": "2023-07-20T00:00:00",
          "language_ident": "en"
         },
         {
          "DHQarticle-id": 706,
          "date_processed": "2023-07-20T00:00:00",
          "language_ident": "en"
         },
         {
          "DHQarticle-id": 707,
          "date_processed": "2023-07-20T00:00:00",
          "language_ident": "en"
         },
         {
          "DHQarticle-id": 708,
          "date_processed": "2023-07-10T00:00:00",
          "language_ident": "en"
         },
         {
          "DHQarticle-id": 709,
          "date_processed": "2023-08-10T00:00:00",
          "language_ident": "en"
         },
         {
          "DHQarticle-id": 710,
          "date_processed": "2024-04-26T00:00:00",
          "language_ident": "en"
         },
         {
          "DHQarticle-id": 711,
          "date_processed": "2023-07-10T00:00:00",
          "language_ident": "en"
         },
         {
          "DHQarticle-id": 712,
          "date_processed": "2023-12-15T00:00:00",
          "language_ident": "en"
         },
         {
          "DHQarticle-id": 713,
          "date_processed": "2023-07-19T00:00:00",
          "language_ident": "en"
         },
         {
          "DHQarticle-id": 714,
          "date_processed": "2023-08-10T00:00:00",
          "language_ident": "en"
         },
         {
          "DHQarticle-id": 715,
          "date_processed": "2023-08-24T00:00:00",
          "language_ident": "en"
         },
         {
          "DHQarticle-id": 716,
          "date_processed": "",
          "language_ident": "en"
         },
         {
          "DHQarticle-id": 717,
          "date_processed": "2023-12-15T00:00:00",
          "language_ident": "en"
         },
         {
          "DHQarticle-id": 718,
          "date_processed": "2024-02-27T00:00:00",
          "language_ident": "en"
         },
         {
          "DHQarticle-id": 719,
          "date_processed": "2023-07-28T00:00:00",
          "language_ident": "en"
         },
         {
          "DHQarticle-id": 720,
          "date_processed": "2023-12-20T00:00:00",
          "language_ident": "en"
         },
         {
          "DHQarticle-id": 721,
          "date_processed": "2023-12-15T00:00:00",
          "language_ident": "en"
         },
         {
          "DHQarticle-id": 722,
          "date_processed": "",
          "language_ident": "en"
         },
         {
          "DHQarticle-id": 723,
          "date_processed": "2024-01-12T00:00:00",
          "language_ident": "en"
         },
         {
          "DHQarticle-id": 724,
          "date_processed": "2023-12-15T00:00:00",
          "language_ident": "en"
         },
         {
          "DHQarticle-id": 725,
          "date_processed": "2023-12-15T00:00:00",
          "language_ident": "en"
         },
         {
          "DHQarticle-id": 726,
          "date_processed": "2023-12-15T00:00:00",
          "language_ident": "en"
         },
         {
          "DHQarticle-id": 727,
          "date_processed": "2023-12-15T00:00:00",
          "language_ident": "en"
         },
         {
          "DHQarticle-id": 728,
          "date_processed": "2023-12-15T00:00:00",
          "language_ident": "en"
         },
         {
          "DHQarticle-id": 729,
          "date_processed": "2024-02-23T00:00:00",
          "language_ident": "en"
         },
         {
          "DHQarticle-id": 730,
          "date_processed": "2023-12-18T00:00:00",
          "language_ident": "en"
         },
         {
          "DHQarticle-id": 731,
          "date_processed": "2024-02-23T00:00:00",
          "language_ident": "en"
         },
         {
          "DHQarticle-id": 732,
          "date_processed": "2024-01-05T00:00:00",
          "language_ident": "en"
         },
         {
          "DHQarticle-id": 733,
          "date_processed": "2024-02-23T00:00:00",
          "language_ident": "en"
         },
         {
          "DHQarticle-id": 734,
          "date_processed": "2024-02-23T00:00:00",
          "language_ident": "en"
         },
         {
          "DHQarticle-id": 735,
          "date_processed": "2024-02-07T00:00:00",
          "language_ident": "en"
         },
         {
          "DHQarticle-id": 736,
          "date_processed": "2024-02-23T00:00:00",
          "language_ident": "en"
         },
         {
          "DHQarticle-id": 737,
          "date_processed": "2024-03-29T00:00:00",
          "language_ident": "en"
         },
         {
          "DHQarticle-id": 738,
          "date_processed": "2024-02-23T00:00:00",
          "language_ident": "en"
         },
         {
          "DHQarticle-id": 739,
          "date_processed": "",
          "language_ident": "en"
         },
         {
          "DHQarticle-id": 740,
          "date_processed": "",
          "language_ident": "en"
         },
         {
          "DHQarticle-id": 741,
          "date_processed": "2024-04-26T00:00:00",
          "language_ident": "en"
         },
         {
          "DHQarticle-id": 742,
          "date_processed": "",
          "language_ident": "en"
         },
         {
          "DHQarticle-id": 743,
          "date_processed": "2024-04-26T00:00:00",
          "language_ident": "en"
         },
         {
          "DHQarticle-id": 744,
          "date_processed": "",
          "language_ident": "en"
         },
         {
          "DHQarticle-id": 745,
          "date_processed": "2024-06-05T00:00:00",
          "language_ident": "en"
         },
         {
          "DHQarticle-id": 746,
          "date_processed": "",
          "language_ident": "en"
         },
         {
          "DHQarticle-id": 747,
          "date_processed": "2024-05-24T00:00:00",
          "language_ident": "en"
         },
         {
          "DHQarticle-id": 748,
          "date_processed": "",
          "language_ident": "en"
         },
         {
          "DHQarticle-id": 749,
          "date_processed": "",
          "language_ident": "en"
         },
         {
          "DHQarticle-id": 750,
          "date_processed": "",
          "language_ident": "en"
         },
         {
          "DHQarticle-id": 751,
          "date_processed": "",
          "language_ident": "en"
         },
         {
          "DHQarticle-id": 752,
          "date_processed": "",
          "language_ident": "en"
         },
         {
          "DHQarticle-id": 753,
          "date_processed": "",
          "language_ident": "en"
         },
         {
          "DHQarticle-id": 754,
          "date_processed": "",
          "language_ident": "en"
         },
         {
          "DHQarticle-id": 755,
          "date_processed": "",
          "language_ident": "en"
         },
         {
          "DHQarticle-id": 800,
          "date_processed": "2023-12-15T00:00:00",
          "language_ident": "en"
         },
         {
          "DHQarticle-id": 846,
          "date_processed": "2020-06-18T00:00:00",
          "language_ident": "en"
         }
        ]
       },
       "resolve": {
        "scale": {
         "color": "independent"
        }
       },
       "vconcat": [
        {
         "data": {
          "name": "data-00e7faa97e6e1c26db6e7f76f01e6631"
         },
         "encoding": {
          "color": {
           "field": "articleType",
           "type": "nominal"
          },
          "tooltip": [
           {
            "field": "articleType",
            "type": "nominal"
           },
           {
            "field": "date_processed",
            "type": "temporal"
           }
          ],
          "x": {
           "field": "date_processed",
           "type": "temporal"
          },
          "y": {
           "aggregate": "count",
           "type": "quantitative"
          }
         },
         "height": 300,
         "mark": {
          "type": "bar"
         },
         "title": "Article Types by Date",
         "width": 600
        },
        {
         "data": {
          "name": "data-401a818c26f710c4e1e26bbf750858dd"
         },
         "encoding": {
          "color": {
           "field": "language_ident",
           "type": "nominal"
          },
          "tooltip": [
           {
            "field": "language_ident",
            "type": "nominal"
           },
           {
            "field": "date_processed",
            "type": "temporal"
           }
          ],
          "x": {
           "field": "date_processed",
           "type": "temporal"
          },
          "y": {
           "aggregate": "count",
           "type": "quantitative"
          }
         },
         "height": 300,
         "mark": {
          "type": "bar"
         },
         "title": "Languages by Date",
         "width": 600
        }
       ]
      },
      "text/plain": [
       "<VegaLite 5 object>\n",
       "\n",
       "If you see this message, it means the renderer has not been properly enabled\n",
       "for the frontend that you are using. For more information, see\n",
       "https://altair-viz.github.io/user_guide/display_frontends.html#troubleshooting\n"
      ]
     },
     "execution_count": 5,
     "metadata": {},
     "output_type": "execute_result"
    }
   ],
   "source": [
    "article_type_chart = alt.Chart(processed_df[['date_processed', 'language_ident', 'DHQarticle-id', 'articleType']]).mark_bar().encode(\n",
    "    x='date_processed',\n",
    "    y='count()',\n",
    "    color='articleType',\n",
    "\ttooltip=['articleType', 'date_processed']\n",
    ").properties(\n",
    "    width=600,\n",
    "    height=300,\n",
    "    title='Article Types by Date'\n",
    ")\n",
    "\n",
    "language_ident_chart = alt.Chart(processed_df[['date_processed', 'language_ident', 'DHQarticle-id']]).mark_bar().encode(\n",
    "    x='date_processed',\n",
    "    y='count()',\n",
    "    color='language_ident',\n",
    "\ttooltip=['language_ident', 'date_processed']\n",
    ").properties(\n",
    "    width=600,\n",
    "    height=300,\n",
    "    title='Languages by Date'\n",
    ")\n",
    "\n",
    "alt.vconcat(article_type_chart, language_ident_chart).resolve_scale(color='independent')"
   ]
  },
  {
   "cell_type": "code",
   "execution_count": null,
   "metadata": {},
   "outputs": [],
   "source": []
  }
 ],
 "metadata": {
  "kernelspec": {
   "display_name": "data-work-env",
   "language": "python",
   "name": "python3"
  },
  "language_info": {
   "codemirror_mode": {
    "name": "ipython",
    "version": 3
   },
   "file_extension": ".py",
   "mimetype": "text/x-python",
   "name": "python",
   "nbconvert_exporter": "python",
   "pygments_lexer": "ipython3",
   "version": "3.9.20"
  },
  "orig_nbformat": 4
 },
 "nbformat": 4,
 "nbformat_minor": 2
}
